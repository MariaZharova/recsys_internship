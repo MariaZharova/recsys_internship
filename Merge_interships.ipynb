{
 "cells": [
  {
   "cell_type": "code",
   "execution_count": 9,
   "id": "31bb41fc",
   "metadata": {},
   "outputs": [],
   "source": [
    "import pandas as pd\n",
    "import numpy as np\n",
    "import json"
   ]
  },
  {
   "cell_type": "markdown",
   "id": "4efc574d",
   "metadata": {},
   "source": [
    "## Общая предобработка"
   ]
  },
  {
   "cell_type": "code",
   "execution_count": 2,
   "id": "bd785920",
   "metadata": {},
   "outputs": [
    {
     "name": "stdout",
     "output_type": "stream",
     "text": [
      "(30000000, 8) (30000000, 8) (22463346, 8)\n"
     ]
    }
   ],
   "source": [
    "data1 = pd.read_csv('internship_clickstream_data_1.gzip', compression='gzip')\n",
    "data2 = pd.read_csv('internship_clickstream_data_2.gzip', compression='gzip')\n",
    "data3 = pd.read_csv('internship_clickstream_data_3.gzip', compression='gzip')\n",
    "print(data1.shape, data2.shape, data3.shape)"
   ]
  },
  {
   "cell_type": "code",
   "execution_count": 3,
   "id": "b41444bb",
   "metadata": {},
   "outputs": [
    {
     "name": "stdout",
     "output_type": "stream",
     "text": [
      "(22585345, 8) (22559623, 8) (17427910, 8)\n",
      "(5602387, 8) (5352304, 8) (3440925, 8)\n",
      "after concating: (14395616, 8)\n",
      "after drop duplicates: (12581794, 8)\n"
     ]
    }
   ],
   "source": [
    "# drop duplicates\n",
    "data1.drop_duplicates(subset=['uid', 'offer_id'], inplace=True)\n",
    "data2.drop_duplicates(subset=['uid', 'offer_id'], inplace=True)\n",
    "data3.drop_duplicates(subset=['uid', 'offer_id'], inplace=True)\n",
    "print(data1.shape, data2.shape, data3.shape)\n",
    "\n",
    "# filter by date\n",
    "data1['timestamp'] = pd.to_datetime(data1['timestamp'])\n",
    "data2['timestamp'] = pd.to_datetime(data2['timestamp'])\n",
    "data3['timestamp'] = pd.to_datetime(data3['timestamp'])\n",
    "data1 = data1[data1['timestamp'] < pd.to_datetime('2022-07-10 00:00:00.020000')]\n",
    "data2 = data2[data2['timestamp'] < pd.to_datetime('2022-07-10 00:00:00.020000')]\n",
    "data3 = data3[data3['timestamp'] < pd.to_datetime('2022-07-10 00:00:00.020000')]\n",
    "print(data1.shape, data2.shape, data3.shape)\n",
    "\n",
    "data = pd.concat([data1, data2, data3])\n",
    "print('after concating:', data.shape)\n",
    "data.drop_duplicates(subset=['uid', 'offer_id'], inplace=True)\n",
    "print('after drop duplicates:', data.shape)"
   ]
  },
  {
   "cell_type": "code",
   "execution_count": 4,
   "id": "d6c40408",
   "metadata": {},
   "outputs": [],
   "source": [
    "# check what offers is in embedding file\n",
    "embedding_ID = np.load('embeddings_ID.npy')\n",
    "data = data[data['offer_id'].isin(embedding_ID)]"
   ]
  },
  {
   "cell_type": "code",
   "execution_count": 5,
   "id": "70e67f27",
   "metadata": {},
   "outputs": [
    {
     "name": "stdout",
     "output_type": "stream",
     "text": [
      "(8663647, 8)\n"
     ]
    }
   ],
   "source": [
    "# take users that have > 5 clicks\n",
    "while not (data['offer_id'].value_counts()[data['offer_id'].value_counts() <= 5].empty) or \\\n",
    "      not (data['uid'].value_counts()[data['uid'].value_counts() <= 5].empty):\n",
    "    offer_ids = data['offer_id'].value_counts()[data['offer_id'].value_counts() > 5].index\n",
    "    data = data[data['offer_id'].isin(offer_ids)]\n",
    "    uids = data['uid'].value_counts()[data['uid'].value_counts() > 5].index\n",
    "    data = data[data['uid'].isin(uids)]\n",
    "print(data.shape)"
   ]
  },
  {
   "cell_type": "markdown",
   "id": "32796186",
   "metadata": {},
   "source": [
    "## Для обычной модели SASRec"
   ]
  },
  {
   "cell_type": "code",
   "execution_count": 6,
   "id": "eac04773",
   "metadata": {},
   "outputs": [
    {
     "name": "stdout",
     "output_type": "stream",
     "text": [
      "(8663647, 10)\n"
     ]
    },
    {
     "data": {
      "text/html": [
       "<div>\n",
       "<style scoped>\n",
       "    .dataframe tbody tr th:only-of-type {\n",
       "        vertical-align: middle;\n",
       "    }\n",
       "\n",
       "    .dataframe tbody tr th {\n",
       "        vertical-align: top;\n",
       "    }\n",
       "\n",
       "    .dataframe thead th {\n",
       "        text-align: right;\n",
       "    }\n",
       "</style>\n",
       "<table border=\"1\" class=\"dataframe\">\n",
       "  <thead>\n",
       "    <tr style=\"text-align: right;\">\n",
       "      <th></th>\n",
       "      <th>timestamp</th>\n",
       "      <th>hit_id</th>\n",
       "      <th>uid</th>\n",
       "      <th>platform</th>\n",
       "      <th>event_name</th>\n",
       "      <th>screen</th>\n",
       "      <th>offer_id</th>\n",
       "      <th>ptn_dadd</th>\n",
       "      <th>offer_id_enc</th>\n",
       "      <th>uid_enc</th>\n",
       "    </tr>\n",
       "  </thead>\n",
       "  <tbody>\n",
       "    <tr>\n",
       "      <th>13567692</th>\n",
       "      <td>2022-07-03 10:31:36.281</td>\n",
       "      <td>172f4ac946ff4677</td>\n",
       "      <td>49913337</td>\n",
       "      <td>ios</td>\n",
       "      <td>OpenOfferScreen</td>\n",
       "      <td>RecommendationsScreen</td>\n",
       "      <td>271821092</td>\n",
       "      <td>2022-07-03</td>\n",
       "      <td>29929</td>\n",
       "      <td>1</td>\n",
       "    </tr>\n",
       "    <tr>\n",
       "      <th>13567695</th>\n",
       "      <td>2022-07-03 10:31:53.808</td>\n",
       "      <td>57e6bd3399b94d2f</td>\n",
       "      <td>49913337</td>\n",
       "      <td>ios</td>\n",
       "      <td>OpenOfferScreen</td>\n",
       "      <td>RecommendationsScreen</td>\n",
       "      <td>271133138</td>\n",
       "      <td>2022-07-03</td>\n",
       "      <td>7028</td>\n",
       "      <td>1</td>\n",
       "    </tr>\n",
       "    <tr>\n",
       "      <th>60022</th>\n",
       "      <td>2022-07-03 10:32:56.753</td>\n",
       "      <td>b2071702a85d48e3</td>\n",
       "      <td>49913337</td>\n",
       "      <td>ios</td>\n",
       "      <td>OpenOfferScreen</td>\n",
       "      <td>RecommendationsScreen</td>\n",
       "      <td>273896418</td>\n",
       "      <td>2022-07-03</td>\n",
       "      <td>4712</td>\n",
       "      <td>1</td>\n",
       "    </tr>\n",
       "    <tr>\n",
       "      <th>29665848</th>\n",
       "      <td>2022-07-03 10:33:42.214</td>\n",
       "      <td>64508d9634914757</td>\n",
       "      <td>49913337</td>\n",
       "      <td>ios</td>\n",
       "      <td>OpenOfferScreen</td>\n",
       "      <td>RecommendationsScreen</td>\n",
       "      <td>274877165</td>\n",
       "      <td>2022-07-03</td>\n",
       "      <td>45057</td>\n",
       "      <td>1</td>\n",
       "    </tr>\n",
       "    <tr>\n",
       "      <th>13567714</th>\n",
       "      <td>2022-07-03 10:36:08.711</td>\n",
       "      <td>85aa6497a7484120</td>\n",
       "      <td>49913337</td>\n",
       "      <td>ios</td>\n",
       "      <td>OpenOfferScreen</td>\n",
       "      <td>RecommendationsScreen</td>\n",
       "      <td>274931249</td>\n",
       "      <td>2022-07-03</td>\n",
       "      <td>19744</td>\n",
       "      <td>1</td>\n",
       "    </tr>\n",
       "  </tbody>\n",
       "</table>\n",
       "</div>"
      ],
      "text/plain": [
       "                       timestamp            hit_id       uid platform  \\\n",
       "13567692 2022-07-03 10:31:36.281  172f4ac946ff4677  49913337      ios   \n",
       "13567695 2022-07-03 10:31:53.808  57e6bd3399b94d2f  49913337      ios   \n",
       "60022    2022-07-03 10:32:56.753  b2071702a85d48e3  49913337      ios   \n",
       "29665848 2022-07-03 10:33:42.214  64508d9634914757  49913337      ios   \n",
       "13567714 2022-07-03 10:36:08.711  85aa6497a7484120  49913337      ios   \n",
       "\n",
       "               event_name                 screen   offer_id    ptn_dadd  \\\n",
       "13567692  OpenOfferScreen  RecommendationsScreen  271821092  2022-07-03   \n",
       "13567695  OpenOfferScreen  RecommendationsScreen  271133138  2022-07-03   \n",
       "60022     OpenOfferScreen  RecommendationsScreen  273896418  2022-07-03   \n",
       "29665848  OpenOfferScreen  RecommendationsScreen  274877165  2022-07-03   \n",
       "13567714  OpenOfferScreen  RecommendationsScreen  274931249  2022-07-03   \n",
       "\n",
       "          offer_id_enc  uid_enc  \n",
       "13567692         29929        1  \n",
       "13567695          7028        1  \n",
       "60022             4712        1  \n",
       "29665848         45057        1  \n",
       "13567714         19744        1  "
      ]
     },
     "execution_count": 6,
     "metadata": {},
     "output_type": "execute_result"
    }
   ],
   "source": [
    "# encode, start with 1 - SASRec condition\n",
    "offer_encoder = {off: ind for ind, off in enumerate(data['offer_id'].unique())}\n",
    "data['offer_id_enc'] = data['offer_id'].map(offer_encoder) + 1\n",
    "uid_encoder = {uid: ind for ind, uid in enumerate(data['uid'].unique())}\n",
    "data['uid_enc'] = data['uid'].map(uid_encoder) + 1\n",
    "\n",
    "# sort by time and user id\n",
    "data.sort_values(by=['uid_enc', 'timestamp'], inplace=True)\n",
    "print(data.shape)\n",
    "data.head(5)"
   ]
  },
  {
   "cell_type": "code",
   "execution_count": 7,
   "id": "0512893c",
   "metadata": {},
   "outputs": [
    {
     "data": {
      "text/plain": [
       "388607"
      ]
     },
     "execution_count": 7,
     "metadata": {},
     "output_type": "execute_result"
    }
   ],
   "source": [
    "# для параметра модели\n",
    "len(set(data['offer_id_enc']))  "
   ]
  },
  {
   "cell_type": "code",
   "execution_count": 8,
   "id": "cd41fbc2",
   "metadata": {},
   "outputs": [],
   "source": [
    "# create .txt file for input to model\n",
    "data[['uid_enc', 'offer_id_enc']].to_csv('out.txt', sep='\\t', header=False, index=False)"
   ]
  },
  {
   "cell_type": "markdown",
   "id": "7e4e51bb",
   "metadata": {},
   "source": [
    "## Для модели SASRec с эмбеддингами"
   ]
  },
  {
   "cell_type": "code",
   "execution_count": 11,
   "id": "e7fa3733",
   "metadata": {},
   "outputs": [],
   "source": [
    "data.drop(['uid_enc', 'offer_id_enc'], axis=1, inplace=True)"
   ]
  },
  {
   "cell_type": "code",
   "execution_count": 12,
   "id": "fffd1709",
   "metadata": {},
   "outputs": [
    {
     "data": {
      "text/plain": [
       "(2778005, 25)"
      ]
     },
     "execution_count": 12,
     "metadata": {},
     "output_type": "execute_result"
    }
   ],
   "source": [
    "embeddings = np.load('embeddings_num_only.npy')\n",
    "embeddings.shape"
   ]
  },
  {
   "cell_type": "code",
   "execution_count": 13,
   "id": "9cf9800d",
   "metadata": {},
   "outputs": [],
   "source": [
    "def filter_embed(embeds, offers):\n",
    "    \"\"\"\n",
    "        Filter embedding file, leaves only those that are in the dataset\n",
    "        INPUT: embeds, offers - numpy arrays (of lists)\n",
    "        OUTPUT: modified dataset\n",
    "    \"\"\"\n",
    "    emb_id = embeds[:, 0].astype(int)\n",
    "    mask = np.isin(emb_id, offers).reshape((embeds.shape[0], 1))\n",
    "    embeds = np.hstack((embeds, mask))\n",
    "    embeds = embeds[embeds[:, -1] != 0]\n",
    "    return embeds[:, :-1]\n",
    "offers = list(set(data['offer_id']))\n",
    "embeddings = filter_embed(embeddings, offers)"
   ]
  },
  {
   "cell_type": "code",
   "execution_count": 14,
   "id": "a34b4db7",
   "metadata": {},
   "outputs": [
    {
     "name": "stdout",
     "output_type": "stream",
     "text": [
      "(8663647, 10)\n"
     ]
    },
    {
     "data": {
      "text/html": [
       "<div>\n",
       "<style scoped>\n",
       "    .dataframe tbody tr th:only-of-type {\n",
       "        vertical-align: middle;\n",
       "    }\n",
       "\n",
       "    .dataframe tbody tr th {\n",
       "        vertical-align: top;\n",
       "    }\n",
       "\n",
       "    .dataframe thead th {\n",
       "        text-align: right;\n",
       "    }\n",
       "</style>\n",
       "<table border=\"1\" class=\"dataframe\">\n",
       "  <thead>\n",
       "    <tr style=\"text-align: right;\">\n",
       "      <th></th>\n",
       "      <th>timestamp</th>\n",
       "      <th>hit_id</th>\n",
       "      <th>uid</th>\n",
       "      <th>platform</th>\n",
       "      <th>event_name</th>\n",
       "      <th>screen</th>\n",
       "      <th>offer_id</th>\n",
       "      <th>ptn_dadd</th>\n",
       "      <th>offer_id_enc</th>\n",
       "      <th>uid_enc</th>\n",
       "    </tr>\n",
       "  </thead>\n",
       "  <tbody>\n",
       "    <tr>\n",
       "      <th>13567692</th>\n",
       "      <td>2022-07-03 10:31:36.281</td>\n",
       "      <td>172f4ac946ff4677</td>\n",
       "      <td>49913337</td>\n",
       "      <td>ios</td>\n",
       "      <td>OpenOfferScreen</td>\n",
       "      <td>RecommendationsScreen</td>\n",
       "      <td>271821092</td>\n",
       "      <td>2022-07-03</td>\n",
       "      <td>161485</td>\n",
       "      <td>1</td>\n",
       "    </tr>\n",
       "    <tr>\n",
       "      <th>13567695</th>\n",
       "      <td>2022-07-03 10:31:53.808</td>\n",
       "      <td>57e6bd3399b94d2f</td>\n",
       "      <td>49913337</td>\n",
       "      <td>ios</td>\n",
       "      <td>OpenOfferScreen</td>\n",
       "      <td>RecommendationsScreen</td>\n",
       "      <td>271133138</td>\n",
       "      <td>2022-07-03</td>\n",
       "      <td>183091</td>\n",
       "      <td>1</td>\n",
       "    </tr>\n",
       "    <tr>\n",
       "      <th>60022</th>\n",
       "      <td>2022-07-03 10:32:56.753</td>\n",
       "      <td>b2071702a85d48e3</td>\n",
       "      <td>49913337</td>\n",
       "      <td>ios</td>\n",
       "      <td>OpenOfferScreen</td>\n",
       "      <td>RecommendationsScreen</td>\n",
       "      <td>273896418</td>\n",
       "      <td>2022-07-03</td>\n",
       "      <td>347437</td>\n",
       "      <td>1</td>\n",
       "    </tr>\n",
       "    <tr>\n",
       "      <th>29665848</th>\n",
       "      <td>2022-07-03 10:33:42.214</td>\n",
       "      <td>64508d9634914757</td>\n",
       "      <td>49913337</td>\n",
       "      <td>ios</td>\n",
       "      <td>OpenOfferScreen</td>\n",
       "      <td>RecommendationsScreen</td>\n",
       "      <td>274877165</td>\n",
       "      <td>2022-07-03</td>\n",
       "      <td>109799</td>\n",
       "      <td>1</td>\n",
       "    </tr>\n",
       "    <tr>\n",
       "      <th>13567714</th>\n",
       "      <td>2022-07-03 10:36:08.711</td>\n",
       "      <td>85aa6497a7484120</td>\n",
       "      <td>49913337</td>\n",
       "      <td>ios</td>\n",
       "      <td>OpenOfferScreen</td>\n",
       "      <td>RecommendationsScreen</td>\n",
       "      <td>274931249</td>\n",
       "      <td>2022-07-03</td>\n",
       "      <td>200947</td>\n",
       "      <td>1</td>\n",
       "    </tr>\n",
       "  </tbody>\n",
       "</table>\n",
       "</div>"
      ],
      "text/plain": [
       "                       timestamp            hit_id       uid platform  \\\n",
       "13567692 2022-07-03 10:31:36.281  172f4ac946ff4677  49913337      ios   \n",
       "13567695 2022-07-03 10:31:53.808  57e6bd3399b94d2f  49913337      ios   \n",
       "60022    2022-07-03 10:32:56.753  b2071702a85d48e3  49913337      ios   \n",
       "29665848 2022-07-03 10:33:42.214  64508d9634914757  49913337      ios   \n",
       "13567714 2022-07-03 10:36:08.711  85aa6497a7484120  49913337      ios   \n",
       "\n",
       "               event_name                 screen   offer_id    ptn_dadd  \\\n",
       "13567692  OpenOfferScreen  RecommendationsScreen  271821092  2022-07-03   \n",
       "13567695  OpenOfferScreen  RecommendationsScreen  271133138  2022-07-03   \n",
       "60022     OpenOfferScreen  RecommendationsScreen  273896418  2022-07-03   \n",
       "29665848  OpenOfferScreen  RecommendationsScreen  274877165  2022-07-03   \n",
       "13567714  OpenOfferScreen  RecommendationsScreen  274931249  2022-07-03   \n",
       "\n",
       "          offer_id_enc  uid_enc  \n",
       "13567692        161485        1  \n",
       "13567695        183091        1  \n",
       "60022           347437        1  \n",
       "29665848        109799        1  \n",
       "13567714        200947        1  "
      ]
     },
     "execution_count": 14,
     "metadata": {},
     "output_type": "execute_result"
    }
   ],
   "source": [
    "# encode\n",
    "offer_encoder = dict(zip(embeddings[:, 0], list(range(1, embeddings.shape[0] + 1))))\n",
    "data['offer_id_enc'] = data['offer_id'].map(offer_encoder)\n",
    "uid_encoder = {uid: ind for ind, uid in enumerate(data['uid'].unique())}\n",
    "data['uid_enc'] = data['uid'].map(uid_encoder) + 1\n",
    "# sort by time and user id\n",
    "data['timestamp'] = pd.to_datetime(data['timestamp'])\n",
    "data.sort_values(by=['uid_enc', 'timestamp'], inplace=True)\n",
    "print(data.shape)\n",
    "data.head(5)"
   ]
  },
  {
   "cell_type": "code",
   "execution_count": 15,
   "id": "60a9cfc2",
   "metadata": {},
   "outputs": [
    {
     "data": {
      "text/plain": [
       "[1, 2, 3, 4, 5, 6, 7, 8, 9, 10]"
      ]
     },
     "execution_count": 15,
     "metadata": {},
     "output_type": "execute_result"
    }
   ],
   "source": [
    "sorted(list(set(data['offer_id_enc'])))[:10]"
   ]
  },
  {
   "cell_type": "code",
   "execution_count": 16,
   "id": "bc05ed5e",
   "metadata": {},
   "outputs": [],
   "source": [
    "# create .txt file for input to model\n",
    "data[['uid_enc', 'offer_id_enc']].to_csv('out_e.txt', sep='\\t', header=False, index=False)"
   ]
  },
  {
   "cell_type": "code",
   "execution_count": 17,
   "id": "8d98c1ef",
   "metadata": {},
   "outputs": [],
   "source": [
    "# save embeddings file\n",
    "np.save('embeddings_filtered_num_only.npy', embeddings)  "
   ]
  },
  {
   "cell_type": "code",
   "execution_count": 18,
   "id": "eb6b6470",
   "metadata": {},
   "outputs": [
    {
     "data": {
      "text/plain": [
       "(388607, 25)"
      ]
     },
     "execution_count": 18,
     "metadata": {},
     "output_type": "execute_result"
    }
   ],
   "source": [
    "embeddings.shape"
   ]
  },
  {
   "cell_type": "code",
   "execution_count": 19,
   "id": "562c373b",
   "metadata": {},
   "outputs": [],
   "source": [
    "with open('mapping_withEmb.json', 'w') as f:\n",
    "    json.dump(offer_encoder, f)"
   ]
  }
 ],
 "metadata": {
  "kernelspec": {
   "display_name": "Python 3 (ipykernel)",
   "language": "python",
   "name": "python3"
  },
  "language_info": {
   "codemirror_mode": {
    "name": "ipython",
    "version": 3
   },
   "file_extension": ".py",
   "mimetype": "text/x-python",
   "name": "python",
   "nbconvert_exporter": "python",
   "pygments_lexer": "ipython3",
   "version": "3.9.7"
  }
 },
 "nbformat": 4,
 "nbformat_minor": 5
}
