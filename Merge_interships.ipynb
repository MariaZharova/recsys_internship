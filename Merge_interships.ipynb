{
 "cells": [
  {
   "cell_type": "code",
   "execution_count": 12,
   "id": "bf8cdd15",
   "metadata": {},
   "outputs": [],
   "source": [
    "import pandas as pd\n",
    "import numpy as np"
   ]
  },
  {
   "cell_type": "markdown",
   "id": "b650e1da",
   "metadata": {},
   "source": [
    "## Общая предобработка"
   ]
  },
  {
   "cell_type": "code",
   "execution_count": 3,
   "id": "aeb772b9",
   "metadata": {},
   "outputs": [
    {
     "name": "stdout",
     "output_type": "stream",
     "text": [
      "(30000000, 8) (30000000, 8) (22463346, 8)\n"
     ]
    }
   ],
   "source": [
    "data1 = pd.read_csv('internship_clickstream_data_1.gzip', compression='gzip')\n",
    "data2 = pd.read_csv('internship_clickstream_data_2.gzip', compression='gzip')\n",
    "data3 = pd.read_csv('internship_clickstream_data_3.gzip', compression='gzip')\n",
    "print(data1.shape, data2.shape, data3.shape)"
   ]
  },
  {
   "cell_type": "code",
   "execution_count": 4,
   "id": "589c56be",
   "metadata": {},
   "outputs": [
    {
     "name": "stdout",
     "output_type": "stream",
     "text": [
      "(22585345, 8) (22559623, 8) (17427910, 8)\n",
      "after concating: (62572878, 8)\n",
      "after drop duplicates: (52774654, 8)\n"
     ]
    }
   ],
   "source": [
    "# drop duplicates\n",
    "data1.drop_duplicates(subset=['uid', 'offer_id'], inplace=True)\n",
    "data2.drop_duplicates(subset=['uid', 'offer_id'], inplace=True)\n",
    "data3.drop_duplicates(subset=['uid', 'offer_id'], inplace=True)\n",
    "print(data1.shape, data2.shape, data3.shape)\n",
    "\n",
    "data = pd.concat([data1, data2, data3])\n",
    "print('after concating:', data.shape)\n",
    "data.drop_duplicates(subset=['uid', 'offer_id'], inplace=True)\n",
    "print('after drop duplicates:', data.shape)"
   ]
  },
  {
   "cell_type": "code",
   "execution_count": 5,
   "id": "c1ad1ac7",
   "metadata": {},
   "outputs": [
    {
     "name": "stdout",
     "output_type": "stream",
     "text": [
      "(48045898, 8)\n"
     ]
    }
   ],
   "source": [
    "# take users that have > 5 clicks\n",
    "while not (data['offer_id'].value_counts()[data['offer_id'].value_counts() <= 5].empty) or \\\n",
    "      not (data['uid'].value_counts()[data['uid'].value_counts() <= 5].empty):\n",
    "    offer_ids = data['offer_id'].value_counts()[data['offer_id'].value_counts() > 5].index\n",
    "    data = data[data['offer_id'].isin(offer_ids)]\n",
    "    uids = data['uid'].value_counts()[data['uid'].value_counts() > 5].index\n",
    "    data = data[data['uid'].isin(uids)]\n",
    "print(data.shape)"
   ]
  },
  {
   "cell_type": "markdown",
   "id": "376e59cb",
   "metadata": {},
   "source": [
    "## Для обычной модели SASRec"
   ]
  },
  {
   "cell_type": "code",
   "execution_count": 13,
   "id": "8570aa64",
   "metadata": {},
   "outputs": [],
   "source": [
    "embedding_ID = np.load('embeddings_ID.npy')\n",
    "data = data[data['offer_id'].isin(embedding_ID)]"
   ]
  },
  {
   "cell_type": "code",
   "execution_count": 15,
   "id": "aa44404d",
   "metadata": {},
   "outputs": [
    {
     "name": "stdout",
     "output_type": "stream",
     "text": [
      "(47998759, 8)\n",
      "(47998759, 10)\n"
     ]
    },
    {
     "data": {
      "text/html": [
       "<div>\n",
       "<style scoped>\n",
       "    .dataframe tbody tr th:only-of-type {\n",
       "        vertical-align: middle;\n",
       "    }\n",
       "\n",
       "    .dataframe tbody tr th {\n",
       "        vertical-align: top;\n",
       "    }\n",
       "\n",
       "    .dataframe thead th {\n",
       "        text-align: right;\n",
       "    }\n",
       "</style>\n",
       "<table border=\"1\" class=\"dataframe\">\n",
       "  <thead>\n",
       "    <tr style=\"text-align: right;\">\n",
       "      <th></th>\n",
       "      <th>timestamp</th>\n",
       "      <th>hit_id</th>\n",
       "      <th>uid</th>\n",
       "      <th>platform</th>\n",
       "      <th>event_name</th>\n",
       "      <th>screen</th>\n",
       "      <th>offer_id</th>\n",
       "      <th>ptn_dadd</th>\n",
       "      <th>offer_id_enc</th>\n",
       "      <th>uid_enc</th>\n",
       "    </tr>\n",
       "  </thead>\n",
       "  <tbody>\n",
       "    <tr>\n",
       "      <th>27178479</th>\n",
       "      <td>2022-07-11 16:33:51.215</td>\n",
       "      <td>ed5a74a0255e4554</td>\n",
       "      <td>82662998</td>\n",
       "      <td>android</td>\n",
       "      <td>OpenOfferScreen</td>\n",
       "      <td>SearchResultsList</td>\n",
       "      <td>272458509</td>\n",
       "      <td>2022-07-11</td>\n",
       "      <td>92297</td>\n",
       "      <td>1</td>\n",
       "    </tr>\n",
       "    <tr>\n",
       "      <th>2667250</th>\n",
       "      <td>2022-07-11 16:35:28.448</td>\n",
       "      <td>cc6ee700d12b4996</td>\n",
       "      <td>82662998</td>\n",
       "      <td>android</td>\n",
       "      <td>OpenOfferScreen</td>\n",
       "      <td>SearchResultsList</td>\n",
       "      <td>269087803</td>\n",
       "      <td>2022-07-11</td>\n",
       "      <td>19263</td>\n",
       "      <td>1</td>\n",
       "    </tr>\n",
       "    <tr>\n",
       "      <th>2890965</th>\n",
       "      <td>2022-07-11 16:37:37.318</td>\n",
       "      <td>46eb5561d012447f</td>\n",
       "      <td>82662998</td>\n",
       "      <td>android</td>\n",
       "      <td>OpenOfferScreen</td>\n",
       "      <td>SearchResultsList</td>\n",
       "      <td>275502080</td>\n",
       "      <td>2022-07-11</td>\n",
       "      <td>86722</td>\n",
       "      <td>1</td>\n",
       "    </tr>\n",
       "    <tr>\n",
       "      <th>6670181</th>\n",
       "      <td>2022-07-11 16:55:04.947</td>\n",
       "      <td>5bf9a13d64fb4773</td>\n",
       "      <td>82662998</td>\n",
       "      <td>android</td>\n",
       "      <td>OpenOfferScreen</td>\n",
       "      <td>SearchResultsList</td>\n",
       "      <td>275170855</td>\n",
       "      <td>2022-07-11</td>\n",
       "      <td>1936</td>\n",
       "      <td>1</td>\n",
       "    </tr>\n",
       "    <tr>\n",
       "      <th>4294839</th>\n",
       "      <td>2022-07-13 20:05:53.175</td>\n",
       "      <td>7b60cb84c9634378</td>\n",
       "      <td>82662998</td>\n",
       "      <td>android</td>\n",
       "      <td>OpenOfferScreen</td>\n",
       "      <td>Undefined</td>\n",
       "      <td>275743706</td>\n",
       "      <td>2022-07-13</td>\n",
       "      <td>424152</td>\n",
       "      <td>1</td>\n",
       "    </tr>\n",
       "  </tbody>\n",
       "</table>\n",
       "</div>"
      ],
      "text/plain": [
       "                       timestamp            hit_id       uid platform  \\\n",
       "27178479 2022-07-11 16:33:51.215  ed5a74a0255e4554  82662998  android   \n",
       "2667250  2022-07-11 16:35:28.448  cc6ee700d12b4996  82662998  android   \n",
       "2890965  2022-07-11 16:37:37.318  46eb5561d012447f  82662998  android   \n",
       "6670181  2022-07-11 16:55:04.947  5bf9a13d64fb4773  82662998  android   \n",
       "4294839  2022-07-13 20:05:53.175  7b60cb84c9634378  82662998  android   \n",
       "\n",
       "               event_name             screen   offer_id    ptn_dadd  \\\n",
       "27178479  OpenOfferScreen  SearchResultsList  272458509  2022-07-11   \n",
       "2667250   OpenOfferScreen  SearchResultsList  269087803  2022-07-11   \n",
       "2890965   OpenOfferScreen  SearchResultsList  275502080  2022-07-11   \n",
       "6670181   OpenOfferScreen  SearchResultsList  275170855  2022-07-11   \n",
       "4294839   OpenOfferScreen          Undefined  275743706  2022-07-13   \n",
       "\n",
       "          offer_id_enc  uid_enc  \n",
       "27178479         92297        1  \n",
       "2667250          19263        1  \n",
       "2890965          86722        1  \n",
       "6670181           1936        1  \n",
       "4294839         424152        1  "
      ]
     },
     "execution_count": 15,
     "metadata": {},
     "output_type": "execute_result"
    }
   ],
   "source": [
    "# one more time\n",
    "while not (data['offer_id'].value_counts()[data['offer_id'].value_counts() <= 5].empty) or \\\n",
    "      not (data['uid'].value_counts()[data['uid'].value_counts() <= 5].empty):\n",
    "    offer_ids = data['offer_id'].value_counts()[data['offer_id'].value_counts() > 5].index\n",
    "    data = data[data['offer_id'].isin(offer_ids)]\n",
    "    uids = data['uid'].value_counts()[data['uid'].value_counts() > 5].index\n",
    "    data = data[data['uid'].isin(uids)]\n",
    "print(data.shape)\n",
    "\n",
    "# encode, start with 1 - условие SASRec\n",
    "offer_encoder = {off: ind for ind, off in enumerate(data['offer_id'].unique())}\n",
    "data['offer_id_enc'] = data['offer_id'].map(offer_encoder) + 1\n",
    "uid_encoder = {uid: ind for ind, uid in enumerate(data['uid'].unique())}\n",
    "data['uid_enc'] = data['uid'].map(uid_encoder) + 1\n",
    "\n",
    "# sort by time and user id\n",
    "data['timestamp'] = pd.to_datetime(data['timestamp'])\n",
    "data.sort_values(by=['uid_enc', 'timestamp'], inplace=True)\n",
    "print(data.shape)\n",
    "data.head(5)"
   ]
  },
  {
   "cell_type": "code",
   "execution_count": 18,
   "id": "3b55f134",
   "metadata": {},
   "outputs": [
    {
     "data": {
      "text/plain": [
       "1252955"
      ]
     },
     "execution_count": 18,
     "metadata": {},
     "output_type": "execute_result"
    }
   ],
   "source": [
    "# для параметра модели\n",
    "len(set(data['offer_id_enc']))  "
   ]
  },
  {
   "cell_type": "code",
   "execution_count": 16,
   "id": "bd42c167",
   "metadata": {},
   "outputs": [],
   "source": [
    "# create .txt file for input to model\n",
    "data[['offer_id_enc', 'uid_enc']].to_csv('out.txt', sep='\\t', header=False, index=False)"
   ]
  },
  {
   "cell_type": "markdown",
   "id": "056ccd94",
   "metadata": {},
   "source": [
    "## Для модели SASRec с эмбеддингами"
   ]
  },
  {
   "cell_type": "code",
   "execution_count": 20,
   "id": "fded844d",
   "metadata": {},
   "outputs": [],
   "source": [
    "data.drop(['offer_id_enc', 'uid_enc'], axis=1, inplace=True)"
   ]
  },
  {
   "cell_type": "code",
   "execution_count": 21,
   "id": "1a4c00b5",
   "metadata": {},
   "outputs": [],
   "source": [
    "embeddings = np.load('embeddings_BIG.npy')"
   ]
  },
  {
   "cell_type": "code",
   "execution_count": 22,
   "id": "fddd4a63",
   "metadata": {},
   "outputs": [],
   "source": [
    "def filter_embed(embeds, offers):\n",
    "    \"\"\"\n",
    "        Filter embedding file, leaves only those that are in the dataset\n",
    "        INPUT: embeds, offers - numpy arrays (of lists)\n",
    "        OUTPUT: modified dataset\n",
    "    \"\"\"\n",
    "    emb_id = embeds[:, 0].astype(int)\n",
    "    mask = np.isin(emb_id, offers).reshape((embeds.shape[0], 1))\n",
    "    embeds = np.hstack((embeds, mask))\n",
    "    embeds = embeds[embeds[:, -1] != 0]\n",
    "    return embeds[:, :-1]\n",
    "offers = list(set(data['offer_id']))\n",
    "embeddings = filter_embed(embeddings, offers)"
   ]
  },
  {
   "cell_type": "code",
   "execution_count": 23,
   "id": "519e4182",
   "metadata": {},
   "outputs": [
    {
     "name": "stdout",
     "output_type": "stream",
     "text": [
      "(47998759, 10)\n"
     ]
    },
    {
     "data": {
      "text/html": [
       "<div>\n",
       "<style scoped>\n",
       "    .dataframe tbody tr th:only-of-type {\n",
       "        vertical-align: middle;\n",
       "    }\n",
       "\n",
       "    .dataframe tbody tr th {\n",
       "        vertical-align: top;\n",
       "    }\n",
       "\n",
       "    .dataframe thead th {\n",
       "        text-align: right;\n",
       "    }\n",
       "</style>\n",
       "<table border=\"1\" class=\"dataframe\">\n",
       "  <thead>\n",
       "    <tr style=\"text-align: right;\">\n",
       "      <th></th>\n",
       "      <th>timestamp</th>\n",
       "      <th>hit_id</th>\n",
       "      <th>uid</th>\n",
       "      <th>platform</th>\n",
       "      <th>event_name</th>\n",
       "      <th>screen</th>\n",
       "      <th>offer_id</th>\n",
       "      <th>ptn_dadd</th>\n",
       "      <th>offer_id_enc</th>\n",
       "      <th>uid_enc</th>\n",
       "    </tr>\n",
       "  </thead>\n",
       "  <tbody>\n",
       "    <tr>\n",
       "      <th>27178479</th>\n",
       "      <td>2022-07-11 16:33:51.215</td>\n",
       "      <td>ed5a74a0255e4554</td>\n",
       "      <td>82662998</td>\n",
       "      <td>android</td>\n",
       "      <td>OpenOfferScreen</td>\n",
       "      <td>SearchResultsList</td>\n",
       "      <td>272458509</td>\n",
       "      <td>2022-07-11</td>\n",
       "      <td>1035779</td>\n",
       "      <td>1</td>\n",
       "    </tr>\n",
       "    <tr>\n",
       "      <th>2667250</th>\n",
       "      <td>2022-07-11 16:35:28.448</td>\n",
       "      <td>cc6ee700d12b4996</td>\n",
       "      <td>82662998</td>\n",
       "      <td>android</td>\n",
       "      <td>OpenOfferScreen</td>\n",
       "      <td>SearchResultsList</td>\n",
       "      <td>269087803</td>\n",
       "      <td>2022-07-11</td>\n",
       "      <td>872827</td>\n",
       "      <td>1</td>\n",
       "    </tr>\n",
       "    <tr>\n",
       "      <th>2890965</th>\n",
       "      <td>2022-07-11 16:37:37.318</td>\n",
       "      <td>46eb5561d012447f</td>\n",
       "      <td>82662998</td>\n",
       "      <td>android</td>\n",
       "      <td>OpenOfferScreen</td>\n",
       "      <td>SearchResultsList</td>\n",
       "      <td>275502080</td>\n",
       "      <td>2022-07-11</td>\n",
       "      <td>739787</td>\n",
       "      <td>1</td>\n",
       "    </tr>\n",
       "    <tr>\n",
       "      <th>6670181</th>\n",
       "      <td>2022-07-11 16:55:04.947</td>\n",
       "      <td>5bf9a13d64fb4773</td>\n",
       "      <td>82662998</td>\n",
       "      <td>android</td>\n",
       "      <td>OpenOfferScreen</td>\n",
       "      <td>SearchResultsList</td>\n",
       "      <td>275170855</td>\n",
       "      <td>2022-07-11</td>\n",
       "      <td>169438</td>\n",
       "      <td>1</td>\n",
       "    </tr>\n",
       "    <tr>\n",
       "      <th>4294839</th>\n",
       "      <td>2022-07-13 20:05:53.175</td>\n",
       "      <td>7b60cb84c9634378</td>\n",
       "      <td>82662998</td>\n",
       "      <td>android</td>\n",
       "      <td>OpenOfferScreen</td>\n",
       "      <td>Undefined</td>\n",
       "      <td>275743706</td>\n",
       "      <td>2022-07-13</td>\n",
       "      <td>616483</td>\n",
       "      <td>1</td>\n",
       "    </tr>\n",
       "  </tbody>\n",
       "</table>\n",
       "</div>"
      ],
      "text/plain": [
       "                       timestamp            hit_id       uid platform  \\\n",
       "27178479 2022-07-11 16:33:51.215  ed5a74a0255e4554  82662998  android   \n",
       "2667250  2022-07-11 16:35:28.448  cc6ee700d12b4996  82662998  android   \n",
       "2890965  2022-07-11 16:37:37.318  46eb5561d012447f  82662998  android   \n",
       "6670181  2022-07-11 16:55:04.947  5bf9a13d64fb4773  82662998  android   \n",
       "4294839  2022-07-13 20:05:53.175  7b60cb84c9634378  82662998  android   \n",
       "\n",
       "               event_name             screen   offer_id    ptn_dadd  \\\n",
       "27178479  OpenOfferScreen  SearchResultsList  272458509  2022-07-11   \n",
       "2667250   OpenOfferScreen  SearchResultsList  269087803  2022-07-11   \n",
       "2890965   OpenOfferScreen  SearchResultsList  275502080  2022-07-11   \n",
       "6670181   OpenOfferScreen  SearchResultsList  275170855  2022-07-11   \n",
       "4294839   OpenOfferScreen          Undefined  275743706  2022-07-13   \n",
       "\n",
       "          offer_id_enc  uid_enc  \n",
       "27178479       1035779        1  \n",
       "2667250         872827        1  \n",
       "2890965         739787        1  \n",
       "6670181         169438        1  \n",
       "4294839         616483        1  "
      ]
     },
     "execution_count": 23,
     "metadata": {},
     "output_type": "execute_result"
    }
   ],
   "source": [
    "# encode\n",
    "offer_encoder = dict(zip(embeddings[:, 0], list(range(1, embeddings.shape[0] + 1))))\n",
    "data['offer_id_enc'] = data['offer_id'].map(offer_encoder)\n",
    "uid_encoder = {uid: ind for ind, uid in enumerate(data['uid'].unique())}\n",
    "data['uid_enc'] = data['uid'].map(uid_encoder) + 1\n",
    "# sort by time and user id\n",
    "data['timestamp'] = pd.to_datetime(data['timestamp'])\n",
    "data.sort_values(by=['uid_enc', 'timestamp'], inplace=True)\n",
    "print(data.shape)\n",
    "data.head(5)"
   ]
  },
  {
   "cell_type": "code",
   "execution_count": 25,
   "id": "5f87a478",
   "metadata": {},
   "outputs": [
    {
     "data": {
      "text/plain": [
       "[1, 2, 3, 4, 5, 6, 7, 8, 9, 10]"
      ]
     },
     "execution_count": 25,
     "metadata": {},
     "output_type": "execute_result"
    }
   ],
   "source": [
    "sorted(list(set(data['offer_id_enc'])))[:10]"
   ]
  },
  {
   "cell_type": "code",
   "execution_count": 26,
   "id": "e85c7d93",
   "metadata": {},
   "outputs": [],
   "source": [
    "# create .txt file for input to model\n",
    "data[['offer_id_enc', 'uid_enc']].to_csv('out_e.txt', sep='\\t', header=False, index=False)"
   ]
  },
  {
   "cell_type": "code",
   "execution_count": 27,
   "id": "cfc94018",
   "metadata": {},
   "outputs": [],
   "source": [
    "# save embeddings file\n",
    "np.save('embeddings_filtered_for_BIG.npy', embeddings)  "
   ]
  },
  {
   "cell_type": "code",
   "execution_count": null,
   "id": "6dc8a761",
   "metadata": {},
   "outputs": [],
   "source": []
  }
 ],
 "metadata": {
  "kernelspec": {
   "display_name": "Python 3 (ipykernel)",
   "language": "python",
   "name": "python3"
  },
  "language_info": {
   "codemirror_mode": {
    "name": "ipython",
    "version": 3
   },
   "file_extension": ".py",
   "mimetype": "text/x-python",
   "name": "python",
   "nbconvert_exporter": "python",
   "pygments_lexer": "ipython3",
   "version": "3.9.7"
  }
 },
 "nbformat": 4,
 "nbformat_minor": 5
}
