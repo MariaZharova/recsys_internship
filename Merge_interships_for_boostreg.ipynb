{
 "cells": [
  {
   "cell_type": "code",
   "execution_count": 1,
   "id": "31bb41fc",
   "metadata": {},
   "outputs": [],
   "source": [
    "import pandas as pd\n",
    "import numpy as np\n",
    "import json\n",
    "from tqdm import tqdm\n",
    "tqdm.pandas()"
   ]
  },
  {
   "cell_type": "markdown",
   "id": "4efc574d",
   "metadata": {},
   "source": [
    "## Общая предобработка"
   ]
  },
  {
   "cell_type": "code",
   "execution_count": 2,
   "id": "bd785920",
   "metadata": {},
   "outputs": [
    {
     "name": "stdout",
     "output_type": "stream",
     "text": [
      "(30000000, 8) (30000000, 8) (22463346, 8)\n"
     ]
    }
   ],
   "source": [
    "data1 = pd.read_csv('internship_clickstream_data_1.gzip', compression='gzip')\n",
    "data2 = pd.read_csv('internship_clickstream_data_2.gzip', compression='gzip')\n",
    "data3 = pd.read_csv('internship_clickstream_data_3.gzip', compression='gzip')\n",
    "print(data1.shape, data2.shape, data3.shape)"
   ]
  },
  {
   "cell_type": "code",
   "execution_count": 3,
   "id": "b41444bb",
   "metadata": {},
   "outputs": [
    {
     "name": "stdout",
     "output_type": "stream",
     "text": [
      "(22585345, 8) (22559623, 8) (17427910, 8)\n",
      "(5105336, 8) (5365398, 8) (4175515, 8)\n",
      "after concating: (6278207, 8)\n",
      "after drop duplicates: (5452078, 8)\n"
     ]
    }
   ],
   "source": [
    "# drop duplicates\n",
    "data1.drop_duplicates(subset=['uid', 'offer_id'], inplace=True)\n",
    "data2.drop_duplicates(subset=['uid', 'offer_id'], inplace=True)\n",
    "data3.drop_duplicates(subset=['uid', 'offer_id'], inplace=True)\n",
    "print(data1.shape, data2.shape, data3.shape)\n",
    "\n",
    "# work with date\n",
    "data1['timestamp'] = pd.to_datetime(data1['timestamp'])\n",
    "data2['timestamp'] = pd.to_datetime(data2['timestamp'])\n",
    "data3['timestamp'] = pd.to_datetime(data3['timestamp'])\n",
    "\n",
    "# save users from 1 week\n",
    "data1_s = data1[data1['timestamp'] < pd.to_datetime('2022-07-10 00:00:00.020000')]\n",
    "data2_s = data2[data2['timestamp'] < pd.to_datetime('2022-07-10 00:00:00.020000')]\n",
    "data3_s = data3[data3['timestamp'] < pd.to_datetime('2022-07-10 00:00:00.020000')]\n",
    "users_1_week = pd.concat([data1_s, data2_s, data3_s])['uid'].unique()\n",
    "\n",
    "# filter by date, third week\n",
    "data1 = data1[(data1['timestamp'] >= pd.to_datetime('2022-07-17 00:00:00.020000')) & \\\n",
    "              (data1['timestamp'] < pd.to_datetime('2022-07-24 00:00:00.020000'))]\n",
    "data2 = data2[(data2['timestamp'] >= pd.to_datetime('2022-07-17 00:00:00.020000')) & \\\n",
    "              (data2['timestamp'] < pd.to_datetime('2022-07-24 00:00:00.020000'))]\n",
    "data3 = data3[(data3['timestamp'] >= pd.to_datetime('2022-07-17 00:00:00.020000')) & \\\n",
    "              (data3['timestamp'] < pd.to_datetime('2022-07-24 00:00:00.020000'))]\n",
    "print(data1.shape, data2.shape, data3.shape)\n",
    "\n",
    "# take users from 3 week who is not in 1 week\n",
    "data1 = data1[~data1['uid'].isin(users_1_week)]\n",
    "data2 = data2[~data2['uid'].isin(users_1_week)]\n",
    "data3 = data3[~data3['uid'].isin(users_1_week)]\n",
    "\n",
    "data = pd.concat([data1, data2, data3])\n",
    "print('after concating:', data.shape)\n",
    "data.drop_duplicates(subset=['uid', 'offer_id'], inplace=True)\n",
    "print('after drop duplicates:', data.shape)"
   ]
  },
  {
   "cell_type": "code",
   "execution_count": 4,
   "id": "70e67f27",
   "metadata": {},
   "outputs": [
    {
     "name": "stdout",
     "output_type": "stream",
     "text": [
      "(2707705, 8)\n"
     ]
    }
   ],
   "source": [
    "# take users that have > 5 clicks\n",
    "while not (data['offer_id'].value_counts()[data['offer_id'].value_counts() <= 5].empty) or \\\n",
    "      not (data['uid'].value_counts()[data['uid'].value_counts() <= 5].empty):\n",
    "    offer_ids = data['offer_id'].value_counts()[data['offer_id'].value_counts() > 5].index\n",
    "    data = data[data['offer_id'].isin(offer_ids)]\n",
    "    uids = data['uid'].value_counts()[data['uid'].value_counts() > 5].index\n",
    "    data = data[data['uid'].isin(uids)]\n",
    "print(data.shape)"
   ]
  },
  {
   "cell_type": "markdown",
   "id": "c7c530b7",
   "metadata": {},
   "source": [
    "## Добавляем lst-features\n",
    "Чтобы выделить объявления для аренды и продажи"
   ]
  },
  {
   "cell_type": "code",
   "execution_count": 6,
   "id": "e2fcc61e",
   "metadata": {},
   "outputs": [],
   "source": [
    "data11 = pd.read_csv('lst_announcement_data_1.gzip', compression='gzip', usecols=['id', 'category'])\n",
    "data22 = pd.read_csv('lst_announcement_data_2.gzip', compression='gzip', usecols=['id', 'category'])\n",
    "data33 = pd.read_csv('lst_announcement_data_3.gzip', compression='gzip', usecols=['id', 'category'])"
   ]
  },
  {
   "cell_type": "code",
   "execution_count": 7,
   "id": "52aa2339",
   "metadata": {},
   "outputs": [
    {
     "name": "stdout",
     "output_type": "stream",
     "text": [
      "(1000000, 2) (1000000, 2) (778005, 2)\n",
      "(1000000, 2) (1000000, 2) (778005, 2)\n",
      "after concating: (2778005, 2)\n",
      "after drop duplicates: (2778005, 2)\n"
     ]
    }
   ],
   "source": [
    "print(data11.shape, data22.shape, data33.shape)\n",
    "data11.drop_duplicates(subset=['id'], inplace=True)\n",
    "data22.drop_duplicates(subset=['id'], inplace=True)\n",
    "data33.drop_duplicates(subset=['id'], inplace=True)\n",
    "print(data11.shape, data22.shape, data33.shape)\n",
    "\n",
    "lst_features = pd.concat([data11, data22, data33])\n",
    "print('after concating:', lst_features.shape)\n",
    "lst_features.drop_duplicates(subset=['id'], inplace=True)\n",
    "print('after drop duplicates:', lst_features.shape)"
   ]
  },
  {
   "cell_type": "code",
   "execution_count": 8,
   "id": "6abb4dc2",
   "metadata": {},
   "outputs": [
    {
     "name": "stdout",
     "output_type": "stream",
     "text": [
      "['townhouseSale' 'commercialLandRent' 'landSale' 'flatRent' 'flatSale'\n",
      " 'houseSale' 'dailyHouseRent' 'newBuildingFlatSale' 'dailyFlatRent'\n",
      " 'shoppingAreaSale' 'cottageRent' 'roomRent' 'freeAppointmentObjectRent'\n",
      " 'businessSale' 'cottageSale' 'officeRent' 'freeAppointmentObjectSale'\n",
      " 'townhouseRent' 'garageSale' 'houseShareSale' 'industryRent' 'officeSale'\n",
      " 'roomSale' 'industrySale' 'warehouseRent' 'commercialLandSale'\n",
      " 'houseRent' 'houseShareRent' 'garageRent' 'shoppingAreaRent'\n",
      " 'buildingSale' 'dailyRoomRent' 'buildingRent' 'warehouseSale' 'bedRent'\n",
      " 'flatShareSale' 'dailyBedRent' 'businessRent']\n"
     ]
    }
   ],
   "source": [
    "print(lst_features['category'].unique())"
   ]
  },
  {
   "cell_type": "code",
   "execution_count": 9,
   "id": "6c1ff74a",
   "metadata": {},
   "outputs": [
    {
     "name": "stderr",
     "output_type": "stream",
     "text": [
      "100%|█████████████████████████████| 2778005/2778005 [00:03<00:00, 826217.96it/s]\n"
     ]
    },
    {
     "data": {
      "text/plain": [
       "array([1, 0])"
      ]
     },
     "execution_count": 9,
     "metadata": {},
     "output_type": "execute_result"
    }
   ],
   "source": [
    "def sale_rent(arg):\n",
    "    \"\"\"\n",
    "        кодируем объявления продажи 1\n",
    "        аренды - 0\n",
    "    \"\"\"\n",
    "    if 'Rent' in arg:\n",
    "        return 0\n",
    "    if 'Sale' in arg:\n",
    "        return 1\n",
    "    else:\n",
    "        return np.nan\n",
    "lst_features['category'] = lst_features['category'].progress_apply(sale_rent)\n",
    "lst_features['category'].unique()"
   ]
  },
  {
   "cell_type": "code",
   "execution_count": 10,
   "id": "14647e84",
   "metadata": {},
   "outputs": [
    {
     "name": "stdout",
     "output_type": "stream",
     "text": [
      "(2707705, 10)\n"
     ]
    },
    {
     "data": {
      "text/html": [
       "<div>\n",
       "<style scoped>\n",
       "    .dataframe tbody tr th:only-of-type {\n",
       "        vertical-align: middle;\n",
       "    }\n",
       "\n",
       "    .dataframe tbody tr th {\n",
       "        vertical-align: top;\n",
       "    }\n",
       "\n",
       "    .dataframe thead th {\n",
       "        text-align: right;\n",
       "    }\n",
       "</style>\n",
       "<table border=\"1\" class=\"dataframe\">\n",
       "  <thead>\n",
       "    <tr style=\"text-align: right;\">\n",
       "      <th></th>\n",
       "      <th>timestamp</th>\n",
       "      <th>hit_id</th>\n",
       "      <th>uid</th>\n",
       "      <th>platform</th>\n",
       "      <th>event_name</th>\n",
       "      <th>screen</th>\n",
       "      <th>offer_id</th>\n",
       "      <th>ptn_dadd</th>\n",
       "      <th>id</th>\n",
       "      <th>category</th>\n",
       "    </tr>\n",
       "  </thead>\n",
       "  <tbody>\n",
       "    <tr>\n",
       "      <th>0</th>\n",
       "      <td>2022-07-21 14:59:12.005</td>\n",
       "      <td>035ac9e59f264efc</td>\n",
       "      <td>93558783</td>\n",
       "      <td>ios</td>\n",
       "      <td>OpenOfferScreen</td>\n",
       "      <td>OfferScreen</td>\n",
       "      <td>200902594</td>\n",
       "      <td>2022-07-21</td>\n",
       "      <td>200902594.0</td>\n",
       "      <td>0.0</td>\n",
       "    </tr>\n",
       "    <tr>\n",
       "      <th>1</th>\n",
       "      <td>2022-07-21 14:59:32.553</td>\n",
       "      <td>fd4ecea17e5348ab</td>\n",
       "      <td>275A277B-6BB1-48EE-9CF4-38530F69EBB0</td>\n",
       "      <td>ios</td>\n",
       "      <td>OpenOfferScreen</td>\n",
       "      <td>SearchResultsList</td>\n",
       "      <td>267412812</td>\n",
       "      <td>2022-07-21</td>\n",
       "      <td>267412812.0</td>\n",
       "      <td>1.0</td>\n",
       "    </tr>\n",
       "    <tr>\n",
       "      <th>2</th>\n",
       "      <td>2022-07-21 00:00:13.118</td>\n",
       "      <td>c201728987f846ff</td>\n",
       "      <td>84210581</td>\n",
       "      <td>ios</td>\n",
       "      <td>OpenOfferScreen</td>\n",
       "      <td>MapScreen</td>\n",
       "      <td>244887246</td>\n",
       "      <td>2022-07-21</td>\n",
       "      <td>244887246.0</td>\n",
       "      <td>1.0</td>\n",
       "    </tr>\n",
       "    <tr>\n",
       "      <th>3</th>\n",
       "      <td>2022-07-22 23:59:27.313</td>\n",
       "      <td>3ea3b2c9449f4e7c</td>\n",
       "      <td>93644412</td>\n",
       "      <td>ios</td>\n",
       "      <td>OpenOfferScreen</td>\n",
       "      <td>FavoritesScreen</td>\n",
       "      <td>276242581</td>\n",
       "      <td>2022-07-22</td>\n",
       "      <td>276242581.0</td>\n",
       "      <td>0.0</td>\n",
       "    </tr>\n",
       "    <tr>\n",
       "      <th>4</th>\n",
       "      <td>2022-07-22 23:59:44.353</td>\n",
       "      <td>95b8ca8b8b124f30</td>\n",
       "      <td>6fd68d4e-b82e-4015-9b0a-d9fc2d1106a5</td>\n",
       "      <td>android</td>\n",
       "      <td>OpenOfferScreen</td>\n",
       "      <td>SearchResultsList</td>\n",
       "      <td>233845560</td>\n",
       "      <td>2022-07-22</td>\n",
       "      <td>233845560.0</td>\n",
       "      <td>0.0</td>\n",
       "    </tr>\n",
       "  </tbody>\n",
       "</table>\n",
       "</div>"
      ],
      "text/plain": [
       "                timestamp            hit_id  \\\n",
       "0 2022-07-21 14:59:12.005  035ac9e59f264efc   \n",
       "1 2022-07-21 14:59:32.553  fd4ecea17e5348ab   \n",
       "2 2022-07-21 00:00:13.118  c201728987f846ff   \n",
       "3 2022-07-22 23:59:27.313  3ea3b2c9449f4e7c   \n",
       "4 2022-07-22 23:59:44.353  95b8ca8b8b124f30   \n",
       "\n",
       "                                    uid platform       event_name  \\\n",
       "0                              93558783      ios  OpenOfferScreen   \n",
       "1  275A277B-6BB1-48EE-9CF4-38530F69EBB0      ios  OpenOfferScreen   \n",
       "2                              84210581      ios  OpenOfferScreen   \n",
       "3                              93644412      ios  OpenOfferScreen   \n",
       "4  6fd68d4e-b82e-4015-9b0a-d9fc2d1106a5  android  OpenOfferScreen   \n",
       "\n",
       "              screen   offer_id    ptn_dadd           id  category  \n",
       "0        OfferScreen  200902594  2022-07-21  200902594.0       0.0  \n",
       "1  SearchResultsList  267412812  2022-07-21  267412812.0       1.0  \n",
       "2          MapScreen  244887246  2022-07-21  244887246.0       1.0  \n",
       "3    FavoritesScreen  276242581  2022-07-22  276242581.0       0.0  \n",
       "4  SearchResultsList  233845560  2022-07-22  233845560.0       0.0  "
      ]
     },
     "execution_count": 10,
     "metadata": {},
     "output_type": "execute_result"
    }
   ],
   "source": [
    "merged = data.merge(lst_features, left_on='offer_id', right_on='id', how='left')\n",
    "print(merged.shape)\n",
    "merged.head()"
   ]
  },
  {
   "cell_type": "code",
   "execution_count": 11,
   "id": "aaed82cf",
   "metadata": {},
   "outputs": [
    {
     "data": {
      "text/html": [
       "<div>\n",
       "<style scoped>\n",
       "    .dataframe tbody tr th:only-of-type {\n",
       "        vertical-align: middle;\n",
       "    }\n",
       "\n",
       "    .dataframe tbody tr th {\n",
       "        vertical-align: top;\n",
       "    }\n",
       "\n",
       "    .dataframe thead th {\n",
       "        text-align: right;\n",
       "    }\n",
       "</style>\n",
       "<table border=\"1\" class=\"dataframe\">\n",
       "  <thead>\n",
       "    <tr style=\"text-align: right;\">\n",
       "      <th></th>\n",
       "      <th>uid</th>\n",
       "      <th>count</th>\n",
       "      <th>sum</th>\n",
       "    </tr>\n",
       "  </thead>\n",
       "  <tbody>\n",
       "    <tr>\n",
       "      <th>0</th>\n",
       "      <td>0000AEA9-B496-418E-8635-B8326AB61211</td>\n",
       "      <td>11</td>\n",
       "      <td>0.0</td>\n",
       "    </tr>\n",
       "    <tr>\n",
       "      <th>1</th>\n",
       "      <td>00014a6e-0ea8-48e6-a761-cecba18cdd5c</td>\n",
       "      <td>17</td>\n",
       "      <td>15.0</td>\n",
       "    </tr>\n",
       "    <tr>\n",
       "      <th>2</th>\n",
       "      <td>0001ACBB-6FBE-4E41-B824-0771C7E7276D</td>\n",
       "      <td>35</td>\n",
       "      <td>0.0</td>\n",
       "    </tr>\n",
       "    <tr>\n",
       "      <th>3</th>\n",
       "      <td>00028c8b-7f19-42a5-84f1-167d4b632b04</td>\n",
       "      <td>21</td>\n",
       "      <td>0.0</td>\n",
       "    </tr>\n",
       "    <tr>\n",
       "      <th>4</th>\n",
       "      <td>0002a451-ec78-40ea-8c7b-4a55bb6ef1b7</td>\n",
       "      <td>9</td>\n",
       "      <td>0.0</td>\n",
       "    </tr>\n",
       "    <tr>\n",
       "      <th>...</th>\n",
       "      <td>...</td>\n",
       "      <td>...</td>\n",
       "      <td>...</td>\n",
       "    </tr>\n",
       "    <tr>\n",
       "      <th>150938</th>\n",
       "      <td>fff7d627-688a-40b3-9ba2-e5c565c10550</td>\n",
       "      <td>16</td>\n",
       "      <td>16.0</td>\n",
       "    </tr>\n",
       "    <tr>\n",
       "      <th>150939</th>\n",
       "      <td>fff8109f-1016-426f-b942-a6182868b5df</td>\n",
       "      <td>27</td>\n",
       "      <td>0.0</td>\n",
       "    </tr>\n",
       "    <tr>\n",
       "      <th>150940</th>\n",
       "      <td>fffa5f0b-d9ea-40f5-8d4e-a3a29c290dc9</td>\n",
       "      <td>8</td>\n",
       "      <td>8.0</td>\n",
       "    </tr>\n",
       "    <tr>\n",
       "      <th>150941</th>\n",
       "      <td>fffca2a3-8ad7-4f4e-a2ab-28dd7744f899</td>\n",
       "      <td>6</td>\n",
       "      <td>0.0</td>\n",
       "    </tr>\n",
       "    <tr>\n",
       "      <th>150942</th>\n",
       "      <td>fffefa74-832e-48b1-911a-ad49c1e570ba</td>\n",
       "      <td>9</td>\n",
       "      <td>0.0</td>\n",
       "    </tr>\n",
       "  </tbody>\n",
       "</table>\n",
       "<p>150943 rows × 3 columns</p>\n",
       "</div>"
      ],
      "text/plain": [
       "                                         uid  count   sum\n",
       "0       0000AEA9-B496-418E-8635-B8326AB61211     11   0.0\n",
       "1       00014a6e-0ea8-48e6-a761-cecba18cdd5c     17  15.0\n",
       "2       0001ACBB-6FBE-4E41-B824-0771C7E7276D     35   0.0\n",
       "3       00028c8b-7f19-42a5-84f1-167d4b632b04     21   0.0\n",
       "4       0002a451-ec78-40ea-8c7b-4a55bb6ef1b7      9   0.0\n",
       "...                                      ...    ...   ...\n",
       "150938  fff7d627-688a-40b3-9ba2-e5c565c10550     16  16.0\n",
       "150939  fff8109f-1016-426f-b942-a6182868b5df     27   0.0\n",
       "150940  fffa5f0b-d9ea-40f5-8d4e-a3a29c290dc9      8   8.0\n",
       "150941  fffca2a3-8ad7-4f4e-a2ab-28dd7744f899      6   0.0\n",
       "150942  fffefa74-832e-48b1-911a-ad49c1e570ba      9   0.0\n",
       "\n",
       "[150943 rows x 3 columns]"
      ]
     },
     "execution_count": 11,
     "metadata": {},
     "output_type": "execute_result"
    }
   ],
   "source": [
    "grouped = merged.groupby(['uid'])['category'].agg(['count', 'sum']).reset_index()\n",
    "grouped"
   ]
  },
  {
   "cell_type": "code",
   "execution_count": 12,
   "id": "6b04f06c",
   "metadata": {},
   "outputs": [
    {
     "name": "stderr",
     "output_type": "stream",
     "text": [
      "100%|███████████████████████████████| 150943/150943 [00:00<00:00, 662230.36it/s]\n"
     ]
    },
    {
     "data": {
      "text/plain": [
       "0         0\n",
       "1         1\n",
       "2         0\n",
       "3         0\n",
       "4         0\n",
       "         ..\n",
       "150938    1\n",
       "150939    0\n",
       "150940    1\n",
       "150941    0\n",
       "150942    0\n",
       "Name: pref, Length: 150943, dtype: int64"
      ]
     },
     "execution_count": 12,
     "metadata": {},
     "output_type": "execute_result"
    }
   ],
   "source": [
    "users = data['uid'].unique()\n",
    "grouped['per'] = grouped['sum'] / grouped['count']\n",
    "\n",
    "def enc_pref(arg):\n",
    "    \"\"\"\n",
    "        кто больше интересуется продажей - 1\n",
    "        кто больше интересуется арендой - 0\n",
    "    \"\"\"\n",
    "    if arg > 0.5:\n",
    "        return 1\n",
    "    else:\n",
    "        return 0\n",
    "grouped['pref'] = grouped['per'].progress_apply(enc_pref)\n",
    "grouped['pref']"
   ]
  },
  {
   "cell_type": "code",
   "execution_count": 13,
   "id": "1a4e5253",
   "metadata": {},
   "outputs": [],
   "source": [
    "grouped['pref'].to_csv('uid_3_week_preferences.csv')"
   ]
  }
 ],
 "metadata": {
  "kernelspec": {
   "display_name": "Python 3 (ipykernel)",
   "language": "python",
   "name": "python3"
  },
  "language_info": {
   "codemirror_mode": {
    "name": "ipython",
    "version": 3
   },
   "file_extension": ".py",
   "mimetype": "text/x-python",
   "name": "python",
   "nbconvert_exporter": "python",
   "pygments_lexer": "ipython3",
   "version": "3.9.12"
  }
 },
 "nbformat": 4,
 "nbformat_minor": 5
}
