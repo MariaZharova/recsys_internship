{
  "cells": [
    {
      "cell_type": "markdown",
      "metadata": {
        "id": "view-in-github",
        "colab_type": "text"
      },
      "source": [
        "<a href=\"https://colab.research.google.com/github/MariaZharova/test_rec_systems/blob/main/Our_microsoft_recommender.ipynb\" target=\"_parent\"><img src=\"https://colab.research.google.com/assets/colab-badge.svg\" alt=\"Open In Colab\"/></a>"
      ]
    },
    {
      "cell_type": "code",
      "execution_count": 3,
      "metadata": {
        "id": "3_U_UxsmoyNT"
      },
      "outputs": [],
      "source": [
        "import re\n",
        "import sys\n",
        "import os\n",
        "import scrapbook as sb\n",
        "from tempfile import TemporaryDirectory\n",
        "import numpy as np\n",
        "import pandas as pd \n",
        "\n",
        "from collections import defaultdict\n",
        "import category_encoders as ce\n",
        "import tensorflow as tf\n",
        "tf.get_logger().setLevel('ERROR') # only show error messages\n",
        "\n",
        "from recommenders.utils.timer import Timer\n",
        "from recommenders.datasets.amazon_reviews import get_review_data\n",
        "from recommenders.datasets.split_utils import filter_k_core\n",
        "\n",
        "# Transformer Based Models\n",
        "from recommenders.models.sasrec.model import SASREC\n",
        "from recommenders.models.sasrec.ssept import SSEPT\n",
        "\n",
        "# Sampler for sequential prediction\n",
        "from recommenders.models.sasrec.sampler import WarpSampler\n",
        "from recommenders.models.sasrec.util import SASRecDataSet\n",
        "\n",
        "# Evaluation\n",
        "from recommenders.evaluation.python_evaluation import precision_at_k"
      ]
    },
    {
      "cell_type": "code",
      "source": [
        "! pip install scrapbook category_encoders recommenders"
      ],
      "metadata": {
        "colab": {
          "base_uri": "https://localhost:8080/",
          "height": 1000
        },
        "id": "HjYYUkEbnVlt",
        "outputId": "9e9688a7-8456-4b1e-86e9-f208f5d6b250"
      },
      "execution_count": 2,
      "outputs": [
        {
          "output_type": "stream",
          "name": "stdout",
          "text": [
            "Looking in indexes: https://pypi.org/simple, https://us-python.pkg.dev/colab-wheels/public/simple/\n",
            "Collecting scrapbook\n",
            "  Downloading scrapbook-0.5.0-py3-none-any.whl (34 kB)\n",
            "Collecting category_encoders\n",
            "  Downloading category_encoders-2.5.0-py2.py3-none-any.whl (69 kB)\n",
            "\u001b[K     |████████████████████████████████| 69 kB 4.9 MB/s \n",
            "\u001b[?25hCollecting recommenders\n",
            "  Downloading recommenders-1.1.0-py3-none-manylinux1_x86_64.whl (335 kB)\n",
            "\u001b[K     |████████████████████████████████| 335 kB 53.7 MB/s \n",
            "\u001b[?25hRequirement already satisfied: jsonschema in /usr/local/lib/python3.7/dist-packages (from scrapbook) (4.3.3)\n",
            "Collecting papermill\n",
            "  Downloading papermill-2.3.4-py3-none-any.whl (37 kB)\n",
            "Requirement already satisfied: pandas in /usr/local/lib/python3.7/dist-packages (from scrapbook) (1.3.5)\n",
            "Requirement already satisfied: ipython in /usr/local/lib/python3.7/dist-packages (from scrapbook) (5.5.0)\n",
            "Requirement already satisfied: pyarrow in /usr/local/lib/python3.7/dist-packages (from scrapbook) (6.0.1)\n",
            "Requirement already satisfied: statsmodels>=0.9.0 in /usr/local/lib/python3.7/dist-packages (from category_encoders) (0.10.2)\n",
            "Requirement already satisfied: scipy>=1.0.0 in /usr/local/lib/python3.7/dist-packages (from category_encoders) (1.4.1)\n",
            "Requirement already satisfied: numpy>=1.14.0 in /usr/local/lib/python3.7/dist-packages (from category_encoders) (1.21.6)\n",
            "Requirement already satisfied: patsy>=0.5.1 in /usr/local/lib/python3.7/dist-packages (from category_encoders) (0.5.2)\n",
            "Requirement already satisfied: scikit-learn>=0.20.0 in /usr/local/lib/python3.7/dist-packages (from category_encoders) (1.0.2)\n",
            "Requirement already satisfied: python-dateutil>=2.7.3 in /usr/local/lib/python3.7/dist-packages (from pandas->scrapbook) (2.8.2)\n",
            "Requirement already satisfied: pytz>=2017.3 in /usr/local/lib/python3.7/dist-packages (from pandas->scrapbook) (2022.1)\n",
            "Requirement already satisfied: six in /usr/local/lib/python3.7/dist-packages (from patsy>=0.5.1->category_encoders) (1.15.0)\n",
            "Requirement already satisfied: threadpoolctl>=2.0.0 in /usr/local/lib/python3.7/dist-packages (from scikit-learn>=0.20.0->category_encoders) (3.1.0)\n",
            "Requirement already satisfied: joblib>=0.11 in /usr/local/lib/python3.7/dist-packages (from scikit-learn>=0.20.0->category_encoders) (1.1.0)\n",
            "Requirement already satisfied: numba<1,>=0.38.1 in /usr/local/lib/python3.7/dist-packages (from recommenders) (0.51.2)\n",
            "Requirement already satisfied: requests<3,>=2.0.0 in /usr/local/lib/python3.7/dist-packages (from recommenders) (2.23.0)\n",
            "Collecting pandera[strategies]>=0.6.5\n",
            "  Downloading pandera-0.9.0-py3-none-any.whl (197 kB)\n",
            "\u001b[K     |████████████████████████████████| 197 kB 64.6 MB/s \n",
            "\u001b[?25hRequirement already satisfied: lightgbm>=2.2.1 in /usr/local/lib/python3.7/dist-packages (from recommenders) (2.2.3)\n",
            "Collecting lightfm<2,>=1.15\n",
            "  Downloading lightfm-1.16.tar.gz (310 kB)\n",
            "\u001b[K     |████████████████████████████████| 310 kB 54.0 MB/s \n",
            "\u001b[?25hRequirement already satisfied: nltk<4,>=3.4 in /usr/local/lib/python3.7/dist-packages (from recommenders) (3.7)\n",
            "Collecting pyyaml<6,>=5.4.1\n",
            "  Downloading PyYAML-5.4.1-cp37-cp37m-manylinux1_x86_64.whl (636 kB)\n",
            "\u001b[K     |████████████████████████████████| 636 kB 45.2 MB/s \n",
            "\u001b[?25hCollecting retrying>=1.3.3\n",
            "  Downloading retrying-1.3.3.tar.gz (10 kB)\n",
            "Requirement already satisfied: jinja2<3.1,>=2 in /usr/local/lib/python3.7/dist-packages (from recommenders) (2.11.3)\n",
            "Requirement already satisfied: matplotlib<4,>=2.2.2 in /usr/local/lib/python3.7/dist-packages (from recommenders) (3.2.2)\n",
            "Requirement already satisfied: seaborn<1,>=0.8.1 in /usr/local/lib/python3.7/dist-packages (from recommenders) (0.11.2)\n",
            "Requirement already satisfied: tqdm<5,>=4.31.1 in /usr/local/lib/python3.7/dist-packages (from recommenders) (4.64.0)\n",
            "Collecting cornac<2,>=1.1.2\n",
            "  Downloading cornac-1.14.2-cp37-cp37m-manylinux1_x86_64.whl (12.4 MB)\n",
            "\u001b[K     |████████████████████████████████| 12.4 MB 26.0 MB/s \n",
            "\u001b[?25hCollecting memory-profiler<1,>=0.54.0\n",
            "  Downloading memory_profiler-0.60.0.tar.gz (38 kB)\n",
            "Collecting bottleneck<2,>=1.2.1\n",
            "  Downloading Bottleneck-1.3.5-cp37-cp37m-manylinux_2_5_x86_64.manylinux1_x86_64.manylinux_2_17_x86_64.manylinux2014_x86_64.whl (355 kB)\n",
            "\u001b[K     |████████████████████████████████| 355 kB 47.5 MB/s \n",
            "\u001b[?25hCollecting transformers<5,>=2.5.0\n",
            "  Downloading transformers-4.20.1-py3-none-any.whl (4.4 MB)\n",
            "\u001b[K     |████████████████████████████████| 4.4 MB 51.6 MB/s \n",
            "\u001b[?25hCollecting category_encoders\n",
            "  Downloading category_encoders-1.3.0-py2.py3-none-any.whl (61 kB)\n",
            "\u001b[K     |████████████████████████████████| 61 kB 7.3 MB/s \n",
            "\u001b[?25hCollecting scikit-surprise>=1.0.6\n",
            "  Downloading scikit-surprise-1.1.1.tar.gz (11.8 MB)\n",
            "\u001b[K     |████████████████████████████████| 11.8 MB 33.6 MB/s \n",
            "\u001b[?25hCollecting powerlaw\n",
            "  Downloading powerlaw-1.5-py3-none-any.whl (24 kB)\n",
            "Requirement already satisfied: MarkupSafe>=0.23 in /usr/local/lib/python3.7/dist-packages (from jinja2<3.1,>=2->recommenders) (2.0.1)\n",
            "Requirement already satisfied: cycler>=0.10 in /usr/local/lib/python3.7/dist-packages (from matplotlib<4,>=2.2.2->recommenders) (0.11.0)\n",
            "Requirement already satisfied: kiwisolver>=1.0.1 in /usr/local/lib/python3.7/dist-packages (from matplotlib<4,>=2.2.2->recommenders) (1.4.3)\n",
            "Requirement already satisfied: pyparsing!=2.0.4,!=2.1.2,!=2.1.6,>=2.0.1 in /usr/local/lib/python3.7/dist-packages (from matplotlib<4,>=2.2.2->recommenders) (3.0.9)\n",
            "Requirement already satisfied: typing-extensions in /usr/local/lib/python3.7/dist-packages (from kiwisolver>=1.0.1->matplotlib<4,>=2.2.2->recommenders) (4.1.1)\n",
            "Requirement already satisfied: psutil in /usr/local/lib/python3.7/dist-packages (from memory-profiler<1,>=0.54.0->recommenders) (5.4.8)\n",
            "Requirement already satisfied: regex>=2021.8.3 in /usr/local/lib/python3.7/dist-packages (from nltk<4,>=3.4->recommenders) (2022.6.2)\n",
            "Requirement already satisfied: click in /usr/local/lib/python3.7/dist-packages (from nltk<4,>=3.4->recommenders) (7.1.2)\n",
            "Requirement already satisfied: llvmlite<0.35,>=0.34.0.dev0 in /usr/local/lib/python3.7/dist-packages (from numba<1,>=0.38.1->recommenders) (0.34.0)\n",
            "Requirement already satisfied: setuptools in /usr/local/lib/python3.7/dist-packages (from numba<1,>=0.38.1->recommenders) (57.4.0)\n",
            "Requirement already satisfied: pydantic in /usr/local/lib/python3.7/dist-packages (from pandera[strategies]>=0.6.5->recommenders) (1.8.2)\n",
            "Requirement already satisfied: wrapt in /usr/local/lib/python3.7/dist-packages (from pandera[strategies]>=0.6.5->recommenders) (1.14.1)\n",
            "Requirement already satisfied: packaging>=20.0 in /usr/local/lib/python3.7/dist-packages (from pandera[strategies]>=0.6.5->recommenders) (21.3)\n",
            "Collecting typing-inspect>=0.6.0\n",
            "  Downloading typing_inspect-0.7.1-py3-none-any.whl (8.4 kB)\n",
            "Collecting hypothesis>=5.41.1\n",
            "  Downloading hypothesis-6.49.1-py3-none-any.whl (387 kB)\n",
            "\u001b[K     |████████████████████████████████| 387 kB 45.6 MB/s \n",
            "\u001b[?25hCollecting exceptiongroup>=1.0.0rc8\n",
            "  Downloading exceptiongroup-1.0.0rc8-py3-none-any.whl (11 kB)\n",
            "Requirement already satisfied: attrs>=19.2.0 in /usr/local/lib/python3.7/dist-packages (from hypothesis>=5.41.1->pandera[strategies]>=0.6.5->recommenders) (21.4.0)\n",
            "Requirement already satisfied: sortedcontainers<3.0.0,>=2.1.0 in /usr/local/lib/python3.7/dist-packages (from hypothesis>=5.41.1->pandera[strategies]>=0.6.5->recommenders) (2.4.0)\n",
            "Requirement already satisfied: idna<3,>=2.5 in /usr/local/lib/python3.7/dist-packages (from requests<3,>=2.0.0->recommenders) (2.10)\n",
            "Requirement already satisfied: certifi>=2017.4.17 in /usr/local/lib/python3.7/dist-packages (from requests<3,>=2.0.0->recommenders) (2022.6.15)\n",
            "Requirement already satisfied: chardet<4,>=3.0.2 in /usr/local/lib/python3.7/dist-packages (from requests<3,>=2.0.0->recommenders) (3.0.4)\n",
            "Requirement already satisfied: urllib3!=1.25.0,!=1.25.1,<1.26,>=1.21.1 in /usr/local/lib/python3.7/dist-packages (from requests<3,>=2.0.0->recommenders) (1.24.3)\n",
            "Collecting huggingface-hub<1.0,>=0.1.0\n",
            "  Downloading huggingface_hub-0.8.1-py3-none-any.whl (101 kB)\n",
            "\u001b[K     |████████████████████████████████| 101 kB 12.4 MB/s \n",
            "\u001b[?25hCollecting tokenizers!=0.11.3,<0.13,>=0.11.1\n",
            "  Downloading tokenizers-0.12.1-cp37-cp37m-manylinux_2_12_x86_64.manylinux2010_x86_64.whl (6.6 MB)\n",
            "\u001b[K     |████████████████████████████████| 6.6 MB 47.6 MB/s \n",
            "\u001b[?25hRequirement already satisfied: importlib-metadata in /usr/local/lib/python3.7/dist-packages (from transformers<5,>=2.5.0->recommenders) (4.11.4)\n",
            "Requirement already satisfied: filelock in /usr/local/lib/python3.7/dist-packages (from transformers<5,>=2.5.0->recommenders) (3.7.1)\n",
            "Collecting mypy-extensions>=0.3.0\n",
            "  Downloading mypy_extensions-0.4.3-py2.py3-none-any.whl (4.5 kB)\n",
            "Requirement already satisfied: zipp>=0.5 in /usr/local/lib/python3.7/dist-packages (from importlib-metadata->transformers<5,>=2.5.0->recommenders) (3.8.0)\n",
            "Requirement already satisfied: pexpect in /usr/local/lib/python3.7/dist-packages (from ipython->scrapbook) (4.8.0)\n",
            "Requirement already satisfied: simplegeneric>0.8 in /usr/local/lib/python3.7/dist-packages (from ipython->scrapbook) (0.8.1)\n",
            "Requirement already satisfied: decorator in /usr/local/lib/python3.7/dist-packages (from ipython->scrapbook) (4.4.2)\n",
            "Requirement already satisfied: prompt-toolkit<2.0.0,>=1.0.4 in /usr/local/lib/python3.7/dist-packages (from ipython->scrapbook) (1.0.18)\n",
            "Requirement already satisfied: pickleshare in /usr/local/lib/python3.7/dist-packages (from ipython->scrapbook) (0.7.5)\n",
            "Requirement already satisfied: pygments in /usr/local/lib/python3.7/dist-packages (from ipython->scrapbook) (2.6.1)\n",
            "Requirement already satisfied: traitlets>=4.2 in /usr/local/lib/python3.7/dist-packages (from ipython->scrapbook) (5.1.1)\n",
            "Requirement already satisfied: wcwidth in /usr/local/lib/python3.7/dist-packages (from prompt-toolkit<2.0.0,>=1.0.4->ipython->scrapbook) (0.2.5)\n",
            "Requirement already satisfied: pyrsistent!=0.17.0,!=0.17.1,!=0.17.2,>=0.14.0 in /usr/local/lib/python3.7/dist-packages (from jsonschema->scrapbook) (0.18.1)\n",
            "Requirement already satisfied: importlib-resources>=1.4.0 in /usr/local/lib/python3.7/dist-packages (from jsonschema->scrapbook) (5.7.1)\n",
            "Requirement already satisfied: entrypoints in /usr/local/lib/python3.7/dist-packages (from papermill->scrapbook) (0.4)\n",
            "Requirement already satisfied: tenacity in /usr/local/lib/python3.7/dist-packages (from papermill->scrapbook) (8.0.1)\n",
            "Requirement already satisfied: nbformat>=5.1.2 in /usr/local/lib/python3.7/dist-packages (from papermill->scrapbook) (5.4.0)\n",
            "Requirement already satisfied: nbclient>=0.2.0 in /usr/local/lib/python3.7/dist-packages (from papermill->scrapbook) (0.6.4)\n",
            "Collecting ansiwrap\n",
            "  Downloading ansiwrap-0.8.4-py2.py3-none-any.whl (8.5 kB)\n",
            "Requirement already satisfied: nest-asyncio in /usr/local/lib/python3.7/dist-packages (from nbclient>=0.2.0->papermill->scrapbook) (1.5.5)\n",
            "Collecting traitlets>=4.2\n",
            "  Downloading traitlets-5.3.0-py3-none-any.whl (106 kB)\n",
            "\u001b[K     |████████████████████████████████| 106 kB 69.8 MB/s \n",
            "\u001b[?25hCollecting jupyter-client>=6.1.5\n",
            "  Downloading jupyter_client-7.3.4-py3-none-any.whl (132 kB)\n",
            "\u001b[K     |████████████████████████████████| 132 kB 71.5 MB/s \n",
            "\u001b[?25hRequirement already satisfied: jupyter-core>=4.9.2 in /usr/local/lib/python3.7/dist-packages (from jupyter-client>=6.1.5->nbclient>=0.2.0->papermill->scrapbook) (4.10.0)\n",
            "Requirement already satisfied: pyzmq>=23.0 in /usr/local/lib/python3.7/dist-packages (from jupyter-client>=6.1.5->nbclient>=0.2.0->papermill->scrapbook) (23.1.0)\n",
            "Collecting tornado>=6.0\n",
            "  Downloading tornado-6.2-cp37-abi3-manylinux_2_5_x86_64.manylinux1_x86_64.manylinux_2_17_x86_64.manylinux2014_x86_64.whl (423 kB)\n",
            "\u001b[K     |████████████████████████████████| 423 kB 74.6 MB/s \n",
            "\u001b[?25hRequirement already satisfied: fastjsonschema in /usr/local/lib/python3.7/dist-packages (from nbformat>=5.1.2->papermill->scrapbook) (2.15.3)\n",
            "Collecting textwrap3>=0.9.2\n",
            "  Downloading textwrap3-0.9.2-py2.py3-none-any.whl (12 kB)\n",
            "Requirement already satisfied: ptyprocess>=0.5 in /usr/local/lib/python3.7/dist-packages (from pexpect->ipython->scrapbook) (0.7.0)\n",
            "Requirement already satisfied: mpmath in /usr/local/lib/python3.7/dist-packages (from powerlaw->cornac<2,>=1.1.2->recommenders) (1.2.1)\n",
            "Building wheels for collected packages: lightfm, memory-profiler, retrying, scikit-surprise\n",
            "  Building wheel for lightfm (setup.py) ... \u001b[?25l\u001b[?25hdone\n",
            "  Created wheel for lightfm: filename=lightfm-1.16-cp37-cp37m-linux_x86_64.whl size=705377 sha256=1c24e0e6f25cb0ff350e1737fdee5866b3aaf0add136d108fa3147055dde58a3\n",
            "  Stored in directory: /root/.cache/pip/wheels/f8/56/28/5772a3bd3413d65f03aa452190b00898b680b10028a1021914\n",
            "  Building wheel for memory-profiler (setup.py) ... \u001b[?25l\u001b[?25hdone\n",
            "  Created wheel for memory-profiler: filename=memory_profiler-0.60.0-py3-none-any.whl size=31284 sha256=71cd1bb5b4ca4631a13f5fe6c0082c6147e40c7e8beedfa93e3251aeee6c4475\n",
            "  Stored in directory: /root/.cache/pip/wheels/67/2b/fb/326e30d638c538e69a5eb0aa47f4223d979f502bbdb403950f\n",
            "  Building wheel for retrying (setup.py) ... \u001b[?25l\u001b[?25hdone\n",
            "  Created wheel for retrying: filename=retrying-1.3.3-py3-none-any.whl size=11447 sha256=8e2237eb46838c6dff91ea0661f54828cc4e1110dbb04d4bce9f2114d68fec12\n",
            "  Stored in directory: /root/.cache/pip/wheels/f9/8d/8d/f6af3f7f9eea3553bc2fe6d53e4b287dad18b06a861ac56ddf\n",
            "  Building wheel for scikit-surprise (setup.py) ... \u001b[?25l\u001b[?25hdone\n",
            "  Created wheel for scikit-surprise: filename=scikit_surprise-1.1.1-cp37-cp37m-linux_x86_64.whl size=1633753 sha256=e4f854e2b5b1f9c923705e111372092018b11192b8c4bcc8b91dcd368c85262d\n",
            "  Stored in directory: /root/.cache/pip/wheels/76/44/74/b498c42be47b2406bd27994e16c5188e337c657025ab400c1c\n",
            "Successfully built lightfm memory-profiler retrying scikit-surprise\n",
            "Installing collected packages: traitlets, tornado, mypy-extensions, typing-inspect, textwrap3, pyyaml, jupyter-client, exceptiongroup, tokenizers, powerlaw, pandera, hypothesis, huggingface-hub, ansiwrap, transformers, scikit-surprise, retrying, papermill, memory-profiler, lightfm, cornac, category-encoders, bottleneck, scrapbook, recommenders\n",
            "  Attempting uninstall: traitlets\n",
            "    Found existing installation: traitlets 5.1.1\n",
            "    Uninstalling traitlets-5.1.1:\n",
            "      Successfully uninstalled traitlets-5.1.1\n",
            "  Attempting uninstall: tornado\n",
            "    Found existing installation: tornado 5.1.1\n",
            "    Uninstalling tornado-5.1.1:\n",
            "      Successfully uninstalled tornado-5.1.1\n",
            "  Attempting uninstall: pyyaml\n",
            "    Found existing installation: PyYAML 3.13\n",
            "    Uninstalling PyYAML-3.13:\n",
            "      Successfully uninstalled PyYAML-3.13\n",
            "  Attempting uninstall: jupyter-client\n",
            "    Found existing installation: jupyter-client 5.3.5\n",
            "    Uninstalling jupyter-client-5.3.5:\n",
            "      Successfully uninstalled jupyter-client-5.3.5\n",
            "\u001b[31mERROR: pip's dependency resolver does not currently take into account all the packages that are installed. This behaviour is the source of the following dependency conflicts.\n",
            "google-colab 1.0.0 requires tornado~=5.1.0; python_version >= \"3.0\", but you have tornado 6.2 which is incompatible.\u001b[0m\n",
            "Successfully installed ansiwrap-0.8.4 bottleneck-1.3.5 category-encoders-1.3.0 cornac-1.14.2 exceptiongroup-1.0.0rc8 huggingface-hub-0.8.1 hypothesis-6.49.1 jupyter-client-7.3.4 lightfm-1.16 memory-profiler-0.60.0 mypy-extensions-0.4.3 pandera-0.9.0 papermill-2.3.4 powerlaw-1.5 pyyaml-5.4.1 recommenders-1.1.0 retrying-1.3.3 scikit-surprise-1.1.1 scrapbook-0.5.0 textwrap3-0.9.2 tokenizers-0.12.1 tornado-6.2 traitlets-5.3.0 transformers-4.20.1 typing-inspect-0.7.1\n"
          ]
        },
        {
          "output_type": "display_data",
          "data": {
            "application/vnd.colab-display-data+json": {
              "pip_warning": {
                "packages": [
                  "tornado"
                ]
              }
            }
          },
          "metadata": {}
        }
      ]
    },
    {
      "cell_type": "code",
      "execution_count": 13,
      "metadata": {
        "colab": {
          "base_uri": "https://localhost:8080/",
          "height": 242
        },
        "id": "pvBy-xBhQZIt",
        "outputId": "90d83883-06a5-4ace-b9e2-6ee07c05b8a3"
      },
      "outputs": [
        {
          "output_type": "stream",
          "name": "stdout",
          "text": [
            "(1457271, 8)\n",
            "(20000, 8)\n"
          ]
        },
        {
          "output_type": "execute_result",
          "data": {
            "text/plain": [
              "             timestamp            hit_id  \\\n",
              "0  2022-06-29 01:04:03  4b45e714d01842a7   \n",
              "1  2022-06-29 01:06:10  e688e3349b35430f   \n",
              "2  2022-06-29 01:08:48  97c52e7a2e574f44   \n",
              "3  2022-06-29 01:09:39  d52e99bc7f7f4db8   \n",
              "4  2022-06-29 01:12:50  d49bf3352f64401c   \n",
              "\n",
              "                                    uid platform       event_name  \\\n",
              "0                              16650505      ios  OpenOfferScreen   \n",
              "1                              92346837  android  OpenOfferScreen   \n",
              "2  0bf81f10-ee3a-4543-a9ee-2bd12b4e4ec6  android  OpenOfferScreen   \n",
              "3                              84081279      ios  OpenOfferScreen   \n",
              "4  0bf81f10-ee3a-4543-a9ee-2bd12b4e4ec6  android  OpenOfferScreen   \n",
              "\n",
              "              screen     offer_id    ptn_dadd  \n",
              "0  SearchResultsList  274266785.0  2022-06-29  \n",
              "1          MapScreen  270671363.0  2022-06-29  \n",
              "2          Undefined  272968099.0  2022-06-29  \n",
              "3  SearchResultsList  268313499.0  2022-06-29  \n",
              "4          Undefined  255933042.0  2022-06-29  "
            ],
            "text/html": [
              "\n",
              "  <div id=\"df-b9fffe19-25e5-4928-9900-298a2a155ecb\">\n",
              "    <div class=\"colab-df-container\">\n",
              "      <div>\n",
              "<style scoped>\n",
              "    .dataframe tbody tr th:only-of-type {\n",
              "        vertical-align: middle;\n",
              "    }\n",
              "\n",
              "    .dataframe tbody tr th {\n",
              "        vertical-align: top;\n",
              "    }\n",
              "\n",
              "    .dataframe thead th {\n",
              "        text-align: right;\n",
              "    }\n",
              "</style>\n",
              "<table border=\"1\" class=\"dataframe\">\n",
              "  <thead>\n",
              "    <tr style=\"text-align: right;\">\n",
              "      <th></th>\n",
              "      <th>timestamp</th>\n",
              "      <th>hit_id</th>\n",
              "      <th>uid</th>\n",
              "      <th>platform</th>\n",
              "      <th>event_name</th>\n",
              "      <th>screen</th>\n",
              "      <th>offer_id</th>\n",
              "      <th>ptn_dadd</th>\n",
              "    </tr>\n",
              "  </thead>\n",
              "  <tbody>\n",
              "    <tr>\n",
              "      <th>0</th>\n",
              "      <td>2022-06-29 01:04:03</td>\n",
              "      <td>4b45e714d01842a7</td>\n",
              "      <td>16650505</td>\n",
              "      <td>ios</td>\n",
              "      <td>OpenOfferScreen</td>\n",
              "      <td>SearchResultsList</td>\n",
              "      <td>274266785.0</td>\n",
              "      <td>2022-06-29</td>\n",
              "    </tr>\n",
              "    <tr>\n",
              "      <th>1</th>\n",
              "      <td>2022-06-29 01:06:10</td>\n",
              "      <td>e688e3349b35430f</td>\n",
              "      <td>92346837</td>\n",
              "      <td>android</td>\n",
              "      <td>OpenOfferScreen</td>\n",
              "      <td>MapScreen</td>\n",
              "      <td>270671363.0</td>\n",
              "      <td>2022-06-29</td>\n",
              "    </tr>\n",
              "    <tr>\n",
              "      <th>2</th>\n",
              "      <td>2022-06-29 01:08:48</td>\n",
              "      <td>97c52e7a2e574f44</td>\n",
              "      <td>0bf81f10-ee3a-4543-a9ee-2bd12b4e4ec6</td>\n",
              "      <td>android</td>\n",
              "      <td>OpenOfferScreen</td>\n",
              "      <td>Undefined</td>\n",
              "      <td>272968099.0</td>\n",
              "      <td>2022-06-29</td>\n",
              "    </tr>\n",
              "    <tr>\n",
              "      <th>3</th>\n",
              "      <td>2022-06-29 01:09:39</td>\n",
              "      <td>d52e99bc7f7f4db8</td>\n",
              "      <td>84081279</td>\n",
              "      <td>ios</td>\n",
              "      <td>OpenOfferScreen</td>\n",
              "      <td>SearchResultsList</td>\n",
              "      <td>268313499.0</td>\n",
              "      <td>2022-06-29</td>\n",
              "    </tr>\n",
              "    <tr>\n",
              "      <th>4</th>\n",
              "      <td>2022-06-29 01:12:50</td>\n",
              "      <td>d49bf3352f64401c</td>\n",
              "      <td>0bf81f10-ee3a-4543-a9ee-2bd12b4e4ec6</td>\n",
              "      <td>android</td>\n",
              "      <td>OpenOfferScreen</td>\n",
              "      <td>Undefined</td>\n",
              "      <td>255933042.0</td>\n",
              "      <td>2022-06-29</td>\n",
              "    </tr>\n",
              "  </tbody>\n",
              "</table>\n",
              "</div>\n",
              "      <button class=\"colab-df-convert\" onclick=\"convertToInteractive('df-b9fffe19-25e5-4928-9900-298a2a155ecb')\"\n",
              "              title=\"Convert this dataframe to an interactive table.\"\n",
              "              style=\"display:none;\">\n",
              "        \n",
              "  <svg xmlns=\"http://www.w3.org/2000/svg\" height=\"24px\"viewBox=\"0 0 24 24\"\n",
              "       width=\"24px\">\n",
              "    <path d=\"M0 0h24v24H0V0z\" fill=\"none\"/>\n",
              "    <path d=\"M18.56 5.44l.94 2.06.94-2.06 2.06-.94-2.06-.94-.94-2.06-.94 2.06-2.06.94zm-11 1L8.5 8.5l.94-2.06 2.06-.94-2.06-.94L8.5 2.5l-.94 2.06-2.06.94zm10 10l.94 2.06.94-2.06 2.06-.94-2.06-.94-.94-2.06-.94 2.06-2.06.94z\"/><path d=\"M17.41 7.96l-1.37-1.37c-.4-.4-.92-.59-1.43-.59-.52 0-1.04.2-1.43.59L10.3 9.45l-7.72 7.72c-.78.78-.78 2.05 0 2.83L4 21.41c.39.39.9.59 1.41.59.51 0 1.02-.2 1.41-.59l7.78-7.78 2.81-2.81c.8-.78.8-2.07 0-2.86zM5.41 20L4 18.59l7.72-7.72 1.47 1.35L5.41 20z\"/>\n",
              "  </svg>\n",
              "      </button>\n",
              "      \n",
              "  <style>\n",
              "    .colab-df-container {\n",
              "      display:flex;\n",
              "      flex-wrap:wrap;\n",
              "      gap: 12px;\n",
              "    }\n",
              "\n",
              "    .colab-df-convert {\n",
              "      background-color: #E8F0FE;\n",
              "      border: none;\n",
              "      border-radius: 50%;\n",
              "      cursor: pointer;\n",
              "      display: none;\n",
              "      fill: #1967D2;\n",
              "      height: 32px;\n",
              "      padding: 0 0 0 0;\n",
              "      width: 32px;\n",
              "    }\n",
              "\n",
              "    .colab-df-convert:hover {\n",
              "      background-color: #E2EBFA;\n",
              "      box-shadow: 0px 1px 2px rgba(60, 64, 67, 0.3), 0px 1px 3px 1px rgba(60, 64, 67, 0.15);\n",
              "      fill: #174EA6;\n",
              "    }\n",
              "\n",
              "    [theme=dark] .colab-df-convert {\n",
              "      background-color: #3B4455;\n",
              "      fill: #D2E3FC;\n",
              "    }\n",
              "\n",
              "    [theme=dark] .colab-df-convert:hover {\n",
              "      background-color: #434B5C;\n",
              "      box-shadow: 0px 1px 3px 1px rgba(0, 0, 0, 0.15);\n",
              "      filter: drop-shadow(0px 1px 2px rgba(0, 0, 0, 0.3));\n",
              "      fill: #FFFFFF;\n",
              "    }\n",
              "  </style>\n",
              "\n",
              "      <script>\n",
              "        const buttonEl =\n",
              "          document.querySelector('#df-b9fffe19-25e5-4928-9900-298a2a155ecb button.colab-df-convert');\n",
              "        buttonEl.style.display =\n",
              "          google.colab.kernel.accessAllowed ? 'block' : 'none';\n",
              "\n",
              "        async function convertToInteractive(key) {\n",
              "          const element = document.querySelector('#df-b9fffe19-25e5-4928-9900-298a2a155ecb');\n",
              "          const dataTable =\n",
              "            await google.colab.kernel.invokeFunction('convertToInteractive',\n",
              "                                                     [key], {});\n",
              "          if (!dataTable) return;\n",
              "\n",
              "          const docLinkHtml = 'Like what you see? Visit the ' +\n",
              "            '<a target=\"_blank\" href=https://colab.research.google.com/notebooks/data_table.ipynb>data table notebook</a>'\n",
              "            + ' to learn more about interactive tables.';\n",
              "          element.innerHTML = '';\n",
              "          dataTable['output_type'] = 'display_data';\n",
              "          await google.colab.output.renderOutput(dataTable, element);\n",
              "          const docLink = document.createElement('div');\n",
              "          docLink.innerHTML = docLinkHtml;\n",
              "          element.appendChild(docLink);\n",
              "        }\n",
              "      </script>\n",
              "    </div>\n",
              "  </div>\n",
              "  "
            ]
          },
          "metadata": {},
          "execution_count": 13
        }
      ],
      "source": [
        "my_data = pd.read_csv('internship_clickstream_data.csv')\n",
        "print(my_data.shape) # (7458216, 8)\n",
        "my_data = my_data.iloc[:20000]\n",
        "print(my_data.shape)\n",
        "my_data.head()"
      ]
    },
    {
      "cell_type": "code",
      "execution_count": 15,
      "metadata": {
        "colab": {
          "base_uri": "https://localhost:8080/"
        },
        "id": "iFSwYaRnQZLT",
        "outputId": "46d25f77-d819-4a65-d9c6-c3e8a00e1134"
      },
      "outputs": [
        {
          "output_type": "stream",
          "name": "stdout",
          "text": [
            "<class 'pandas.core.frame.DataFrame'>\n",
            "Int64Index: 19604 entries, 0 to 19999\n",
            "Data columns (total 8 columns):\n",
            " #   Column      Non-Null Count  Dtype  \n",
            "---  ------      --------------  -----  \n",
            " 0   timestamp   19604 non-null  object \n",
            " 1   hit_id      19604 non-null  object \n",
            " 2   uid         19604 non-null  object \n",
            " 3   platform    19604 non-null  object \n",
            " 4   event_name  19604 non-null  object \n",
            " 5   screen      19604 non-null  object \n",
            " 6   offer_id    19604 non-null  float64\n",
            " 7   ptn_dadd    19604 non-null  object \n",
            "dtypes: float64(1), object(7)\n",
            "memory usage: 1.3+ MB\n"
          ]
        }
      ],
      "source": [
        "my_data.dropna(inplace=True)\n",
        "my_data.info()"
      ]
    },
    {
      "cell_type": "code",
      "source": [
        "# encode, start with 1\n",
        "offer_encoder = {off: ind for ind, off in enumerate(my_data['offer_id'].unique())}\n",
        "my_data['offer_id_enc'] = my_data['offer_id'].map(offer_encoder) + 1\n",
        "uid_encoder = {uid: ind for ind, uid in enumerate(my_data['uid'].unique())}\n",
        "my_data['uid_enc'] = my_data['uid'].map(uid_encoder) + 1\n",
        "\n",
        "# sort by user id and time iteraction\n",
        "my_data['timestamp'] = pd.to_datetime(my_data['timestamp'])\n",
        "my_data.sort_values(by=['uid_enc', 'timestamp'], inplace=True)\n",
        "my_data.head(10)"
      ],
      "metadata": {
        "colab": {
          "base_uri": "https://localhost:8080/",
          "height": 581
        },
        "id": "6x4KRXkHryhY",
        "outputId": "4a09a569-4b67-4c69-c639-8fd833eaac0b"
      },
      "execution_count": 16,
      "outputs": [
        {
          "output_type": "execute_result",
          "data": {
            "text/plain": [
              "               timestamp            hit_id  \\\n",
              "6509 2022-06-28 04:53:23  0c2b184e62f04368   \n",
              "6513 2022-06-28 04:54:23  289db0a4dfc344bf   \n",
              "6532 2022-06-28 04:59:12  21df94e71e4b4df7   \n",
              "0    2022-06-29 01:04:03  4b45e714d01842a7   \n",
              "1    2022-06-29 01:06:10  e688e3349b35430f   \n",
              "573  2022-06-30 04:02:29  cce4c352289c4ab1   \n",
              "2    2022-06-29 01:08:48  97c52e7a2e574f44   \n",
              "4    2022-06-29 01:12:50  d49bf3352f64401c   \n",
              "3    2022-06-29 01:09:39  d52e99bc7f7f4db8   \n",
              "5    2022-06-29 01:19:44  c5d68cf595514deb   \n",
              "\n",
              "                                       uid platform       event_name  \\\n",
              "6509                              16650505      ios  OpenOfferScreen   \n",
              "6513                              16650505      ios  OpenOfferScreen   \n",
              "6532                              16650505      ios  OpenOfferScreen   \n",
              "0                                 16650505      ios  OpenOfferScreen   \n",
              "1                                 92346837  android  OpenOfferScreen   \n",
              "573                               92346837  android  OpenOfferScreen   \n",
              "2     0bf81f10-ee3a-4543-a9ee-2bd12b4e4ec6  android  OpenOfferScreen   \n",
              "4     0bf81f10-ee3a-4543-a9ee-2bd12b4e4ec6  android  OpenOfferScreen   \n",
              "3                                 84081279      ios  OpenOfferScreen   \n",
              "5     045d4ebe-c599-4db0-9923-3b0eee03eaa8  android  OpenOfferScreen   \n",
              "\n",
              "                     screen     offer_id    ptn_dadd  offer_id_enc  uid_enc  \n",
              "6509              MapScreen  249093727.0  2022-06-28          6070        1  \n",
              "6513              MapScreen  274743850.0  2022-06-28          6074        1  \n",
              "6532              MapScreen  264617112.0  2022-06-28          6093        1  \n",
              "0         SearchResultsList  274266785.0  2022-06-29             1        1  \n",
              "1                 MapScreen  270671363.0  2022-06-29             2        2  \n",
              "573               MapScreen  274001335.0  2022-06-30           551        2  \n",
              "2                 Undefined  272968099.0  2022-06-29             3        3  \n",
              "4                 Undefined  255933042.0  2022-06-29             5        3  \n",
              "3         SearchResultsList  268313499.0  2022-06-29             4        4  \n",
              "5     NewBuildingOffersList  269300331.0  2022-06-29             6        5  "
            ],
            "text/html": [
              "\n",
              "  <div id=\"df-8b65d0f2-46a3-4b46-a1f2-70605ed1568f\">\n",
              "    <div class=\"colab-df-container\">\n",
              "      <div>\n",
              "<style scoped>\n",
              "    .dataframe tbody tr th:only-of-type {\n",
              "        vertical-align: middle;\n",
              "    }\n",
              "\n",
              "    .dataframe tbody tr th {\n",
              "        vertical-align: top;\n",
              "    }\n",
              "\n",
              "    .dataframe thead th {\n",
              "        text-align: right;\n",
              "    }\n",
              "</style>\n",
              "<table border=\"1\" class=\"dataframe\">\n",
              "  <thead>\n",
              "    <tr style=\"text-align: right;\">\n",
              "      <th></th>\n",
              "      <th>timestamp</th>\n",
              "      <th>hit_id</th>\n",
              "      <th>uid</th>\n",
              "      <th>platform</th>\n",
              "      <th>event_name</th>\n",
              "      <th>screen</th>\n",
              "      <th>offer_id</th>\n",
              "      <th>ptn_dadd</th>\n",
              "      <th>offer_id_enc</th>\n",
              "      <th>uid_enc</th>\n",
              "    </tr>\n",
              "  </thead>\n",
              "  <tbody>\n",
              "    <tr>\n",
              "      <th>6509</th>\n",
              "      <td>2022-06-28 04:53:23</td>\n",
              "      <td>0c2b184e62f04368</td>\n",
              "      <td>16650505</td>\n",
              "      <td>ios</td>\n",
              "      <td>OpenOfferScreen</td>\n",
              "      <td>MapScreen</td>\n",
              "      <td>249093727.0</td>\n",
              "      <td>2022-06-28</td>\n",
              "      <td>6070</td>\n",
              "      <td>1</td>\n",
              "    </tr>\n",
              "    <tr>\n",
              "      <th>6513</th>\n",
              "      <td>2022-06-28 04:54:23</td>\n",
              "      <td>289db0a4dfc344bf</td>\n",
              "      <td>16650505</td>\n",
              "      <td>ios</td>\n",
              "      <td>OpenOfferScreen</td>\n",
              "      <td>MapScreen</td>\n",
              "      <td>274743850.0</td>\n",
              "      <td>2022-06-28</td>\n",
              "      <td>6074</td>\n",
              "      <td>1</td>\n",
              "    </tr>\n",
              "    <tr>\n",
              "      <th>6532</th>\n",
              "      <td>2022-06-28 04:59:12</td>\n",
              "      <td>21df94e71e4b4df7</td>\n",
              "      <td>16650505</td>\n",
              "      <td>ios</td>\n",
              "      <td>OpenOfferScreen</td>\n",
              "      <td>MapScreen</td>\n",
              "      <td>264617112.0</td>\n",
              "      <td>2022-06-28</td>\n",
              "      <td>6093</td>\n",
              "      <td>1</td>\n",
              "    </tr>\n",
              "    <tr>\n",
              "      <th>0</th>\n",
              "      <td>2022-06-29 01:04:03</td>\n",
              "      <td>4b45e714d01842a7</td>\n",
              "      <td>16650505</td>\n",
              "      <td>ios</td>\n",
              "      <td>OpenOfferScreen</td>\n",
              "      <td>SearchResultsList</td>\n",
              "      <td>274266785.0</td>\n",
              "      <td>2022-06-29</td>\n",
              "      <td>1</td>\n",
              "      <td>1</td>\n",
              "    </tr>\n",
              "    <tr>\n",
              "      <th>1</th>\n",
              "      <td>2022-06-29 01:06:10</td>\n",
              "      <td>e688e3349b35430f</td>\n",
              "      <td>92346837</td>\n",
              "      <td>android</td>\n",
              "      <td>OpenOfferScreen</td>\n",
              "      <td>MapScreen</td>\n",
              "      <td>270671363.0</td>\n",
              "      <td>2022-06-29</td>\n",
              "      <td>2</td>\n",
              "      <td>2</td>\n",
              "    </tr>\n",
              "    <tr>\n",
              "      <th>573</th>\n",
              "      <td>2022-06-30 04:02:29</td>\n",
              "      <td>cce4c352289c4ab1</td>\n",
              "      <td>92346837</td>\n",
              "      <td>android</td>\n",
              "      <td>OpenOfferScreen</td>\n",
              "      <td>MapScreen</td>\n",
              "      <td>274001335.0</td>\n",
              "      <td>2022-06-30</td>\n",
              "      <td>551</td>\n",
              "      <td>2</td>\n",
              "    </tr>\n",
              "    <tr>\n",
              "      <th>2</th>\n",
              "      <td>2022-06-29 01:08:48</td>\n",
              "      <td>97c52e7a2e574f44</td>\n",
              "      <td>0bf81f10-ee3a-4543-a9ee-2bd12b4e4ec6</td>\n",
              "      <td>android</td>\n",
              "      <td>OpenOfferScreen</td>\n",
              "      <td>Undefined</td>\n",
              "      <td>272968099.0</td>\n",
              "      <td>2022-06-29</td>\n",
              "      <td>3</td>\n",
              "      <td>3</td>\n",
              "    </tr>\n",
              "    <tr>\n",
              "      <th>4</th>\n",
              "      <td>2022-06-29 01:12:50</td>\n",
              "      <td>d49bf3352f64401c</td>\n",
              "      <td>0bf81f10-ee3a-4543-a9ee-2bd12b4e4ec6</td>\n",
              "      <td>android</td>\n",
              "      <td>OpenOfferScreen</td>\n",
              "      <td>Undefined</td>\n",
              "      <td>255933042.0</td>\n",
              "      <td>2022-06-29</td>\n",
              "      <td>5</td>\n",
              "      <td>3</td>\n",
              "    </tr>\n",
              "    <tr>\n",
              "      <th>3</th>\n",
              "      <td>2022-06-29 01:09:39</td>\n",
              "      <td>d52e99bc7f7f4db8</td>\n",
              "      <td>84081279</td>\n",
              "      <td>ios</td>\n",
              "      <td>OpenOfferScreen</td>\n",
              "      <td>SearchResultsList</td>\n",
              "      <td>268313499.0</td>\n",
              "      <td>2022-06-29</td>\n",
              "      <td>4</td>\n",
              "      <td>4</td>\n",
              "    </tr>\n",
              "    <tr>\n",
              "      <th>5</th>\n",
              "      <td>2022-06-29 01:19:44</td>\n",
              "      <td>c5d68cf595514deb</td>\n",
              "      <td>045d4ebe-c599-4db0-9923-3b0eee03eaa8</td>\n",
              "      <td>android</td>\n",
              "      <td>OpenOfferScreen</td>\n",
              "      <td>NewBuildingOffersList</td>\n",
              "      <td>269300331.0</td>\n",
              "      <td>2022-06-29</td>\n",
              "      <td>6</td>\n",
              "      <td>5</td>\n",
              "    </tr>\n",
              "  </tbody>\n",
              "</table>\n",
              "</div>\n",
              "      <button class=\"colab-df-convert\" onclick=\"convertToInteractive('df-8b65d0f2-46a3-4b46-a1f2-70605ed1568f')\"\n",
              "              title=\"Convert this dataframe to an interactive table.\"\n",
              "              style=\"display:none;\">\n",
              "        \n",
              "  <svg xmlns=\"http://www.w3.org/2000/svg\" height=\"24px\"viewBox=\"0 0 24 24\"\n",
              "       width=\"24px\">\n",
              "    <path d=\"M0 0h24v24H0V0z\" fill=\"none\"/>\n",
              "    <path d=\"M18.56 5.44l.94 2.06.94-2.06 2.06-.94-2.06-.94-.94-2.06-.94 2.06-2.06.94zm-11 1L8.5 8.5l.94-2.06 2.06-.94-2.06-.94L8.5 2.5l-.94 2.06-2.06.94zm10 10l.94 2.06.94-2.06 2.06-.94-2.06-.94-.94-2.06-.94 2.06-2.06.94z\"/><path d=\"M17.41 7.96l-1.37-1.37c-.4-.4-.92-.59-1.43-.59-.52 0-1.04.2-1.43.59L10.3 9.45l-7.72 7.72c-.78.78-.78 2.05 0 2.83L4 21.41c.39.39.9.59 1.41.59.51 0 1.02-.2 1.41-.59l7.78-7.78 2.81-2.81c.8-.78.8-2.07 0-2.86zM5.41 20L4 18.59l7.72-7.72 1.47 1.35L5.41 20z\"/>\n",
              "  </svg>\n",
              "      </button>\n",
              "      \n",
              "  <style>\n",
              "    .colab-df-container {\n",
              "      display:flex;\n",
              "      flex-wrap:wrap;\n",
              "      gap: 12px;\n",
              "    }\n",
              "\n",
              "    .colab-df-convert {\n",
              "      background-color: #E8F0FE;\n",
              "      border: none;\n",
              "      border-radius: 50%;\n",
              "      cursor: pointer;\n",
              "      display: none;\n",
              "      fill: #1967D2;\n",
              "      height: 32px;\n",
              "      padding: 0 0 0 0;\n",
              "      width: 32px;\n",
              "    }\n",
              "\n",
              "    .colab-df-convert:hover {\n",
              "      background-color: #E2EBFA;\n",
              "      box-shadow: 0px 1px 2px rgba(60, 64, 67, 0.3), 0px 1px 3px 1px rgba(60, 64, 67, 0.15);\n",
              "      fill: #174EA6;\n",
              "    }\n",
              "\n",
              "    [theme=dark] .colab-df-convert {\n",
              "      background-color: #3B4455;\n",
              "      fill: #D2E3FC;\n",
              "    }\n",
              "\n",
              "    [theme=dark] .colab-df-convert:hover {\n",
              "      background-color: #434B5C;\n",
              "      box-shadow: 0px 1px 3px 1px rgba(0, 0, 0, 0.15);\n",
              "      filter: drop-shadow(0px 1px 2px rgba(0, 0, 0, 0.3));\n",
              "      fill: #FFFFFF;\n",
              "    }\n",
              "  </style>\n",
              "\n",
              "      <script>\n",
              "        const buttonEl =\n",
              "          document.querySelector('#df-8b65d0f2-46a3-4b46-a1f2-70605ed1568f button.colab-df-convert');\n",
              "        buttonEl.style.display =\n",
              "          google.colab.kernel.accessAllowed ? 'block' : 'none';\n",
              "\n",
              "        async function convertToInteractive(key) {\n",
              "          const element = document.querySelector('#df-8b65d0f2-46a3-4b46-a1f2-70605ed1568f');\n",
              "          const dataTable =\n",
              "            await google.colab.kernel.invokeFunction('convertToInteractive',\n",
              "                                                     [key], {});\n",
              "          if (!dataTable) return;\n",
              "\n",
              "          const docLinkHtml = 'Like what you see? Visit the ' +\n",
              "            '<a target=\"_blank\" href=https://colab.research.google.com/notebooks/data_table.ipynb>data table notebook</a>'\n",
              "            + ' to learn more about interactive tables.';\n",
              "          element.innerHTML = '';\n",
              "          dataTable['output_type'] = 'display_data';\n",
              "          await google.colab.output.renderOutput(dataTable, element);\n",
              "          const docLink = document.createElement('div');\n",
              "          docLink.innerHTML = docLinkHtml;\n",
              "          element.appendChild(docLink);\n",
              "        }\n",
              "      </script>\n",
              "    </div>\n",
              "  </div>\n",
              "  "
            ]
          },
          "metadata": {},
          "execution_count": 16
        }
      ]
    },
    {
      "cell_type": "code",
      "execution_count": 17,
      "metadata": {
        "id": "J4cd43lvQoMQ"
      },
      "outputs": [],
      "source": [
        "# create .txt file for input to model\n",
        "my_data[['offer_id_enc',\t'uid_enc']].to_csv('out.txt', sep=\"\\t\", header=False, index=False)"
      ]
    },
    {
      "cell_type": "code",
      "execution_count": 18,
      "metadata": {
        "id": "B2SIcDCPUgVD"
      },
      "outputs": [],
      "source": [
        "# create specia; data format for SAS\n",
        "data = SASRecDataSet(filename='out.txt', col_sep='\\t')\n",
        "# split into train, test and validation\n",
        "data.split()"
      ]
    },
    {
      "cell_type": "code",
      "execution_count": 19,
      "metadata": {
        "id": "b-fJl_ANdpvw"
      },
      "outputs": [],
      "source": [
        "# model variables\n",
        "num_epochs = 5\n",
        "batch_size = 128\n",
        "RANDOM_SEED = 100  # Set None for non-deterministic result\n",
        "\n",
        "lr = 0.001             # learning rate\n",
        "maxlen = 50            # maximum sequence length for each user\n",
        "num_blocks = 2         # number of transformer blocks\n",
        "hidden_units = 100     # number of units in the attention calculation\n",
        "num_heads = 1          # number of attention heads\n",
        "dropout_rate = 0.1     # dropout rate\n",
        "l2_emb = 0.0           # L2 regularization coefficient\n",
        "num_neg_test = 100     # number of negative examples per positive example\n",
        "model_name = 'ssept'  # 'sasrec' or 'ssept'\n"
      ]
    },
    {
      "cell_type": "code",
      "execution_count": 20,
      "metadata": {
        "id": "nHF3F4iUUhXK"
      },
      "outputs": [],
      "source": [
        "# sample negative examples\n",
        "sampler = WarpSampler(data.user_train, data.usernum, data.itemnum, batch_size=batch_size, maxlen=maxlen, n_workers=3)"
      ]
    },
    {
      "cell_type": "code",
      "execution_count": 21,
      "metadata": {
        "id": "lDiY8BMXUzgJ"
      },
      "outputs": [],
      "source": [
        "model = SASREC(item_num=data.itemnum,\n",
        "               seq_max_len=maxlen,\n",
        "               num_blocks=num_blocks,\n",
        "               embedding_dim=hidden_units,\n",
        "               attention_dim=hidden_units,\n",
        "               attention_num_heads=num_heads,\n",
        "               dropout_rate=dropout_rate,\n",
        "               conv_dims = [100, 100],\n",
        "               l2_reg=l2_emb,\n",
        "               num_neg_test=num_neg_test)"
      ]
    },
    {
      "cell_type": "code",
      "execution_count": 22,
      "metadata": {
        "colab": {
          "base_uri": "https://localhost:8080/"
        },
        "id": "9k_02xldUzib",
        "outputId": "cd8f2b2f-a8d7-42fd-fb2f-de6d8fb9ee54"
      },
      "outputs": [
        {
          "output_type": "stream",
          "name": "stderr",
          "text": [
            ""
          ]
        },
        {
          "output_type": "stream",
          "name": "stdout",
          "text": [
            "\n",
            "epoch: 1, test (NDCG@10: 0.675666701962054, HR@10: 0.7068965517241379)\n"
          ]
        }
      ],
      "source": [
        "with Timer() as train_time:\n",
        "    t_test = model.train(data, sampler, num_epochs=1, batch_size=200, lr=lr, val_epoch=6)"
      ]
    },
    {
      "cell_type": "code",
      "source": [
        "t_test # встроенно оценивает ndcg@10 (Normalized discounted cumulative gain) и Hit@10"
      ],
      "metadata": {
        "colab": {
          "base_uri": "https://localhost:8080/"
        },
        "id": "2PXTVxoX1RKq",
        "outputId": "5d09d97a-824b-4dc3-f445-f8bc99aa7115"
      },
      "execution_count": 25,
      "outputs": [
        {
          "output_type": "execute_result",
          "data": {
            "text/plain": [
              "(0.675666701962054, 0.7068965517241379)"
            ]
          },
          "metadata": {},
          "execution_count": 25
        }
      ]
    },
    {
      "cell_type": "code",
      "source": [
        "print(data.usernum)\n",
        "print(model.num_neg_test)"
      ],
      "metadata": {
        "colab": {
          "base_uri": "https://localhost:8080/"
        },
        "id": "_SWtGgew_DiW",
        "outputId": "055e2db7-85cb-445a-c393-2e14b3aa1967"
      },
      "execution_count": 71,
      "outputs": [
        {
          "output_type": "stream",
          "name": "stdout",
          "text": [
            "17980\n",
            "100\n"
          ]
        }
      ]
    },
    {
      "cell_type": "code",
      "execution_count": 81,
      "metadata": {
        "id": "kKpJDlnGxibr"
      },
      "outputs": [],
      "source": [
        "import random\n",
        "from tqdm import tqdm\n",
        "\n",
        "def get_predictions(data):\n",
        "    \"\"\"\n",
        "        Модифицированный метод evaluation класса SASREC,\n",
        "        главный результат - получаем предсказания для всех пользователей из датасета\n",
        "    \"\"\"\n",
        "    usernum = data.usernum # max № of user\n",
        "    itemnum = data.itemnum # max № of item\n",
        "    train = data.user_train\n",
        "    valid = data.user_valid\n",
        "    test = data.user_test\n",
        "\n",
        "    pred_dict = {}\n",
        "    all_inputs = {}\n",
        "    \n",
        "    # насэмплим рандомных 10000 пользователей (или меньше, если их разнообразие небольшое:))\n",
        "    if usernum > 10000:\n",
        "        users = random.sample(range(1, usernum + 1), 10000)\n",
        "    else:\n",
        "        users = range(1, usernum + 1)\n",
        "    \n",
        "    # для каждого пользователя делаем оценку\n",
        "    for u in tqdm(users, ncols=70, leave=False, unit=\"b\"):\n",
        "\n",
        "        if len(train[u]) < 1 or len(test[u]) < 1: # если для текущего пользователя нет ничего в train или test => continue\n",
        "            continue\n",
        "        # для input_seq\n",
        "        seq = np.zeros([model.seq_max_len], dtype=np.int32)\n",
        "        idx = model.seq_max_len - 1\n",
        "        seq[idx] = valid[u][0]\n",
        "        idx -= 1\n",
        "        for i in reversed(train[u]): \n",
        "            seq[idx] = i\n",
        "            idx -= 1\n",
        "            if idx == -1: # если нет в train и valid => break\n",
        "                break\n",
        "        # для candidate\n",
        "        rated = set(train[u]) # то, что оценил пользователь, из train'a\n",
        "        rated.add(0)\n",
        "        item_idx = [test[u][0]] # первым в последовательность помещаем тык из теста\n",
        "        for _ in range(model.num_neg_test): # размер последовательностей получается фиксированный, задаётся в параметрах модели при инициализации\n",
        "                                            # https://github.com/microsoft/recommenders/blob/main/examples/00_quick_start/sasrec_amazon.ipynb\n",
        "            t = np.random.randint(1, itemnum + 1)\n",
        "            while t in rated:\n",
        "                t = np.random.randint(1, itemnum + 1) # генерим рандомно (?)\n",
        "            item_idx.append(t)\n",
        "\n",
        "        inputs = {}\n",
        "        inputs[\"user\"] = np.expand_dims(np.array([u]), axis=-1) # просто номер пользователя\n",
        "        inputs[\"input_seq\"] = np.array([seq]) # входная последовательность что тыкнул пользователь - ИЗ TRAIN И VALID!\n",
        "        inputs[\"candidate\"] = np.array([item_idx]) # объявки, для которых будем вычислять логиты\n",
        "        all_inputs[inputs[\"user\"][0][0]] = inputs # словарик для всех inputs\n",
        "\n",
        "        # добавляем каждого пользователя в словарик предиктов\n",
        "        pred_dict[inputs[\"user\"][0][0]] = model.predict(inputs)\n",
        "\n",
        "    return pred_dict, all_inputs"
      ]
    },
    {
      "cell_type": "code",
      "execution_count": 82,
      "metadata": {
        "colab": {
          "base_uri": "https://localhost:8080/"
        },
        "id": "paMVZPyVn1T0",
        "outputId": "39cb72b2-ba6d-41df-a5a1-fad41ae9a7ac"
      },
      "outputs": [
        {
          "output_type": "stream",
          "name": "stderr",
          "text": [
            ""
          ]
        }
      ],
      "source": [
        "pred_dict, inputs = get_predictions(data)"
      ]
    },
    {
      "cell_type": "code",
      "source": [
        "# посмотрим, что input_seq - это то, что нажал пользователь из train и valid\n",
        "display(inputs[4910]) # user_id для примера\n",
        "print(\"\\n\")\n",
        "print(\"Из train и valid:\", data.user_train[4910], data.user_valid[4910])\n",
        "print(\"Из test:\", data.user_test[4910])"
      ],
      "metadata": {
        "colab": {
          "base_uri": "https://localhost:8080/",
          "height": 410
        },
        "id": "vhHwbOzFDQ0D",
        "outputId": "2f65bb2a-1d36-4722-e3d3-1518e9713034"
      },
      "execution_count": 83,
      "outputs": [
        {
          "output_type": "display_data",
          "data": {
            "text/plain": [
              "{'candidate': array([[10150, 10213,  3446,  1508,   986,  8025,   716,  4030,  3987,\n",
              "           606,  1454,  5848,   744,  9603,   668,  2434,  3792,   241,\n",
              "          6374,  7214,  3212, 10342,  5577,  4895,  7185,  4743,  6529,\n",
              "          8599, 10480,  2924,  8039,  7764,  2966,  5807,  1502,  5442,\n",
              "          6341,  7813,  4870,  5801,  6580,  8081,  3784, 10187,  5409,\n",
              "           829,  2053,  3782,  9930,  1813,  7329,  6495,  3827,  8584,\n",
              "          4067,  7398,  5519,  8239,  7717,  9766,   662,  7111,   390,\n",
              "          4353,  8818,  1912,  4843,   606,  8499,  9222,  1847,  1741,\n",
              "           280,  1150,  3557,  8079,  7434, 10245,  1900,  5336,  5211,\n",
              "          5301,  1436,  5256,  8644,  1704,   240,  3692,  8428,  8840,\n",
              "          2158,  8917,  6181,  5534,  2349,  4694,  2825,  2826,  6091,\n",
              "          2847,  8540]]),\n",
              " 'input_seq': array([[   0,    0,    0,    0,    0,    0,    0,    0,    0,    0,    0,\n",
              "            0,    0,    0,    0,    0,    0,    0,    0,    0,    0,    0,\n",
              "            0,    0,    0,    0,    0,    0,    0,    0,    0,    0,    0,\n",
              "            0,    0,    0,    0,    0,    0,    0,    0,    0,    0,    0,\n",
              "            0,    0,    0,    0, 2906, 3408]], dtype=int32),\n",
              " 'user': array([[4910]])}"
            ]
          },
          "metadata": {}
        },
        {
          "output_type": "stream",
          "name": "stdout",
          "text": [
            "\n",
            "\n",
            "Из train и valid: [2906] [3408]\n",
            "Из test: [10150]\n"
          ]
        }
      ]
    },
    {
      "cell_type": "code",
      "source": [
        "print(len(pred_dict)) # осталось столько пользователей (для которых было что-то в train && test)\n",
        "print(inputs[4910]['candidate'].shape) # всего 100 штук, сколько и заказывали в num_neg_test при создании модели"
      ],
      "metadata": {
        "colab": {
          "base_uri": "https://localhost:8080/"
        },
        "id": "rqW5dmGt2Hp2",
        "outputId": "10b219c2-52d9-47ad-a2bb-b17fcf4ac680"
      },
      "execution_count": 85,
      "outputs": [
        {
          "output_type": "stream",
          "name": "stdout",
          "text": [
            "106\n",
            "(1, 101)\n"
          ]
        }
      ]
    },
    {
      "cell_type": "code",
      "source": [
        "# посмотреть на пример что в pred_dict\n",
        "pred_dict[17546]"
      ],
      "metadata": {
        "colab": {
          "base_uri": "https://localhost:8080/"
        },
        "id": "KiYKaH_nrYg6",
        "outputId": "857590fb-7a20-4521-ae1f-69b497409171"
      },
      "execution_count": 80,
      "outputs": [
        {
          "output_type": "execute_result",
          "data": {
            "text/plain": [
              "<tf.Tensor: shape=(1, 101), dtype=float32, numpy=\n",
              "array([[ 1.7349093 , -0.2380237 ,  0.2768051 , -0.8058723 , -0.3629349 ,\n",
              "         0.4124116 , -0.6360039 , -0.33366135,  0.11179381, -0.48332027,\n",
              "         0.0552212 ,  0.08918025, -0.23705333,  0.04897553, -0.25260627,\n",
              "        -0.09259616,  0.11503328,  0.08109427, -0.558318  , -0.6279186 ,\n",
              "         0.16111474, -0.00711066,  0.17731744, -0.48438722, -0.1569303 ,\n",
              "        -0.02135493,  0.03264721, -0.32391164,  0.61671615,  0.10933504,\n",
              "        -0.19701293, -0.37415287, -0.13526347, -0.13832693,  0.05130062,\n",
              "         0.33480537, -0.5105399 , -0.12325121, -0.5080016 , -0.07319078,\n",
              "         0.33501405, -0.08954404, -0.16972607,  0.46379918,  0.17316495,\n",
              "        -0.99398756,  0.07218778, -0.18870717, -0.40597832, -0.2768316 ,\n",
              "         0.22513886,  0.228473  ,  0.0598809 ,  0.32786965, -0.06045763,\n",
              "         0.14715154, -0.04422484, -0.1393615 , -0.32939407,  0.2582508 ,\n",
              "         0.1938943 , -0.06687552, -0.22473651,  0.19400313,  0.20952146,\n",
              "        -0.22945735, -0.3422956 ,  0.26501745, -0.51958495,  0.05738433,\n",
              "         0.08127403,  0.27079725, -0.6693787 ,  0.37252605, -0.24241132,\n",
              "         0.34434685,  0.33943045,  0.02827054,  0.05069407, -0.3396101 ,\n",
              "        -0.17807382,  0.04765742, -0.15461855, -0.12813494, -0.5478592 ,\n",
              "        -0.30976605,  0.4706267 ,  0.09336375, -0.31519267, -0.5689338 ,\n",
              "         0.12035768,  0.01451465, -0.26972094, -0.10451534,  0.39363986,\n",
              "         0.05009281, -0.3524367 ,  0.26139984,  0.11487611, -0.145596  ,\n",
              "        -0.12257483]], dtype=float32)>"
            ]
          },
          "metadata": {},
          "execution_count": 80
        }
      ]
    },
    {
      "cell_type": "code",
      "source": [
        "# нужно связать значения логитов и кандидатов, выбрать самые вероятные значения и проверить, были ли они в тесте\n"
      ],
      "metadata": {
        "id": "ckFWtAohNMx7"
      },
      "execution_count": null,
      "outputs": []
    }
  ],
  "metadata": {
    "accelerator": "GPU",
    "colab": {
      "collapsed_sections": [],
      "name": "Our_microsoft_recommender.ipynb",
      "provenance": [],
      "authorship_tag": "ABX9TyN8CQ9KyaCotrF4bxeAmNhm",
      "include_colab_link": true
    },
    "gpuClass": "standard",
    "kernelspec": {
      "display_name": "Python 3",
      "name": "python3"
    },
    "language_info": {
      "name": "python"
    }
  },
  "nbformat": 4,
  "nbformat_minor": 0
}