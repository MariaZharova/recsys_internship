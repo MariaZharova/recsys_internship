{
 "cells": [
  {
   "cell_type": "code",
   "execution_count": 1,
   "id": "31bb41fc",
   "metadata": {},
   "outputs": [],
   "source": [
    "import pandas as pd\n",
    "import numpy as np\n",
    "import json\n",
    "from tqdm import tqdm\n",
    "tqdm.pandas()"
   ]
  },
  {
   "cell_type": "markdown",
   "id": "4efc574d",
   "metadata": {},
   "source": [
    "## Общая предобработка"
   ]
  },
  {
   "cell_type": "code",
   "execution_count": 2,
   "id": "bd785920",
   "metadata": {},
   "outputs": [
    {
     "name": "stdout",
     "output_type": "stream",
     "text": [
      "(30000000, 8) (30000000, 8) (22463346, 8)\n"
     ]
    }
   ],
   "source": [
    "data1 = pd.read_csv('internship_clickstream_data_1.gzip', compression='gzip')\n",
    "data2 = pd.read_csv('internship_clickstream_data_2.gzip', compression='gzip')\n",
    "data3 = pd.read_csv('internship_clickstream_data_3.gzip', compression='gzip')\n",
    "print(data1.shape, data2.shape, data3.shape)"
   ]
  },
  {
   "cell_type": "markdown",
   "id": "7ee03930",
   "metadata": {},
   "source": [
    "Необходимо составить датасет, в котором фичи будут - эмбеддинги юзеров с первой недели, а таргеты - инфа об их склонностях к аренде/продаже со второй недели (исключаем data leak). Соответственно, с первой и второй недель нужно взять пересечение юзеров + важно, чтобы объявки с первой недели были также все те же, что и со второй."
   ]
  },
  {
   "cell_type": "code",
   "execution_count": 3,
   "id": "b41444bb",
   "metadata": {},
   "outputs": [
    {
     "name": "stdout",
     "output_type": "stream",
     "text": [
      "(22585345, 8) (22559623, 8) (17427910, 8)\n",
      "(4999240, 8) (5104941, 8) (4111483, 8)\n",
      "after concating: (7842763, 8)\n",
      "after drop duplicates: (6897045, 8)\n"
     ]
    }
   ],
   "source": [
    "# drop duplicates\n",
    "data1.drop_duplicates(subset=['uid', 'offer_id'], inplace=True)\n",
    "data2.drop_duplicates(subset=['uid', 'offer_id'], inplace=True)\n",
    "data3.drop_duplicates(subset=['uid', 'offer_id'], inplace=True)\n",
    "print(data1.shape, data2.shape, data3.shape)\n",
    "\n",
    "# work with date\n",
    "data1['timestamp'] = pd.to_datetime(data1['timestamp'])\n",
    "data2['timestamp'] = pd.to_datetime(data2['timestamp'])\n",
    "data3['timestamp'] = pd.to_datetime(data3['timestamp'])\n",
    "\n",
    "# save users from 1 week\n",
    "data1_s = data1[data1['timestamp'] < pd.to_datetime('2022-07-10 00:00:00.020000')]\n",
    "data2_s = data2[data2['timestamp'] < pd.to_datetime('2022-07-10 00:00:00.020000')]\n",
    "data3_s = data3[data3['timestamp'] < pd.to_datetime('2022-07-10 00:00:00.020000')]\n",
    "users_1_week = pd.concat([data1_s, data2_s, data3_s])['uid'].unique()\n",
    "offers_1_week = pd.concat([data1_s, data2_s, data3_s])['offer_id'].unique()\n",
    "\n",
    "# filter by date, second week\n",
    "data1 = data1[(data1['timestamp'] >= pd.to_datetime('2022-07-10 00:00:00.020000')) & \\\n",
    "              (data1['timestamp'] < pd.to_datetime('2022-07-17 00:00:00.020000'))]\n",
    "data2 = data2[(data2['timestamp'] >= pd.to_datetime('2022-07-10 00:00:00.020000')) & \\\n",
    "              (data2['timestamp'] < pd.to_datetime('2022-07-17 00:00:00.020000'))]\n",
    "data3 = data3[(data3['timestamp'] >= pd.to_datetime('2022-07-10 00:00:00.020000')) & \\\n",
    "              (data3['timestamp'] < pd.to_datetime('2022-07-17 00:00:00.020000'))]\n",
    "print(data1.shape, data2.shape, data3.shape)\n",
    "\n",
    "# take users and offers from 2 week who is in 1 week\n",
    "data1 = data1[(data1['uid'].isin(users_1_week)) & (data1['offer_id'].isin(offers_1_week))]\n",
    "data2 = data2[(data2['uid'].isin(users_1_week)) & (data2['offer_id'].isin(offers_1_week))]\n",
    "data3 = data3[(data3['uid'].isin(users_1_week)) & (data3['offer_id'].isin(offers_1_week))]\n",
    "\n",
    "data = pd.concat([data1, data2, data3])\n",
    "print('after concating:', data.shape)\n",
    "data.drop_duplicates(subset=['uid', 'offer_id'], inplace=True)\n",
    "print('after drop duplicates:', data.shape)"
   ]
  },
  {
   "cell_type": "code",
   "execution_count": 4,
   "id": "70e67f27",
   "metadata": {},
   "outputs": [
    {
     "name": "stdout",
     "output_type": "stream",
     "text": [
      "(4366021, 8)\n"
     ]
    }
   ],
   "source": [
    "# take users that have > 5 clicks\n",
    "while not (data['offer_id'].value_counts()[data['offer_id'].value_counts() <= 5].empty) or \\\n",
    "      not (data['uid'].value_counts()[data['uid'].value_counts() <= 5].empty):\n",
    "    offer_ids = data['offer_id'].value_counts()[data['offer_id'].value_counts() > 5].index\n",
    "    data = data[data['offer_id'].isin(offer_ids)]\n",
    "    uids = data['uid'].value_counts()[data['uid'].value_counts() > 5].index\n",
    "    data = data[data['uid'].isin(uids)]\n",
    "print(data.shape)"
   ]
  },
  {
   "cell_type": "markdown",
   "id": "89fb23c1",
   "metadata": {},
   "source": [
    "## Добавляем lst-features\n",
    "Чтобы выделить объявления для аренды и продажи"
   ]
  },
  {
   "cell_type": "code",
   "execution_count": 5,
   "id": "5b70796f",
   "metadata": {},
   "outputs": [],
   "source": [
    "data11 = pd.read_csv('lst_announcement_data_1.gzip', compression='gzip', usecols=['id', 'category'])\n",
    "data22 = pd.read_csv('lst_announcement_data_2.gzip', compression='gzip', usecols=['id', 'category'])\n",
    "data33 = pd.read_csv('lst_announcement_data_3.gzip', compression='gzip', usecols=['id', 'category'])"
   ]
  },
  {
   "cell_type": "code",
   "execution_count": 6,
   "id": "15d184a7",
   "metadata": {},
   "outputs": [
    {
     "name": "stdout",
     "output_type": "stream",
     "text": [
      "(1000000, 2) (1000000, 2) (778005, 2)\n",
      "(1000000, 2) (1000000, 2) (778005, 2)\n",
      "after concating: (2778005, 2)\n",
      "after drop duplicates: (2778005, 2)\n"
     ]
    }
   ],
   "source": [
    "print(data11.shape, data22.shape, data33.shape)\n",
    "data11.drop_duplicates(subset=['id'], inplace=True)\n",
    "data22.drop_duplicates(subset=['id'], inplace=True)\n",
    "data33.drop_duplicates(subset=['id'], inplace=True)\n",
    "print(data11.shape, data22.shape, data33.shape)\n",
    "\n",
    "lst_features = pd.concat([data11, data22, data33])\n",
    "print('after concating:', lst_features.shape)\n",
    "lst_features.drop_duplicates(subset=['id'], inplace=True)\n",
    "print('after drop duplicates:', lst_features.shape)"
   ]
  },
  {
   "cell_type": "code",
   "execution_count": 8,
   "id": "3584dc4f",
   "metadata": {},
   "outputs": [
    {
     "name": "stdout",
     "output_type": "stream",
     "text": [
      "['townhouseSale' 'commercialLandRent' 'landSale' 'flatRent' 'flatSale'\n",
      " 'houseSale' 'dailyHouseRent' 'newBuildingFlatSale' 'dailyFlatRent'\n",
      " 'shoppingAreaSale' 'cottageRent' 'roomRent' 'freeAppointmentObjectRent'\n",
      " 'businessSale' 'cottageSale' 'officeRent' 'freeAppointmentObjectSale'\n",
      " 'townhouseRent' 'garageSale' 'houseShareSale' 'industryRent' 'officeSale'\n",
      " 'roomSale' 'industrySale' 'warehouseRent' 'commercialLandSale'\n",
      " 'houseRent' 'houseShareRent' 'garageRent' 'shoppingAreaRent'\n",
      " 'buildingSale' 'dailyRoomRent' 'buildingRent' 'warehouseSale' 'bedRent'\n",
      " 'flatShareSale' 'dailyBedRent' 'businessRent']\n"
     ]
    }
   ],
   "source": [
    "print(lst_features['category'].unique())"
   ]
  },
  {
   "cell_type": "code",
   "execution_count": 7,
   "id": "06c4b7a6",
   "metadata": {},
   "outputs": [
    {
     "name": "stderr",
     "output_type": "stream",
     "text": [
      "100%|█████████████████████████████| 2778005/2778005 [00:03<00:00, 824080.24it/s]\n"
     ]
    },
    {
     "data": {
      "text/plain": [
       "array([1, 0])"
      ]
     },
     "execution_count": 7,
     "metadata": {},
     "output_type": "execute_result"
    }
   ],
   "source": [
    "def sale_rent(arg):\n",
    "    \"\"\"\n",
    "        кодируем объявления продажи 1\n",
    "        аренды - 0\n",
    "    \"\"\"\n",
    "    if 'Rent' in arg:\n",
    "        return 0\n",
    "    if 'Sale' in arg:\n",
    "        return 1\n",
    "    else:\n",
    "        return np.nan\n",
    "lst_features['category'] = lst_features['category'].progress_apply(sale_rent)\n",
    "lst_features['category'].unique()"
   ]
  },
  {
   "cell_type": "code",
   "execution_count": 8,
   "id": "76ad4a60",
   "metadata": {},
   "outputs": [
    {
     "name": "stdout",
     "output_type": "stream",
     "text": [
      "(4366021, 10)\n"
     ]
    },
    {
     "data": {
      "text/html": [
       "<div>\n",
       "<style scoped>\n",
       "    .dataframe tbody tr th:only-of-type {\n",
       "        vertical-align: middle;\n",
       "    }\n",
       "\n",
       "    .dataframe tbody tr th {\n",
       "        vertical-align: top;\n",
       "    }\n",
       "\n",
       "    .dataframe thead th {\n",
       "        text-align: right;\n",
       "    }\n",
       "</style>\n",
       "<table border=\"1\" class=\"dataframe\">\n",
       "  <thead>\n",
       "    <tr style=\"text-align: right;\">\n",
       "      <th></th>\n",
       "      <th>timestamp</th>\n",
       "      <th>hit_id</th>\n",
       "      <th>uid</th>\n",
       "      <th>platform</th>\n",
       "      <th>event_name</th>\n",
       "      <th>screen</th>\n",
       "      <th>offer_id</th>\n",
       "      <th>ptn_dadd</th>\n",
       "      <th>id</th>\n",
       "      <th>category</th>\n",
       "    </tr>\n",
       "  </thead>\n",
       "  <tbody>\n",
       "    <tr>\n",
       "      <th>0</th>\n",
       "      <td>2022-07-16 00:00:12.928</td>\n",
       "      <td>cd1a21ecfd2f47f7</td>\n",
       "      <td>21404791</td>\n",
       "      <td>android</td>\n",
       "      <td>OpenOfferScreen</td>\n",
       "      <td>SearchResultsList</td>\n",
       "      <td>271617821</td>\n",
       "      <td>2022-07-16</td>\n",
       "      <td>271617821.0</td>\n",
       "      <td>1.0</td>\n",
       "    </tr>\n",
       "    <tr>\n",
       "      <th>1</th>\n",
       "      <td>2022-07-13 22:38:12.355</td>\n",
       "      <td>c326f40e13654821</td>\n",
       "      <td>92254503</td>\n",
       "      <td>ios</td>\n",
       "      <td>OpenOfferScreen</td>\n",
       "      <td>MapScreen</td>\n",
       "      <td>275559266</td>\n",
       "      <td>2022-07-13</td>\n",
       "      <td>275559266.0</td>\n",
       "      <td>0.0</td>\n",
       "    </tr>\n",
       "    <tr>\n",
       "      <th>2</th>\n",
       "      <td>2022-07-13 22:38:32.488</td>\n",
       "      <td>b75ee3fac5964206</td>\n",
       "      <td>33791824</td>\n",
       "      <td>ios</td>\n",
       "      <td>OpenOfferScreen</td>\n",
       "      <td>MapScreen</td>\n",
       "      <td>274687903</td>\n",
       "      <td>2022-07-13</td>\n",
       "      <td>274687903.0</td>\n",
       "      <td>1.0</td>\n",
       "    </tr>\n",
       "    <tr>\n",
       "      <th>3</th>\n",
       "      <td>2022-07-13 22:38:52.902</td>\n",
       "      <td>6ba2fd0f39b844af</td>\n",
       "      <td>12536475</td>\n",
       "      <td>android</td>\n",
       "      <td>OpenOfferScreen</td>\n",
       "      <td>BookmarksScreen</td>\n",
       "      <td>275136292</td>\n",
       "      <td>2022-07-13</td>\n",
       "      <td>275136292.0</td>\n",
       "      <td>1.0</td>\n",
       "    </tr>\n",
       "    <tr>\n",
       "      <th>4</th>\n",
       "      <td>2022-07-13 22:39:38.156</td>\n",
       "      <td>29ee5e2791af466a</td>\n",
       "      <td>15764141</td>\n",
       "      <td>ios</td>\n",
       "      <td>OpenOfferScreen</td>\n",
       "      <td>MapScreen</td>\n",
       "      <td>271908694</td>\n",
       "      <td>2022-07-13</td>\n",
       "      <td>271908694.0</td>\n",
       "      <td>0.0</td>\n",
       "    </tr>\n",
       "  </tbody>\n",
       "</table>\n",
       "</div>"
      ],
      "text/plain": [
       "                timestamp            hit_id       uid platform  \\\n",
       "0 2022-07-16 00:00:12.928  cd1a21ecfd2f47f7  21404791  android   \n",
       "1 2022-07-13 22:38:12.355  c326f40e13654821  92254503      ios   \n",
       "2 2022-07-13 22:38:32.488  b75ee3fac5964206  33791824      ios   \n",
       "3 2022-07-13 22:38:52.902  6ba2fd0f39b844af  12536475  android   \n",
       "4 2022-07-13 22:39:38.156  29ee5e2791af466a  15764141      ios   \n",
       "\n",
       "        event_name             screen   offer_id    ptn_dadd           id  \\\n",
       "0  OpenOfferScreen  SearchResultsList  271617821  2022-07-16  271617821.0   \n",
       "1  OpenOfferScreen          MapScreen  275559266  2022-07-13  275559266.0   \n",
       "2  OpenOfferScreen          MapScreen  274687903  2022-07-13  274687903.0   \n",
       "3  OpenOfferScreen    BookmarksScreen  275136292  2022-07-13  275136292.0   \n",
       "4  OpenOfferScreen          MapScreen  271908694  2022-07-13  271908694.0   \n",
       "\n",
       "   category  \n",
       "0       1.0  \n",
       "1       0.0  \n",
       "2       1.0  \n",
       "3       1.0  \n",
       "4       0.0  "
      ]
     },
     "execution_count": 8,
     "metadata": {},
     "output_type": "execute_result"
    }
   ],
   "source": [
    "merged = data.merge(lst_features, left_on='offer_id', right_on='id', how='left')\n",
    "print(merged.shape)\n",
    "merged.head()"
   ]
  },
  {
   "cell_type": "code",
   "execution_count": 11,
   "id": "145ca0b5",
   "metadata": {},
   "outputs": [
    {
     "data": {
      "text/html": [
       "<div>\n",
       "<style scoped>\n",
       "    .dataframe tbody tr th:only-of-type {\n",
       "        vertical-align: middle;\n",
       "    }\n",
       "\n",
       "    .dataframe tbody tr th {\n",
       "        vertical-align: top;\n",
       "    }\n",
       "\n",
       "    .dataframe thead th {\n",
       "        text-align: right;\n",
       "    }\n",
       "</style>\n",
       "<table border=\"1\" class=\"dataframe\">\n",
       "  <thead>\n",
       "    <tr style=\"text-align: right;\">\n",
       "      <th></th>\n",
       "      <th>uid</th>\n",
       "      <th>count</th>\n",
       "      <th>sum</th>\n",
       "    </tr>\n",
       "  </thead>\n",
       "  <tbody>\n",
       "    <tr>\n",
       "      <th>0</th>\n",
       "      <td>0001d81a-d960-4556-ac84-bdcfa1bb5bcd</td>\n",
       "      <td>17</td>\n",
       "      <td>17.0</td>\n",
       "    </tr>\n",
       "    <tr>\n",
       "      <th>1</th>\n",
       "      <td>000490b4-9978-408d-b133-85a58146af23</td>\n",
       "      <td>9</td>\n",
       "      <td>8.0</td>\n",
       "    </tr>\n",
       "    <tr>\n",
       "      <th>2</th>\n",
       "      <td>000695d8-e5c2-4d64-a570-2d5432575dc7</td>\n",
       "      <td>9</td>\n",
       "      <td>9.0</td>\n",
       "    </tr>\n",
       "    <tr>\n",
       "      <th>3</th>\n",
       "      <td>00083E71-627E-4922-9714-CFB9CB05016F</td>\n",
       "      <td>10</td>\n",
       "      <td>1.0</td>\n",
       "    </tr>\n",
       "    <tr>\n",
       "      <th>4</th>\n",
       "      <td>00098EAF-21C2-41E6-AE6C-9F96DD5408CC</td>\n",
       "      <td>13</td>\n",
       "      <td>0.0</td>\n",
       "    </tr>\n",
       "    <tr>\n",
       "      <th>...</th>\n",
       "      <td>...</td>\n",
       "      <td>...</td>\n",
       "      <td>...</td>\n",
       "    </tr>\n",
       "    <tr>\n",
       "      <th>217708</th>\n",
       "      <td>ffe558c1-8cf0-4373-984c-6757c9aeedc3</td>\n",
       "      <td>10</td>\n",
       "      <td>0.0</td>\n",
       "    </tr>\n",
       "    <tr>\n",
       "      <th>217709</th>\n",
       "      <td>fff12f36-aafc-4563-af81-e8a5155a7b60</td>\n",
       "      <td>6</td>\n",
       "      <td>6.0</td>\n",
       "    </tr>\n",
       "    <tr>\n",
       "      <th>217710</th>\n",
       "      <td>fff3cbe3-da73-438c-a16c-020b5219d4e1</td>\n",
       "      <td>25</td>\n",
       "      <td>0.0</td>\n",
       "    </tr>\n",
       "    <tr>\n",
       "      <th>217711</th>\n",
       "      <td>fffb9859-ba42-4920-ab3c-80779491c582</td>\n",
       "      <td>7</td>\n",
       "      <td>7.0</td>\n",
       "    </tr>\n",
       "    <tr>\n",
       "      <th>217712</th>\n",
       "      <td>fffcc353-1425-4887-aea6-0c242ab7d50b</td>\n",
       "      <td>13</td>\n",
       "      <td>0.0</td>\n",
       "    </tr>\n",
       "  </tbody>\n",
       "</table>\n",
       "<p>217713 rows × 3 columns</p>\n",
       "</div>"
      ],
      "text/plain": [
       "                                         uid  count   sum\n",
       "0       0001d81a-d960-4556-ac84-bdcfa1bb5bcd     17  17.0\n",
       "1       000490b4-9978-408d-b133-85a58146af23      9   8.0\n",
       "2       000695d8-e5c2-4d64-a570-2d5432575dc7      9   9.0\n",
       "3       00083E71-627E-4922-9714-CFB9CB05016F     10   1.0\n",
       "4       00098EAF-21C2-41E6-AE6C-9F96DD5408CC     13   0.0\n",
       "...                                      ...    ...   ...\n",
       "217708  ffe558c1-8cf0-4373-984c-6757c9aeedc3     10   0.0\n",
       "217709  fff12f36-aafc-4563-af81-e8a5155a7b60      6   6.0\n",
       "217710  fff3cbe3-da73-438c-a16c-020b5219d4e1     25   0.0\n",
       "217711  fffb9859-ba42-4920-ab3c-80779491c582      7   7.0\n",
       "217712  fffcc353-1425-4887-aea6-0c242ab7d50b     13   0.0\n",
       "\n",
       "[217713 rows x 3 columns]"
      ]
     },
     "execution_count": 11,
     "metadata": {},
     "output_type": "execute_result"
    }
   ],
   "source": [
    "grouped = merged.groupby(['uid'])['category'].agg(['count', 'sum']).reset_index()\n",
    "grouped"
   ]
  },
  {
   "cell_type": "code",
   "execution_count": 12,
   "id": "efceef67",
   "metadata": {},
   "outputs": [
    {
     "name": "stderr",
     "output_type": "stream",
     "text": [
      "100%|███████████████████████████████| 217713/217713 [00:00<00:00, 696449.40it/s]"
     ]
    },
    {
     "name": "stdout",
     "output_type": "stream",
     "text": [
      "(217713, 5)\n",
      "(195293, 5)\n"
     ]
    },
    {
     "name": "stderr",
     "output_type": "stream",
     "text": [
      "\n"
     ]
    }
   ],
   "source": [
    "users = data['uid'].unique()\n",
    "grouped['per'] = grouped['sum'] / grouped['count']\n",
    "\n",
    "def enc_pref(arg):\n",
    "    \"\"\"\n",
    "        кто больше интересуется продажей - 1\n",
    "        кто больше интересуется арендой - 0\n",
    "    \"\"\"\n",
    "    if arg > 0.8:\n",
    "        return 1\n",
    "    elif arg < 0.2:\n",
    "        return 0\n",
    "    else:\n",
    "        return -1\n",
    "grouped['pref'] = grouped['per'].progress_apply(enc_pref)\n",
    "print(grouped.shape)\n",
    "grouped = grouped[grouped['pref'] >= 0]\n",
    "print(grouped.shape)"
   ]
  },
  {
   "cell_type": "code",
   "execution_count": 14,
   "id": "f4c38b57",
   "metadata": {},
   "outputs": [
    {
     "name": "stderr",
     "output_type": "stream",
     "text": [
      "/var/folders/8w/sx6j7f5d7td7tzr3k347hzkc0000gn/T/ipykernel_21772/1082563966.py:3: SettingWithCopyWarning: \n",
      "A value is trying to be set on a copy of a slice from a DataFrame.\n",
      "Try using .loc[row_indexer,col_indexer] = value instead\n",
      "\n",
      "See the caveats in the documentation: https://pandas.pydata.org/pandas-docs/stable/user_guide/indexing.html#returning-a-view-versus-a-copy\n",
      "  grouped['uid_enc'] = grouped['uid'].map(uid_encoder) + 1\n"
     ]
    }
   ],
   "source": [
    "with open('mapping_out_seq.json') as f:\n",
    "    uid_encoder = json.load(f)\n",
    "grouped['uid_enc'] = grouped['uid'].map(uid_encoder) + 1"
   ]
  },
  {
   "cell_type": "code",
   "execution_count": 20,
   "id": "176f7408",
   "metadata": {},
   "outputs": [
    {
     "name": "stderr",
     "output_type": "stream",
     "text": [
      "/Users/maria/opt/anaconda3/lib/python3.9/site-packages/pandas/util/_decorators.py:311: SettingWithCopyWarning: \n",
      "A value is trying to be set on a copy of a slice from a DataFrame\n",
      "\n",
      "See the caveats in the documentation: https://pandas.pydata.org/pandas-docs/stable/user_guide/indexing.html#returning-a-view-versus-a-copy\n",
      "  return func(*args, **kwargs)\n"
     ]
    }
   ],
   "source": [
    "grouped.dropna(inplace=True)"
   ]
  },
  {
   "cell_type": "code",
   "execution_count": 22,
   "id": "0b13b6a5",
   "metadata": {},
   "outputs": [
    {
     "name": "stderr",
     "output_type": "stream",
     "text": [
      "/var/folders/8w/sx6j7f5d7td7tzr3k347hzkc0000gn/T/ipykernel_21772/2213641113.py:1: SettingWithCopyWarning: \n",
      "A value is trying to be set on a copy of a slice from a DataFrame.\n",
      "Try using .loc[row_indexer,col_indexer] = value instead\n",
      "\n",
      "See the caveats in the documentation: https://pandas.pydata.org/pandas-docs/stable/user_guide/indexing.html#returning-a-view-versus-a-copy\n",
      "  grouped['uid_enc'] = grouped['uid_enc'].astype(int)\n"
     ]
    },
    {
     "data": {
      "text/html": [
       "<div>\n",
       "<style scoped>\n",
       "    .dataframe tbody tr th:only-of-type {\n",
       "        vertical-align: middle;\n",
       "    }\n",
       "\n",
       "    .dataframe tbody tr th {\n",
       "        vertical-align: top;\n",
       "    }\n",
       "\n",
       "    .dataframe thead th {\n",
       "        text-align: right;\n",
       "    }\n",
       "</style>\n",
       "<table border=\"1\" class=\"dataframe\">\n",
       "  <thead>\n",
       "    <tr style=\"text-align: right;\">\n",
       "      <th></th>\n",
       "      <th>uid</th>\n",
       "      <th>count</th>\n",
       "      <th>sum</th>\n",
       "      <th>per</th>\n",
       "      <th>pref</th>\n",
       "      <th>uid_enc</th>\n",
       "    </tr>\n",
       "  </thead>\n",
       "  <tbody>\n",
       "    <tr>\n",
       "      <th>2</th>\n",
       "      <td>000695d8-e5c2-4d64-a570-2d5432575dc7</td>\n",
       "      <td>9</td>\n",
       "      <td>9.0</td>\n",
       "      <td>1.000000</td>\n",
       "      <td>1</td>\n",
       "      <td>14908</td>\n",
       "    </tr>\n",
       "    <tr>\n",
       "      <th>3</th>\n",
       "      <td>00083E71-627E-4922-9714-CFB9CB05016F</td>\n",
       "      <td>10</td>\n",
       "      <td>1.0</td>\n",
       "      <td>0.100000</td>\n",
       "      <td>0</td>\n",
       "      <td>77272</td>\n",
       "    </tr>\n",
       "    <tr>\n",
       "      <th>4</th>\n",
       "      <td>00098EAF-21C2-41E6-AE6C-9F96DD5408CC</td>\n",
       "      <td>13</td>\n",
       "      <td>0.0</td>\n",
       "      <td>0.000000</td>\n",
       "      <td>0</td>\n",
       "      <td>153632</td>\n",
       "    </tr>\n",
       "    <tr>\n",
       "      <th>6</th>\n",
       "      <td>000AB396-667C-45B3-A4B5-9FC6CCDAF604</td>\n",
       "      <td>15</td>\n",
       "      <td>14.0</td>\n",
       "      <td>0.933333</td>\n",
       "      <td>1</td>\n",
       "      <td>172584</td>\n",
       "    </tr>\n",
       "    <tr>\n",
       "      <th>10</th>\n",
       "      <td>000ce71d-e87f-4e76-901f-decef1606cea</td>\n",
       "      <td>17</td>\n",
       "      <td>17.0</td>\n",
       "      <td>1.000000</td>\n",
       "      <td>1</td>\n",
       "      <td>114597</td>\n",
       "    </tr>\n",
       "    <tr>\n",
       "      <th>...</th>\n",
       "      <td>...</td>\n",
       "      <td>...</td>\n",
       "      <td>...</td>\n",
       "      <td>...</td>\n",
       "      <td>...</td>\n",
       "      <td>...</td>\n",
       "    </tr>\n",
       "    <tr>\n",
       "      <th>217704</th>\n",
       "      <td>ffe2cecd-a242-4cbf-909c-7a5cb6a8aea1</td>\n",
       "      <td>9</td>\n",
       "      <td>0.0</td>\n",
       "      <td>0.000000</td>\n",
       "      <td>0</td>\n",
       "      <td>352851</td>\n",
       "    </tr>\n",
       "    <tr>\n",
       "      <th>217705</th>\n",
       "      <td>ffe31461-e6d7-479b-adfb-d5003a79c968</td>\n",
       "      <td>21</td>\n",
       "      <td>21.0</td>\n",
       "      <td>1.000000</td>\n",
       "      <td>1</td>\n",
       "      <td>120610</td>\n",
       "    </tr>\n",
       "    <tr>\n",
       "      <th>217706</th>\n",
       "      <td>ffe31b84-655e-47f5-aca4-d27da38f9700</td>\n",
       "      <td>7</td>\n",
       "      <td>0.0</td>\n",
       "      <td>0.000000</td>\n",
       "      <td>0</td>\n",
       "      <td>411440</td>\n",
       "    </tr>\n",
       "    <tr>\n",
       "      <th>217707</th>\n",
       "      <td>ffe449af-e79a-42af-bc0c-2f01a63ad701</td>\n",
       "      <td>44</td>\n",
       "      <td>44.0</td>\n",
       "      <td>1.000000</td>\n",
       "      <td>1</td>\n",
       "      <td>26456</td>\n",
       "    </tr>\n",
       "    <tr>\n",
       "      <th>217712</th>\n",
       "      <td>fffcc353-1425-4887-aea6-0c242ab7d50b</td>\n",
       "      <td>13</td>\n",
       "      <td>0.0</td>\n",
       "      <td>0.000000</td>\n",
       "      <td>0</td>\n",
       "      <td>73341</td>\n",
       "    </tr>\n",
       "  </tbody>\n",
       "</table>\n",
       "<p>136220 rows × 6 columns</p>\n",
       "</div>"
      ],
      "text/plain": [
       "                                         uid  count   sum       per  pref  \\\n",
       "2       000695d8-e5c2-4d64-a570-2d5432575dc7      9   9.0  1.000000     1   \n",
       "3       00083E71-627E-4922-9714-CFB9CB05016F     10   1.0  0.100000     0   \n",
       "4       00098EAF-21C2-41E6-AE6C-9F96DD5408CC     13   0.0  0.000000     0   \n",
       "6       000AB396-667C-45B3-A4B5-9FC6CCDAF604     15  14.0  0.933333     1   \n",
       "10      000ce71d-e87f-4e76-901f-decef1606cea     17  17.0  1.000000     1   \n",
       "...                                      ...    ...   ...       ...   ...   \n",
       "217704  ffe2cecd-a242-4cbf-909c-7a5cb6a8aea1      9   0.0  0.000000     0   \n",
       "217705  ffe31461-e6d7-479b-adfb-d5003a79c968     21  21.0  1.000000     1   \n",
       "217706  ffe31b84-655e-47f5-aca4-d27da38f9700      7   0.0  0.000000     0   \n",
       "217707  ffe449af-e79a-42af-bc0c-2f01a63ad701     44  44.0  1.000000     1   \n",
       "217712  fffcc353-1425-4887-aea6-0c242ab7d50b     13   0.0  0.000000     0   \n",
       "\n",
       "        uid_enc  \n",
       "2         14908  \n",
       "3         77272  \n",
       "4        153632  \n",
       "6        172584  \n",
       "10       114597  \n",
       "...         ...  \n",
       "217704   352851  \n",
       "217705   120610  \n",
       "217706   411440  \n",
       "217707    26456  \n",
       "217712    73341  \n",
       "\n",
       "[136220 rows x 6 columns]"
      ]
     },
     "execution_count": 22,
     "metadata": {},
     "output_type": "execute_result"
    }
   ],
   "source": [
    "grouped['uid_enc'] = grouped['uid_enc'].astype(int)\n",
    "grouped[['uid_enc', 'pref']].to_csv('uid_12_week_preferences.csv')\n",
    "grouped"
   ]
  },
  {
   "cell_type": "markdown",
   "id": "aa49ae02",
   "metadata": {},
   "source": [
    "======================================================================="
   ]
  },
  {
   "cell_type": "markdown",
   "id": "e48c68ef",
   "metadata": {},
   "source": [
    "## Составляем итоговый датасет\n",
    "Эмбеды пользователей из модели - признаки (с первой недели)\n",
    "\n",
    "Предпочтения пользователя, которые только что получили - таргет (со второй недели)"
   ]
  },
  {
   "cell_type": "code",
   "execution_count": 31,
   "id": "3f79bc14",
   "metadata": {},
   "outputs": [
    {
     "data": {
      "text/html": [
       "<div>\n",
       "<style scoped>\n",
       "    .dataframe tbody tr th:only-of-type {\n",
       "        vertical-align: middle;\n",
       "    }\n",
       "\n",
       "    .dataframe tbody tr th {\n",
       "        vertical-align: top;\n",
       "    }\n",
       "\n",
       "    .dataframe thead th {\n",
       "        text-align: right;\n",
       "    }\n",
       "</style>\n",
       "<table border=\"1\" class=\"dataframe\">\n",
       "  <thead>\n",
       "    <tr style=\"text-align: right;\">\n",
       "      <th></th>\n",
       "      <th>uid_enc</th>\n",
       "      <th>pref</th>\n",
       "    </tr>\n",
       "  </thead>\n",
       "  <tbody>\n",
       "    <tr>\n",
       "      <th>2</th>\n",
       "      <td>14908</td>\n",
       "      <td>1</td>\n",
       "    </tr>\n",
       "    <tr>\n",
       "      <th>3</th>\n",
       "      <td>77272</td>\n",
       "      <td>0</td>\n",
       "    </tr>\n",
       "    <tr>\n",
       "      <th>4</th>\n",
       "      <td>153632</td>\n",
       "      <td>0</td>\n",
       "    </tr>\n",
       "    <tr>\n",
       "      <th>6</th>\n",
       "      <td>172584</td>\n",
       "      <td>1</td>\n",
       "    </tr>\n",
       "    <tr>\n",
       "      <th>10</th>\n",
       "      <td>114597</td>\n",
       "      <td>1</td>\n",
       "    </tr>\n",
       "    <tr>\n",
       "      <th>...</th>\n",
       "      <td>...</td>\n",
       "      <td>...</td>\n",
       "    </tr>\n",
       "    <tr>\n",
       "      <th>217704</th>\n",
       "      <td>352851</td>\n",
       "      <td>0</td>\n",
       "    </tr>\n",
       "    <tr>\n",
       "      <th>217705</th>\n",
       "      <td>120610</td>\n",
       "      <td>1</td>\n",
       "    </tr>\n",
       "    <tr>\n",
       "      <th>217706</th>\n",
       "      <td>411440</td>\n",
       "      <td>0</td>\n",
       "    </tr>\n",
       "    <tr>\n",
       "      <th>217707</th>\n",
       "      <td>26456</td>\n",
       "      <td>1</td>\n",
       "    </tr>\n",
       "    <tr>\n",
       "      <th>217712</th>\n",
       "      <td>73341</td>\n",
       "      <td>0</td>\n",
       "    </tr>\n",
       "  </tbody>\n",
       "</table>\n",
       "<p>136220 rows × 2 columns</p>\n",
       "</div>"
      ],
      "text/plain": [
       "        uid_enc  pref\n",
       "2         14908     1\n",
       "3         77272     0\n",
       "4        153632     0\n",
       "6        172584     1\n",
       "10       114597     1\n",
       "...         ...   ...\n",
       "217704   352851     0\n",
       "217705   120610     1\n",
       "217706   411440     0\n",
       "217707    26456     1\n",
       "217712    73341     0\n",
       "\n",
       "[136220 rows x 2 columns]"
      ]
     },
     "execution_count": 31,
     "metadata": {},
     "output_type": "execute_result"
    }
   ],
   "source": [
    "user_embeds = np.load('user_embeddings_final.npy')\n",
    "user_embeds = pd.DataFrame(user_embeds, columns = range(user_embeds.shape[1]))\n",
    "user_embeds['num'] = range(user_embeds.shape[0])\n",
    "user_embeds.head()"
   ]
  },
  {
   "cell_type": "code",
   "execution_count": null,
   "id": "89b13e19",
   "metadata": {},
   "outputs": [],
   "source": [
    "final_data = user_embeds.merge(grouped[['uid_enc', 'pref']], right_on='num', left_on='uid_enc', how='inner')\n",
    "final_data.head()"
   ]
  },
  {
   "cell_type": "markdown",
   "id": "1eb0436e",
   "metadata": {},
   "source": [
    "## Подстановка в модель"
   ]
  },
  {
   "cell_type": "code",
   "execution_count": null,
   "id": "c9554b26",
   "metadata": {},
   "outputs": [],
   "source": [
    "X = final_data.drop(['pref'])\n",
    "y = final_data['pref']"
   ]
  },
  {
   "cell_type": "code",
   "execution_count": null,
   "id": "d3bfd25d",
   "metadata": {},
   "outputs": [],
   "source": [
    "scaler = preprocessing.MinMaxScaler()\n",
    "X_scaled = scaler.fit_transform(X) # ??\n",
    "X_train, X_test, y_train, y_test = model_selection.train_test_split(X_scaled, y, test_size=0.2, \\\n",
    "                                                                    random_state=42)"
   ]
  },
  {
   "cell_type": "code",
   "execution_count": null,
   "id": "b409cac1",
   "metadata": {},
   "outputs": [],
   "source": [
    "# Создание матриц наблюдений в формате DMatrix\n",
    "dtrain = xgb.DMatrix(X_train, label=y_train, feature_names=best_features)\n",
    "#dvalid ??\n",
    "dtest = xgb.DMatrix(X_test, feature_names=best_features)"
   ]
  },
  {
   "cell_type": "code",
   "execution_count": null,
   "id": "0effcfa6",
   "metadata": {},
   "outputs": [],
   "source": [
    "# Гиперпараметры модели\n",
    "xgb_pars = {'min_child_weight': 20, 'eta': 0.1, 'colsample_bytree': 0.9, \n",
    "            'max_depth': 6, 'subsample': 0.9, 'lambda': 1, 'nthread': -1, \n",
    "            'booster' : 'gbtree', 'eval_metric': 'rmse', 'objective': 'reg:squarederror'\n",
    "           }\n",
    "# Тренировочная и валидационная выборка\n",
    "watchlist = [(dtrain, 'train'), (dvalid, 'valid')]\n",
    "# Обучаем модель XGBoost\n",
    "model = xgb.train(\n",
    "    params=xgb_pars, #гиперпараметры модели\n",
    "    dtrain=dtrain, #обучающая выборка\n",
    "    num_boost_round=300, #количество моделей в ансамбле\n",
    "    evals=watchlist, #выборки, на которых считается матрица\n",
    "    early_stopping_rounds=20, #раняя остановка\n",
    "    maximize=False, #смена поиска максимума на минимум\n",
    "    verbose_eval=10 #шаг, через который происходит отображение метрик\n",
    ")"
   ]
  },
  {
   "cell_type": "code",
   "execution_count": null,
   "id": "85858dcb",
   "metadata": {},
   "outputs": [],
   "source": [
    "#Делаем предсказание на тестовом наборе данных\n",
    "y_test_predict = np.exp(model.predict(dtest)) - 1\n",
    "print('Modeling RMSLE %.5f' % model.best_score)"
   ]
  },
  {
   "cell_type": "code",
   "execution_count": null,
   "id": "5b1d7bf0",
   "metadata": {},
   "outputs": [],
   "source": []
  },
  {
   "cell_type": "code",
   "execution_count": null,
   "id": "7c9d0dc9",
   "metadata": {},
   "outputs": [],
   "source": []
  }
 ],
 "metadata": {
  "kernelspec": {
   "display_name": "Python 3 (ipykernel)",
   "language": "python",
   "name": "python3"
  },
  "language_info": {
   "codemirror_mode": {
    "name": "ipython",
    "version": 3
   },
   "file_extension": ".py",
   "mimetype": "text/x-python",
   "name": "python",
   "nbconvert_exporter": "python",
   "pygments_lexer": "ipython3",
   "version": "3.9.7"
  }
 },
 "nbformat": 4,
 "nbformat_minor": 5
}
