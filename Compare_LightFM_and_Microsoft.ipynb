{
  "cells": [
    {
      "cell_type": "markdown",
      "metadata": {
        "id": "view-in-github",
        "colab_type": "text"
      },
      "source": [
        "<a href=\"https://colab.research.google.com/github/MariaZharova/test_rec_systems/blob/main/Compare_LightFM_and_Microsoft.ipynb\" target=\"_parent\"><img src=\"https://colab.research.google.com/assets/colab-badge.svg\" alt=\"Open In Colab\"/></a>"
      ]
    },
    {
      "cell_type": "code",
      "execution_count": 2,
      "metadata": {
        "colab": {
          "base_uri": "https://localhost:8080/",
          "height": 1000
        },
        "id": "_8zOYqp3D7yA",
        "outputId": "80317255-5da8-473b-f946-0f55304da9ff"
      },
      "outputs": [
        {
          "output_type": "stream",
          "name": "stdout",
          "text": [
            "Looking in indexes: https://pypi.org/simple, https://us-python.pkg.dev/colab-wheels/public/simple/\n",
            "Collecting lightfm\n",
            "  Downloading lightfm-1.16.tar.gz (310 kB)\n",
            "\u001b[K     |████████████████████████████████| 310 kB 4.3 MB/s \n",
            "\u001b[?25hCollecting recommenders\n",
            "  Downloading recommenders-1.1.0-py3-none-manylinux1_x86_64.whl (335 kB)\n",
            "\u001b[K     |████████████████████████████████| 335 kB 40.6 MB/s \n",
            "\u001b[?25hCollecting scrapbook\n",
            "  Downloading scrapbook-0.5.0-py3-none-any.whl (34 kB)\n",
            "Requirement already satisfied: numpy in /usr/local/lib/python3.7/dist-packages (from lightfm) (1.21.6)\n",
            "Requirement already satisfied: scipy>=0.17.0 in /usr/local/lib/python3.7/dist-packages (from lightfm) (1.7.3)\n",
            "Requirement already satisfied: requests in /usr/local/lib/python3.7/dist-packages (from lightfm) (2.23.0)\n",
            "Requirement already satisfied: scikit-learn in /usr/local/lib/python3.7/dist-packages (from lightfm) (1.0.2)\n",
            "Collecting cornac<2,>=1.1.2\n",
            "  Downloading cornac-1.14.2-cp37-cp37m-manylinux1_x86_64.whl (12.4 MB)\n",
            "\u001b[K     |████████████████████████████████| 12.4 MB 37.7 MB/s \n",
            "\u001b[?25hRequirement already satisfied: pandas<2,>1.0.3 in /usr/local/lib/python3.7/dist-packages (from recommenders) (1.3.5)\n",
            "Collecting bottleneck<2,>=1.2.1\n",
            "  Downloading Bottleneck-1.3.5-cp37-cp37m-manylinux_2_5_x86_64.manylinux1_x86_64.manylinux_2_17_x86_64.manylinux2014_x86_64.whl (355 kB)\n",
            "\u001b[K     |████████████████████████████████| 355 kB 48.2 MB/s \n",
            "\u001b[?25hCollecting scikit-surprise>=1.0.6\n",
            "  Downloading scikit-surprise-1.1.1.tar.gz (11.8 MB)\n",
            "\u001b[K     |████████████████████████████████| 11.8 MB 26.5 MB/s \n",
            "\u001b[?25hCollecting pandera[strategies]>=0.6.5\n",
            "  Downloading pandera-0.9.0-py3-none-any.whl (197 kB)\n",
            "\u001b[K     |████████████████████████████████| 197 kB 47.2 MB/s \n",
            "\u001b[?25hCollecting pyyaml<6,>=5.4.1\n",
            "  Downloading PyYAML-5.4.1-cp37-cp37m-manylinux1_x86_64.whl (636 kB)\n",
            "\u001b[K     |████████████████████████████████| 636 kB 45.0 MB/s \n",
            "\u001b[?25hRequirement already satisfied: lightgbm>=2.2.1 in /usr/local/lib/python3.7/dist-packages (from recommenders) (2.2.3)\n",
            "Requirement already satisfied: numba<1,>=0.38.1 in /usr/local/lib/python3.7/dist-packages (from recommenders) (0.51.2)\n",
            "Requirement already satisfied: matplotlib<4,>=2.2.2 in /usr/local/lib/python3.7/dist-packages (from recommenders) (3.2.2)\n",
            "Requirement already satisfied: tqdm<5,>=4.31.1 in /usr/local/lib/python3.7/dist-packages (from recommenders) (4.64.0)\n",
            "Collecting transformers<5,>=2.5.0\n",
            "  Downloading transformers-4.20.1-py3-none-any.whl (4.4 MB)\n",
            "\u001b[K     |████████████████████████████████| 4.4 MB 43.1 MB/s \n",
            "\u001b[?25hCollecting retrying>=1.3.3\n",
            "  Downloading retrying-1.3.3.tar.gz (10 kB)\n",
            "Collecting memory-profiler<1,>=0.54.0\n",
            "  Downloading memory_profiler-0.60.0.tar.gz (38 kB)\n",
            "Requirement already satisfied: seaborn<1,>=0.8.1 in /usr/local/lib/python3.7/dist-packages (from recommenders) (0.11.2)\n",
            "Requirement already satisfied: nltk<4,>=3.4 in /usr/local/lib/python3.7/dist-packages (from recommenders) (3.7)\n",
            "Requirement already satisfied: jinja2<3.1,>=2 in /usr/local/lib/python3.7/dist-packages (from recommenders) (2.11.3)\n",
            "Collecting category-encoders<2,>=1.3.0\n",
            "  Downloading category_encoders-1.3.0-py2.py3-none-any.whl (61 kB)\n",
            "\u001b[K     |████████████████████████████████| 61 kB 6.9 MB/s \n",
            "\u001b[?25hRequirement already satisfied: statsmodels>=0.6.1 in /usr/local/lib/python3.7/dist-packages (from category-encoders<2,>=1.3.0->recommenders) (0.10.2)\n",
            "Requirement already satisfied: patsy>=0.4.1 in /usr/local/lib/python3.7/dist-packages (from category-encoders<2,>=1.3.0->recommenders) (0.5.2)\n",
            "Collecting powerlaw\n",
            "  Downloading powerlaw-1.5-py3-none-any.whl (24 kB)\n",
            "Requirement already satisfied: MarkupSafe>=0.23 in /usr/local/lib/python3.7/dist-packages (from jinja2<3.1,>=2->recommenders) (2.0.1)\n",
            "Requirement already satisfied: python-dateutil>=2.1 in /usr/local/lib/python3.7/dist-packages (from matplotlib<4,>=2.2.2->recommenders) (2.8.2)\n",
            "Requirement already satisfied: cycler>=0.10 in /usr/local/lib/python3.7/dist-packages (from matplotlib<4,>=2.2.2->recommenders) (0.11.0)\n",
            "Requirement already satisfied: kiwisolver>=1.0.1 in /usr/local/lib/python3.7/dist-packages (from matplotlib<4,>=2.2.2->recommenders) (1.4.3)\n",
            "Requirement already satisfied: pyparsing!=2.0.4,!=2.1.2,!=2.1.6,>=2.0.1 in /usr/local/lib/python3.7/dist-packages (from matplotlib<4,>=2.2.2->recommenders) (3.0.9)\n",
            "Requirement already satisfied: typing-extensions in /usr/local/lib/python3.7/dist-packages (from kiwisolver>=1.0.1->matplotlib<4,>=2.2.2->recommenders) (4.1.1)\n",
            "Requirement already satisfied: psutil in /usr/local/lib/python3.7/dist-packages (from memory-profiler<1,>=0.54.0->recommenders) (5.4.8)\n",
            "Requirement already satisfied: click in /usr/local/lib/python3.7/dist-packages (from nltk<4,>=3.4->recommenders) (7.1.2)\n",
            "Requirement already satisfied: regex>=2021.8.3 in /usr/local/lib/python3.7/dist-packages (from nltk<4,>=3.4->recommenders) (2022.6.2)\n",
            "Requirement already satisfied: joblib in /usr/local/lib/python3.7/dist-packages (from nltk<4,>=3.4->recommenders) (1.1.0)\n",
            "Requirement already satisfied: setuptools in /usr/local/lib/python3.7/dist-packages (from numba<1,>=0.38.1->recommenders) (57.4.0)\n",
            "Requirement already satisfied: llvmlite<0.35,>=0.34.0.dev0 in /usr/local/lib/python3.7/dist-packages (from numba<1,>=0.38.1->recommenders) (0.34.0)\n",
            "Requirement already satisfied: pytz>=2017.3 in /usr/local/lib/python3.7/dist-packages (from pandas<2,>1.0.3->recommenders) (2022.1)\n",
            "Requirement already satisfied: packaging>=20.0 in /usr/local/lib/python3.7/dist-packages (from pandera[strategies]>=0.6.5->recommenders) (21.3)\n",
            "Collecting typing-inspect>=0.6.0\n",
            "  Downloading typing_inspect-0.7.1-py3-none-any.whl (8.4 kB)\n",
            "Requirement already satisfied: wrapt in /usr/local/lib/python3.7/dist-packages (from pandera[strategies]>=0.6.5->recommenders) (1.14.1)\n",
            "Requirement already satisfied: pyarrow in /usr/local/lib/python3.7/dist-packages (from pandera[strategies]>=0.6.5->recommenders) (6.0.1)\n",
            "Requirement already satisfied: pydantic in /usr/local/lib/python3.7/dist-packages (from pandera[strategies]>=0.6.5->recommenders) (1.8.2)\n",
            "Collecting hypothesis>=5.41.1\n",
            "  Downloading hypothesis-6.52.3-py3-none-any.whl (389 kB)\n",
            "\u001b[K     |████████████████████████████████| 389 kB 59.2 MB/s \n",
            "\u001b[?25hCollecting exceptiongroup>=1.0.0rc8\n",
            "  Downloading exceptiongroup-1.0.0rc8-py3-none-any.whl (11 kB)\n",
            "Requirement already satisfied: sortedcontainers<3.0.0,>=2.1.0 in /usr/local/lib/python3.7/dist-packages (from hypothesis>=5.41.1->pandera[strategies]>=0.6.5->recommenders) (2.4.0)\n",
            "Requirement already satisfied: attrs>=19.2.0 in /usr/local/lib/python3.7/dist-packages (from hypothesis>=5.41.1->pandera[strategies]>=0.6.5->recommenders) (21.4.0)\n",
            "Requirement already satisfied: six in /usr/local/lib/python3.7/dist-packages (from patsy>=0.4.1->category-encoders<2,>=1.3.0->recommenders) (1.15.0)\n",
            "Requirement already satisfied: certifi>=2017.4.17 in /usr/local/lib/python3.7/dist-packages (from requests->lightfm) (2022.6.15)\n",
            "Requirement already satisfied: urllib3!=1.25.0,!=1.25.1,<1.26,>=1.21.1 in /usr/local/lib/python3.7/dist-packages (from requests->lightfm) (1.24.3)\n",
            "Requirement already satisfied: idna<3,>=2.5 in /usr/local/lib/python3.7/dist-packages (from requests->lightfm) (2.10)\n",
            "Requirement already satisfied: chardet<4,>=3.0.2 in /usr/local/lib/python3.7/dist-packages (from requests->lightfm) (3.0.4)\n",
            "Requirement already satisfied: threadpoolctl>=2.0.0 in /usr/local/lib/python3.7/dist-packages (from scikit-learn->lightfm) (3.1.0)\n",
            "Requirement already satisfied: filelock in /usr/local/lib/python3.7/dist-packages (from transformers<5,>=2.5.0->recommenders) (3.7.1)\n",
            "Requirement already satisfied: importlib-metadata in /usr/local/lib/python3.7/dist-packages (from transformers<5,>=2.5.0->recommenders) (4.12.0)\n",
            "Collecting huggingface-hub<1.0,>=0.1.0\n",
            "  Downloading huggingface_hub-0.8.1-py3-none-any.whl (101 kB)\n",
            "\u001b[K     |████████████████████████████████| 101 kB 11.1 MB/s \n",
            "\u001b[?25hCollecting tokenizers!=0.11.3,<0.13,>=0.11.1\n",
            "  Downloading tokenizers-0.12.1-cp37-cp37m-manylinux_2_12_x86_64.manylinux2010_x86_64.whl (6.6 MB)\n",
            "\u001b[K     |████████████████████████████████| 6.6 MB 23.6 MB/s \n",
            "\u001b[?25hCollecting mypy-extensions>=0.3.0\n",
            "  Downloading mypy_extensions-0.4.3-py2.py3-none-any.whl (4.5 kB)\n",
            "Collecting papermill\n",
            "  Downloading papermill-2.3.4-py3-none-any.whl (37 kB)\n",
            "Requirement already satisfied: ipython in /usr/local/lib/python3.7/dist-packages (from scrapbook) (5.5.0)\n",
            "Requirement already satisfied: jsonschema in /usr/local/lib/python3.7/dist-packages (from scrapbook) (4.3.3)\n",
            "Requirement already satisfied: zipp>=0.5 in /usr/local/lib/python3.7/dist-packages (from importlib-metadata->transformers<5,>=2.5.0->recommenders) (3.8.0)\n",
            "Requirement already satisfied: pickleshare in /usr/local/lib/python3.7/dist-packages (from ipython->scrapbook) (0.7.5)\n",
            "Requirement already satisfied: traitlets>=4.2 in /usr/local/lib/python3.7/dist-packages (from ipython->scrapbook) (5.1.1)\n",
            "Requirement already satisfied: pexpect in /usr/local/lib/python3.7/dist-packages (from ipython->scrapbook) (4.8.0)\n",
            "Requirement already satisfied: simplegeneric>0.8 in /usr/local/lib/python3.7/dist-packages (from ipython->scrapbook) (0.8.1)\n",
            "Requirement already satisfied: prompt-toolkit<2.0.0,>=1.0.4 in /usr/local/lib/python3.7/dist-packages (from ipython->scrapbook) (1.0.18)\n",
            "Requirement already satisfied: decorator in /usr/local/lib/python3.7/dist-packages (from ipython->scrapbook) (4.4.2)\n",
            "Requirement already satisfied: pygments in /usr/local/lib/python3.7/dist-packages (from ipython->scrapbook) (2.6.1)\n",
            "Requirement already satisfied: wcwidth in /usr/local/lib/python3.7/dist-packages (from prompt-toolkit<2.0.0,>=1.0.4->ipython->scrapbook) (0.2.5)\n",
            "Requirement already satisfied: pyrsistent!=0.17.0,!=0.17.1,!=0.17.2,>=0.14.0 in /usr/local/lib/python3.7/dist-packages (from jsonschema->scrapbook) (0.18.1)\n",
            "Requirement already satisfied: importlib-resources>=1.4.0 in /usr/local/lib/python3.7/dist-packages (from jsonschema->scrapbook) (5.8.0)\n",
            "Requirement already satisfied: nbclient>=0.2.0 in /usr/local/lib/python3.7/dist-packages (from papermill->scrapbook) (0.6.6)\n",
            "Collecting ansiwrap\n",
            "  Downloading ansiwrap-0.8.4-py2.py3-none-any.whl (8.5 kB)\n",
            "Requirement already satisfied: entrypoints in /usr/local/lib/python3.7/dist-packages (from papermill->scrapbook) (0.4)\n",
            "Requirement already satisfied: nbformat>=5.1.2 in /usr/local/lib/python3.7/dist-packages (from papermill->scrapbook) (5.4.0)\n",
            "Requirement already satisfied: tenacity in /usr/local/lib/python3.7/dist-packages (from papermill->scrapbook) (8.0.1)\n",
            "Requirement already satisfied: nest-asyncio in /usr/local/lib/python3.7/dist-packages (from nbclient>=0.2.0->papermill->scrapbook) (1.5.5)\n",
            "Collecting jupyter-client>=6.1.5\n",
            "  Downloading jupyter_client-7.3.4-py3-none-any.whl (132 kB)\n",
            "\u001b[K     |████████████████████████████████| 132 kB 49.0 MB/s \n",
            "\u001b[?25hCollecting traitlets>=4.2\n",
            "  Downloading traitlets-5.3.0-py3-none-any.whl (106 kB)\n",
            "\u001b[K     |████████████████████████████████| 106 kB 48.8 MB/s \n",
            "\u001b[?25hRequirement already satisfied: pyzmq>=23.0 in /usr/local/lib/python3.7/dist-packages (from jupyter-client>=6.1.5->nbclient>=0.2.0->papermill->scrapbook) (23.2.0)\n",
            "Requirement already satisfied: jupyter-core>=4.9.2 in /usr/local/lib/python3.7/dist-packages (from jupyter-client>=6.1.5->nbclient>=0.2.0->papermill->scrapbook) (4.11.1)\n",
            "Collecting tornado>=6.0\n",
            "  Downloading tornado-6.2-cp37-abi3-manylinux_2_5_x86_64.manylinux1_x86_64.manylinux_2_17_x86_64.manylinux2014_x86_64.whl (423 kB)\n",
            "\u001b[K     |████████████████████████████████| 423 kB 7.5 MB/s \n",
            "\u001b[?25hRequirement already satisfied: fastjsonschema in /usr/local/lib/python3.7/dist-packages (from nbformat>=5.1.2->papermill->scrapbook) (2.15.3)\n",
            "Collecting textwrap3>=0.9.2\n",
            "  Downloading textwrap3-0.9.2-py2.py3-none-any.whl (12 kB)\n",
            "Requirement already satisfied: ptyprocess>=0.5 in /usr/local/lib/python3.7/dist-packages (from pexpect->ipython->scrapbook) (0.7.0)\n",
            "Requirement already satisfied: mpmath in /usr/local/lib/python3.7/dist-packages (from powerlaw->cornac<2,>=1.1.2->recommenders) (1.2.1)\n",
            "Building wheels for collected packages: lightfm, memory-profiler, retrying, scikit-surprise\n",
            "  Building wheel for lightfm (setup.py) ... \u001b[?25l\u001b[?25hdone\n",
            "  Created wheel for lightfm: filename=lightfm-1.16-cp37-cp37m-linux_x86_64.whl size=705364 sha256=7ea1045f93bec3077860051f5429c9e0c9c02b22123e5b91269785fd32b0fce4\n",
            "  Stored in directory: /root/.cache/pip/wheels/f8/56/28/5772a3bd3413d65f03aa452190b00898b680b10028a1021914\n",
            "  Building wheel for memory-profiler (setup.py) ... \u001b[?25l\u001b[?25hdone\n",
            "  Created wheel for memory-profiler: filename=memory_profiler-0.60.0-py3-none-any.whl size=31284 sha256=9f165777c41f4b618a10fddd38063b96643145f655f7560c572094e18acbbaa9\n",
            "  Stored in directory: /root/.cache/pip/wheels/67/2b/fb/326e30d638c538e69a5eb0aa47f4223d979f502bbdb403950f\n",
            "  Building wheel for retrying (setup.py) ... \u001b[?25l\u001b[?25hdone\n",
            "  Created wheel for retrying: filename=retrying-1.3.3-py3-none-any.whl size=11447 sha256=91eaac3ce3e861868413cab5aadd7980f901d3710c6ae4bff1ca78be6f786651\n",
            "  Stored in directory: /root/.cache/pip/wheels/f9/8d/8d/f6af3f7f9eea3553bc2fe6d53e4b287dad18b06a861ac56ddf\n",
            "  Building wheel for scikit-surprise (setup.py) ... \u001b[?25l\u001b[?25hdone\n",
            "  Created wheel for scikit-surprise: filename=scikit_surprise-1.1.1-cp37-cp37m-linux_x86_64.whl size=1633707 sha256=6a1a6edada0c13ac187b4d8d0f86e10357306c03668341a8c4eb8b1bcf8659f0\n",
            "  Stored in directory: /root/.cache/pip/wheels/76/44/74/b498c42be47b2406bd27994e16c5188e337c657025ab400c1c\n",
            "Successfully built lightfm memory-profiler retrying scikit-surprise\n",
            "Installing collected packages: traitlets, tornado, mypy-extensions, typing-inspect, textwrap3, pyyaml, jupyter-client, exceptiongroup, tokenizers, powerlaw, pandera, hypothesis, huggingface-hub, ansiwrap, transformers, scikit-surprise, retrying, papermill, memory-profiler, lightfm, cornac, category-encoders, bottleneck, scrapbook, recommenders\n",
            "  Attempting uninstall: traitlets\n",
            "    Found existing installation: traitlets 5.1.1\n",
            "    Uninstalling traitlets-5.1.1:\n",
            "      Successfully uninstalled traitlets-5.1.1\n",
            "  Attempting uninstall: tornado\n",
            "    Found existing installation: tornado 5.1.1\n",
            "    Uninstalling tornado-5.1.1:\n",
            "      Successfully uninstalled tornado-5.1.1\n",
            "  Attempting uninstall: pyyaml\n",
            "    Found existing installation: PyYAML 3.13\n",
            "    Uninstalling PyYAML-3.13:\n",
            "      Successfully uninstalled PyYAML-3.13\n",
            "  Attempting uninstall: jupyter-client\n",
            "    Found existing installation: jupyter-client 5.3.5\n",
            "    Uninstalling jupyter-client-5.3.5:\n",
            "      Successfully uninstalled jupyter-client-5.3.5\n",
            "\u001b[31mERROR: pip's dependency resolver does not currently take into account all the packages that are installed. This behaviour is the source of the following dependency conflicts.\n",
            "google-colab 1.0.0 requires tornado~=5.1.0; python_version >= \"3.0\", but you have tornado 6.2 which is incompatible.\u001b[0m\n",
            "Successfully installed ansiwrap-0.8.4 bottleneck-1.3.5 category-encoders-1.3.0 cornac-1.14.2 exceptiongroup-1.0.0rc8 huggingface-hub-0.8.1 hypothesis-6.52.3 jupyter-client-7.3.4 lightfm-1.16 memory-profiler-0.60.0 mypy-extensions-0.4.3 pandera-0.9.0 papermill-2.3.4 powerlaw-1.5 pyyaml-5.4.1 recommenders-1.1.0 retrying-1.3.3 scikit-surprise-1.1.1 scrapbook-0.5.0 textwrap3-0.9.2 tokenizers-0.12.1 tornado-6.2 traitlets-5.3.0 transformers-4.20.1 typing-inspect-0.7.1\n"
          ]
        },
        {
          "output_type": "display_data",
          "data": {
            "application/vnd.colab-display-data+json": {
              "pip_warning": {
                "packages": [
                  "tornado"
                ]
              }
            }
          },
          "metadata": {}
        }
      ],
      "source": [
        "! pip install lightfm recommenders scrapbook"
      ]
    },
    {
      "cell_type": "code",
      "execution_count": 3,
      "metadata": {
        "id": "oEcypBYgz0Eu"
      },
      "outputs": [],
      "source": [
        "import warnings\n",
        "warnings.filterwarnings(\"ignore\")\n",
        "\n",
        "import pandas as pd\n",
        "import numpy as np\n",
        "from lightfm import LightFM\n",
        "from lightfm.evaluation import precision_at_k\n",
        "from scipy.sparse import csr_matrix"
      ]
    },
    {
      "cell_type": "code",
      "execution_count": 4,
      "metadata": {
        "id": "AQLKIIpJ4el3"
      },
      "outputs": [],
      "source": [
        "import re\n",
        "import sys\n",
        "import os\n",
        "import scrapbook as sb\n",
        "from tempfile import TemporaryDirectory\n",
        "import numpy as np\n",
        "import pandas as pd \n",
        "\n",
        "from collections import defaultdict\n",
        "import tensorflow as tf\n",
        "tf.get_logger().setLevel('ERROR') # only show error messages\n",
        "\n",
        "from recommenders.utils.timer import Timer\n",
        "from recommenders.datasets.split_utils import filter_k_core\n",
        "\n",
        "# Transformer Based Models\n",
        "from recommenders.models.sasrec.model import SASREC\n",
        "from recommenders.models.sasrec.ssept import SSEPT\n",
        "\n",
        "# Sampler for sequential prediction\n",
        "from recommenders.models.sasrec.sampler import WarpSampler\n",
        "from recommenders.models.sasrec.util import SASRecDataSet\n",
        "\n",
        "# Evaluation\n",
        "from recommenders.evaluation.python_evaluation import precision_at_k"
      ]
    },
    {
      "cell_type": "code",
      "source": [
        "from google.colab import drive\n",
        "drive.mount('/content/drive')"
      ],
      "metadata": {
        "colab": {
          "base_uri": "https://localhost:8080/"
        },
        "id": "ltWaoZ3JTqX0",
        "outputId": "a14bc0b6-bcad-4269-dd93-58efca3b96e9"
      },
      "execution_count": 5,
      "outputs": [
        {
          "output_type": "stream",
          "name": "stdout",
          "text": [
            "Mounted at /content/drive\n"
          ]
        }
      ]
    },
    {
      "cell_type": "code",
      "execution_count": 6,
      "metadata": {
        "colab": {
          "base_uri": "https://localhost:8080/",
          "height": 241
        },
        "id": "RCA9jMIJ0dIA",
        "outputId": "217a774e-69ac-4648-ff35-1004310f4a7a"
      },
      "outputs": [
        {
          "output_type": "stream",
          "name": "stdout",
          "text": [
            "(2040489, 11)\n",
            "(509897, 11)\n"
          ]
        },
        {
          "output_type": "execute_result",
          "data": {
            "text/plain": [
              "    Unnamed: 0            timestamp            hit_id       uid platform  \\\n",
              "0            0  2022-06-29 01:59:29  e4ae2d7f9eab4cb7  87603527  android   \n",
              "6            6  2022-06-30 19:34:27  7215c2b0c24048fd  90893006      ios   \n",
              "9            9  2022-06-28 14:42:26  2827276a10114d02  79135200      ios   \n",
              "12          12  2022-06-30 19:09:20  ef2253baf489479c  46459357  android   \n",
              "15          15  2022-06-29 16:13:44  a02d5a7593e54df7   6913635      ios   \n",
              "\n",
              "         event_name              screen   offer_id    ptn_dadd         id  geo  \n",
              "0   OpenOfferScreen     FavoritesScreen  274235341  2022-06-29  274235341    2  \n",
              "6   OpenOfferScreen   SearchResultsList  274235341  2022-06-30  274235341    2  \n",
              "9   OpenOfferScreen           MapScreen  274235341  2022-06-28  274235341    2  \n",
              "12  OpenOfferScreen           MapScreen  274235341  2022-06-30  274235341    2  \n",
              "15  OpenOfferScreen  PersonalFeedScreen  274235341  2022-06-29  274235341    2  "
            ],
            "text/html": [
              "\n",
              "  <div id=\"df-7ef9b915-3607-446e-b195-b826e9b4fdee\">\n",
              "    <div class=\"colab-df-container\">\n",
              "      <div>\n",
              "<style scoped>\n",
              "    .dataframe tbody tr th:only-of-type {\n",
              "        vertical-align: middle;\n",
              "    }\n",
              "\n",
              "    .dataframe tbody tr th {\n",
              "        vertical-align: top;\n",
              "    }\n",
              "\n",
              "    .dataframe thead th {\n",
              "        text-align: right;\n",
              "    }\n",
              "</style>\n",
              "<table border=\"1\" class=\"dataframe\">\n",
              "  <thead>\n",
              "    <tr style=\"text-align: right;\">\n",
              "      <th></th>\n",
              "      <th>Unnamed: 0</th>\n",
              "      <th>timestamp</th>\n",
              "      <th>hit_id</th>\n",
              "      <th>uid</th>\n",
              "      <th>platform</th>\n",
              "      <th>event_name</th>\n",
              "      <th>screen</th>\n",
              "      <th>offer_id</th>\n",
              "      <th>ptn_dadd</th>\n",
              "      <th>id</th>\n",
              "      <th>geo</th>\n",
              "    </tr>\n",
              "  </thead>\n",
              "  <tbody>\n",
              "    <tr>\n",
              "      <th>0</th>\n",
              "      <td>0</td>\n",
              "      <td>2022-06-29 01:59:29</td>\n",
              "      <td>e4ae2d7f9eab4cb7</td>\n",
              "      <td>87603527</td>\n",
              "      <td>android</td>\n",
              "      <td>OpenOfferScreen</td>\n",
              "      <td>FavoritesScreen</td>\n",
              "      <td>274235341</td>\n",
              "      <td>2022-06-29</td>\n",
              "      <td>274235341</td>\n",
              "      <td>2</td>\n",
              "    </tr>\n",
              "    <tr>\n",
              "      <th>6</th>\n",
              "      <td>6</td>\n",
              "      <td>2022-06-30 19:34:27</td>\n",
              "      <td>7215c2b0c24048fd</td>\n",
              "      <td>90893006</td>\n",
              "      <td>ios</td>\n",
              "      <td>OpenOfferScreen</td>\n",
              "      <td>SearchResultsList</td>\n",
              "      <td>274235341</td>\n",
              "      <td>2022-06-30</td>\n",
              "      <td>274235341</td>\n",
              "      <td>2</td>\n",
              "    </tr>\n",
              "    <tr>\n",
              "      <th>9</th>\n",
              "      <td>9</td>\n",
              "      <td>2022-06-28 14:42:26</td>\n",
              "      <td>2827276a10114d02</td>\n",
              "      <td>79135200</td>\n",
              "      <td>ios</td>\n",
              "      <td>OpenOfferScreen</td>\n",
              "      <td>MapScreen</td>\n",
              "      <td>274235341</td>\n",
              "      <td>2022-06-28</td>\n",
              "      <td>274235341</td>\n",
              "      <td>2</td>\n",
              "    </tr>\n",
              "    <tr>\n",
              "      <th>12</th>\n",
              "      <td>12</td>\n",
              "      <td>2022-06-30 19:09:20</td>\n",
              "      <td>ef2253baf489479c</td>\n",
              "      <td>46459357</td>\n",
              "      <td>android</td>\n",
              "      <td>OpenOfferScreen</td>\n",
              "      <td>MapScreen</td>\n",
              "      <td>274235341</td>\n",
              "      <td>2022-06-30</td>\n",
              "      <td>274235341</td>\n",
              "      <td>2</td>\n",
              "    </tr>\n",
              "    <tr>\n",
              "      <th>15</th>\n",
              "      <td>15</td>\n",
              "      <td>2022-06-29 16:13:44</td>\n",
              "      <td>a02d5a7593e54df7</td>\n",
              "      <td>6913635</td>\n",
              "      <td>ios</td>\n",
              "      <td>OpenOfferScreen</td>\n",
              "      <td>PersonalFeedScreen</td>\n",
              "      <td>274235341</td>\n",
              "      <td>2022-06-29</td>\n",
              "      <td>274235341</td>\n",
              "      <td>2</td>\n",
              "    </tr>\n",
              "  </tbody>\n",
              "</table>\n",
              "</div>\n",
              "      <button class=\"colab-df-convert\" onclick=\"convertToInteractive('df-7ef9b915-3607-446e-b195-b826e9b4fdee')\"\n",
              "              title=\"Convert this dataframe to an interactive table.\"\n",
              "              style=\"display:none;\">\n",
              "        \n",
              "  <svg xmlns=\"http://www.w3.org/2000/svg\" height=\"24px\"viewBox=\"0 0 24 24\"\n",
              "       width=\"24px\">\n",
              "    <path d=\"M0 0h24v24H0V0z\" fill=\"none\"/>\n",
              "    <path d=\"M18.56 5.44l.94 2.06.94-2.06 2.06-.94-2.06-.94-.94-2.06-.94 2.06-2.06.94zm-11 1L8.5 8.5l.94-2.06 2.06-.94-2.06-.94L8.5 2.5l-.94 2.06-2.06.94zm10 10l.94 2.06.94-2.06 2.06-.94-2.06-.94-.94-2.06-.94 2.06-2.06.94z\"/><path d=\"M17.41 7.96l-1.37-1.37c-.4-.4-.92-.59-1.43-.59-.52 0-1.04.2-1.43.59L10.3 9.45l-7.72 7.72c-.78.78-.78 2.05 0 2.83L4 21.41c.39.39.9.59 1.41.59.51 0 1.02-.2 1.41-.59l7.78-7.78 2.81-2.81c.8-.78.8-2.07 0-2.86zM5.41 20L4 18.59l7.72-7.72 1.47 1.35L5.41 20z\"/>\n",
              "  </svg>\n",
              "      </button>\n",
              "      \n",
              "  <style>\n",
              "    .colab-df-container {\n",
              "      display:flex;\n",
              "      flex-wrap:wrap;\n",
              "      gap: 12px;\n",
              "    }\n",
              "\n",
              "    .colab-df-convert {\n",
              "      background-color: #E8F0FE;\n",
              "      border: none;\n",
              "      border-radius: 50%;\n",
              "      cursor: pointer;\n",
              "      display: none;\n",
              "      fill: #1967D2;\n",
              "      height: 32px;\n",
              "      padding: 0 0 0 0;\n",
              "      width: 32px;\n",
              "    }\n",
              "\n",
              "    .colab-df-convert:hover {\n",
              "      background-color: #E2EBFA;\n",
              "      box-shadow: 0px 1px 2px rgba(60, 64, 67, 0.3), 0px 1px 3px 1px rgba(60, 64, 67, 0.15);\n",
              "      fill: #174EA6;\n",
              "    }\n",
              "\n",
              "    [theme=dark] .colab-df-convert {\n",
              "      background-color: #3B4455;\n",
              "      fill: #D2E3FC;\n",
              "    }\n",
              "\n",
              "    [theme=dark] .colab-df-convert:hover {\n",
              "      background-color: #434B5C;\n",
              "      box-shadow: 0px 1px 3px 1px rgba(0, 0, 0, 0.15);\n",
              "      filter: drop-shadow(0px 1px 2px rgba(0, 0, 0, 0.3));\n",
              "      fill: #FFFFFF;\n",
              "    }\n",
              "  </style>\n",
              "\n",
              "      <script>\n",
              "        const buttonEl =\n",
              "          document.querySelector('#df-7ef9b915-3607-446e-b195-b826e9b4fdee button.colab-df-convert');\n",
              "        buttonEl.style.display =\n",
              "          google.colab.kernel.accessAllowed ? 'block' : 'none';\n",
              "\n",
              "        async function convertToInteractive(key) {\n",
              "          const element = document.querySelector('#df-7ef9b915-3607-446e-b195-b826e9b4fdee');\n",
              "          const dataTable =\n",
              "            await google.colab.kernel.invokeFunction('convertToInteractive',\n",
              "                                                     [key], {});\n",
              "          if (!dataTable) return;\n",
              "\n",
              "          const docLinkHtml = 'Like what you see? Visit the ' +\n",
              "            '<a target=\"_blank\" href=https://colab.research.google.com/notebooks/data_table.ipynb>data table notebook</a>'\n",
              "            + ' to learn more about interactive tables.';\n",
              "          element.innerHTML = '';\n",
              "          dataTable['output_type'] = 'display_data';\n",
              "          await google.colab.output.renderOutput(dataTable, element);\n",
              "          const docLink = document.createElement('div');\n",
              "          docLink.innerHTML = docLinkHtml;\n",
              "          element.appendChild(docLink);\n",
              "        }\n",
              "      </script>\n",
              "    </div>\n",
              "  </div>\n",
              "  "
            ]
          },
          "metadata": {},
          "execution_count": 6
        }
      ],
      "source": [
        "data = pd.read_csv('./drive/MyDrive/ML/clicks_cleared.csv')\n",
        "print(data.shape)\n",
        "data.drop_duplicates(subset=['uid', 'offer_id'], inplace=True)\n",
        "\n",
        "print(data.shape)\n",
        "data.head()"
      ]
    },
    {
      "cell_type": "markdown",
      "metadata": {
        "id": "pHboIODH0XBy"
      },
      "source": [
        "### Prepare data"
      ]
    },
    {
      "cell_type": "code",
      "source": [
        "# take users that have >5 clicks\n",
        "while not (data['offer_id'].value_counts()[data['offer_id'].value_counts() <= 5].empty) or \\\n",
        "      not (data['uid'].value_counts()[data['uid'].value_counts() <= 5].empty):\n",
        "    offer_ids = data['offer_id'].value_counts()[data['offer_id'].value_counts() > 5].index\n",
        "    data = data[data['offer_id'].isin(offer_ids)]\n",
        "    uids = data['uid'].value_counts()[data['uid'].value_counts() > 5].index\n",
        "    data = data[data['uid'].isin(uids)]"
      ],
      "metadata": {
        "id": "2LFqDD_TXXca"
      },
      "execution_count": 7,
      "outputs": []
    },
    {
      "cell_type": "code",
      "source": [
        "print(data.shape)\n",
        "data.head()"
      ],
      "metadata": {
        "colab": {
          "base_uri": "https://localhost:8080/",
          "height": 224
        },
        "id": "AKUP5XNbXXe6",
        "outputId": "b95bd9de-26bd-473e-b991-5dbfce077797"
      },
      "execution_count": 8,
      "outputs": [
        {
          "output_type": "stream",
          "name": "stdout",
          "text": [
            "(309037, 11)\n"
          ]
        },
        {
          "output_type": "execute_result",
          "data": {
            "text/plain": [
              "    Unnamed: 0            timestamp            hit_id       uid platform  \\\n",
              "0            0  2022-06-29 01:59:29  e4ae2d7f9eab4cb7  87603527  android   \n",
              "6            6  2022-06-30 19:34:27  7215c2b0c24048fd  90893006      ios   \n",
              "9            9  2022-06-28 14:42:26  2827276a10114d02  79135200      ios   \n",
              "12          12  2022-06-30 19:09:20  ef2253baf489479c  46459357  android   \n",
              "15          15  2022-06-29 16:13:44  a02d5a7593e54df7   6913635      ios   \n",
              "\n",
              "         event_name              screen   offer_id    ptn_dadd         id  geo  \n",
              "0   OpenOfferScreen     FavoritesScreen  274235341  2022-06-29  274235341    2  \n",
              "6   OpenOfferScreen   SearchResultsList  274235341  2022-06-30  274235341    2  \n",
              "9   OpenOfferScreen           MapScreen  274235341  2022-06-28  274235341    2  \n",
              "12  OpenOfferScreen           MapScreen  274235341  2022-06-30  274235341    2  \n",
              "15  OpenOfferScreen  PersonalFeedScreen  274235341  2022-06-29  274235341    2  "
            ],
            "text/html": [
              "\n",
              "  <div id=\"df-1b2459a4-428c-4c3a-86b2-a8a6fee6b8f5\">\n",
              "    <div class=\"colab-df-container\">\n",
              "      <div>\n",
              "<style scoped>\n",
              "    .dataframe tbody tr th:only-of-type {\n",
              "        vertical-align: middle;\n",
              "    }\n",
              "\n",
              "    .dataframe tbody tr th {\n",
              "        vertical-align: top;\n",
              "    }\n",
              "\n",
              "    .dataframe thead th {\n",
              "        text-align: right;\n",
              "    }\n",
              "</style>\n",
              "<table border=\"1\" class=\"dataframe\">\n",
              "  <thead>\n",
              "    <tr style=\"text-align: right;\">\n",
              "      <th></th>\n",
              "      <th>Unnamed: 0</th>\n",
              "      <th>timestamp</th>\n",
              "      <th>hit_id</th>\n",
              "      <th>uid</th>\n",
              "      <th>platform</th>\n",
              "      <th>event_name</th>\n",
              "      <th>screen</th>\n",
              "      <th>offer_id</th>\n",
              "      <th>ptn_dadd</th>\n",
              "      <th>id</th>\n",
              "      <th>geo</th>\n",
              "    </tr>\n",
              "  </thead>\n",
              "  <tbody>\n",
              "    <tr>\n",
              "      <th>0</th>\n",
              "      <td>0</td>\n",
              "      <td>2022-06-29 01:59:29</td>\n",
              "      <td>e4ae2d7f9eab4cb7</td>\n",
              "      <td>87603527</td>\n",
              "      <td>android</td>\n",
              "      <td>OpenOfferScreen</td>\n",
              "      <td>FavoritesScreen</td>\n",
              "      <td>274235341</td>\n",
              "      <td>2022-06-29</td>\n",
              "      <td>274235341</td>\n",
              "      <td>2</td>\n",
              "    </tr>\n",
              "    <tr>\n",
              "      <th>6</th>\n",
              "      <td>6</td>\n",
              "      <td>2022-06-30 19:34:27</td>\n",
              "      <td>7215c2b0c24048fd</td>\n",
              "      <td>90893006</td>\n",
              "      <td>ios</td>\n",
              "      <td>OpenOfferScreen</td>\n",
              "      <td>SearchResultsList</td>\n",
              "      <td>274235341</td>\n",
              "      <td>2022-06-30</td>\n",
              "      <td>274235341</td>\n",
              "      <td>2</td>\n",
              "    </tr>\n",
              "    <tr>\n",
              "      <th>9</th>\n",
              "      <td>9</td>\n",
              "      <td>2022-06-28 14:42:26</td>\n",
              "      <td>2827276a10114d02</td>\n",
              "      <td>79135200</td>\n",
              "      <td>ios</td>\n",
              "      <td>OpenOfferScreen</td>\n",
              "      <td>MapScreen</td>\n",
              "      <td>274235341</td>\n",
              "      <td>2022-06-28</td>\n",
              "      <td>274235341</td>\n",
              "      <td>2</td>\n",
              "    </tr>\n",
              "    <tr>\n",
              "      <th>12</th>\n",
              "      <td>12</td>\n",
              "      <td>2022-06-30 19:09:20</td>\n",
              "      <td>ef2253baf489479c</td>\n",
              "      <td>46459357</td>\n",
              "      <td>android</td>\n",
              "      <td>OpenOfferScreen</td>\n",
              "      <td>MapScreen</td>\n",
              "      <td>274235341</td>\n",
              "      <td>2022-06-30</td>\n",
              "      <td>274235341</td>\n",
              "      <td>2</td>\n",
              "    </tr>\n",
              "    <tr>\n",
              "      <th>15</th>\n",
              "      <td>15</td>\n",
              "      <td>2022-06-29 16:13:44</td>\n",
              "      <td>a02d5a7593e54df7</td>\n",
              "      <td>6913635</td>\n",
              "      <td>ios</td>\n",
              "      <td>OpenOfferScreen</td>\n",
              "      <td>PersonalFeedScreen</td>\n",
              "      <td>274235341</td>\n",
              "      <td>2022-06-29</td>\n",
              "      <td>274235341</td>\n",
              "      <td>2</td>\n",
              "    </tr>\n",
              "  </tbody>\n",
              "</table>\n",
              "</div>\n",
              "      <button class=\"colab-df-convert\" onclick=\"convertToInteractive('df-1b2459a4-428c-4c3a-86b2-a8a6fee6b8f5')\"\n",
              "              title=\"Convert this dataframe to an interactive table.\"\n",
              "              style=\"display:none;\">\n",
              "        \n",
              "  <svg xmlns=\"http://www.w3.org/2000/svg\" height=\"24px\"viewBox=\"0 0 24 24\"\n",
              "       width=\"24px\">\n",
              "    <path d=\"M0 0h24v24H0V0z\" fill=\"none\"/>\n",
              "    <path d=\"M18.56 5.44l.94 2.06.94-2.06 2.06-.94-2.06-.94-.94-2.06-.94 2.06-2.06.94zm-11 1L8.5 8.5l.94-2.06 2.06-.94-2.06-.94L8.5 2.5l-.94 2.06-2.06.94zm10 10l.94 2.06.94-2.06 2.06-.94-2.06-.94-.94-2.06-.94 2.06-2.06.94z\"/><path d=\"M17.41 7.96l-1.37-1.37c-.4-.4-.92-.59-1.43-.59-.52 0-1.04.2-1.43.59L10.3 9.45l-7.72 7.72c-.78.78-.78 2.05 0 2.83L4 21.41c.39.39.9.59 1.41.59.51 0 1.02-.2 1.41-.59l7.78-7.78 2.81-2.81c.8-.78.8-2.07 0-2.86zM5.41 20L4 18.59l7.72-7.72 1.47 1.35L5.41 20z\"/>\n",
              "  </svg>\n",
              "      </button>\n",
              "      \n",
              "  <style>\n",
              "    .colab-df-container {\n",
              "      display:flex;\n",
              "      flex-wrap:wrap;\n",
              "      gap: 12px;\n",
              "    }\n",
              "\n",
              "    .colab-df-convert {\n",
              "      background-color: #E8F0FE;\n",
              "      border: none;\n",
              "      border-radius: 50%;\n",
              "      cursor: pointer;\n",
              "      display: none;\n",
              "      fill: #1967D2;\n",
              "      height: 32px;\n",
              "      padding: 0 0 0 0;\n",
              "      width: 32px;\n",
              "    }\n",
              "\n",
              "    .colab-df-convert:hover {\n",
              "      background-color: #E2EBFA;\n",
              "      box-shadow: 0px 1px 2px rgba(60, 64, 67, 0.3), 0px 1px 3px 1px rgba(60, 64, 67, 0.15);\n",
              "      fill: #174EA6;\n",
              "    }\n",
              "\n",
              "    [theme=dark] .colab-df-convert {\n",
              "      background-color: #3B4455;\n",
              "      fill: #D2E3FC;\n",
              "    }\n",
              "\n",
              "    [theme=dark] .colab-df-convert:hover {\n",
              "      background-color: #434B5C;\n",
              "      box-shadow: 0px 1px 3px 1px rgba(0, 0, 0, 0.15);\n",
              "      filter: drop-shadow(0px 1px 2px rgba(0, 0, 0, 0.3));\n",
              "      fill: #FFFFFF;\n",
              "    }\n",
              "  </style>\n",
              "\n",
              "      <script>\n",
              "        const buttonEl =\n",
              "          document.querySelector('#df-1b2459a4-428c-4c3a-86b2-a8a6fee6b8f5 button.colab-df-convert');\n",
              "        buttonEl.style.display =\n",
              "          google.colab.kernel.accessAllowed ? 'block' : 'none';\n",
              "\n",
              "        async function convertToInteractive(key) {\n",
              "          const element = document.querySelector('#df-1b2459a4-428c-4c3a-86b2-a8a6fee6b8f5');\n",
              "          const dataTable =\n",
              "            await google.colab.kernel.invokeFunction('convertToInteractive',\n",
              "                                                     [key], {});\n",
              "          if (!dataTable) return;\n",
              "\n",
              "          const docLinkHtml = 'Like what you see? Visit the ' +\n",
              "            '<a target=\"_blank\" href=https://colab.research.google.com/notebooks/data_table.ipynb>data table notebook</a>'\n",
              "            + ' to learn more about interactive tables.';\n",
              "          element.innerHTML = '';\n",
              "          dataTable['output_type'] = 'display_data';\n",
              "          await google.colab.output.renderOutput(dataTable, element);\n",
              "          const docLink = document.createElement('div');\n",
              "          docLink.innerHTML = docLinkHtml;\n",
              "          element.appendChild(docLink);\n",
              "        }\n",
              "      </script>\n",
              "    </div>\n",
              "  </div>\n",
              "  "
            ]
          },
          "metadata": {},
          "execution_count": 8
        }
      ]
    },
    {
      "cell_type": "code",
      "execution_count": 9,
      "metadata": {
        "id": "L6Ha40Gn0y1b"
      },
      "outputs": [],
      "source": [
        "# add action column\n",
        "data['action'] = 1\n",
        "\n",
        "# encode, start with 0\n",
        "offer_encoder = {off: ind for ind, off in enumerate(data['offer_id'].unique())}\n",
        "data['offer_id_enc'] = data['offer_id'].map(offer_encoder)\n",
        "uid_encoder = {uid: ind for ind, uid in enumerate(data['uid'].unique())}\n",
        "data['uid_enc'] = data['uid'].map(uid_encoder)"
      ]
    },
    {
      "cell_type": "code",
      "execution_count": 10,
      "metadata": {
        "colab": {
          "base_uri": "https://localhost:8080/",
          "height": 380
        },
        "id": "t6NGMRSZ0Zu1",
        "outputId": "a272c53e-a598-4355-a62b-dbe2f02c685c"
      },
      "outputs": [
        {
          "output_type": "stream",
          "name": "stdout",
          "text": [
            "(309037, 14)\n"
          ]
        },
        {
          "output_type": "execute_result",
          "data": {
            "text/plain": [
              "         Unnamed: 0           timestamp            hit_id  \\\n",
              "834748       834748 2022-06-27 21:00:00  2241fefec0494315   \n",
              "360760       360760 2022-06-27 21:00:00  f522e557db8b4679   \n",
              "1313747     1313747 2022-06-27 21:00:01  8eb54de70ee64369   \n",
              "1271705     1271705 2022-06-27 21:00:03  b745ae3ebd004c1f   \n",
              "1591987     1591987 2022-06-27 21:00:04  cd7cbcace3e24f47   \n",
              "461664       461664 2022-06-27 21:00:04  de0f716f51764173   \n",
              "216664       216664 2022-06-27 21:00:05  f7707fa30b5d46af   \n",
              "1605664     1605664 2022-06-27 21:00:06  8eea69af192a429d   \n",
              "483921       483921 2022-06-27 21:00:06  a19b623fb55a4cfa   \n",
              "825391       825391 2022-06-27 21:00:08  b604f45546494ff9   \n",
              "\n",
              "                                          uid platform       event_name  \\\n",
              "834748   398271fb-efcf-4875-bce8-69e550e89b36  android  OpenOfferScreen   \n",
              "360760                               75545312      ios  OpenOfferScreen   \n",
              "1313747                              92650098  android  OpenOfferScreen   \n",
              "1271705  f9dbc181-9be0-4df8-a1ab-6c8877a8fde7  android  OpenOfferScreen   \n",
              "1591987                              48505768      ios  OpenOfferScreen   \n",
              "461664                               92657713  android  OpenOfferScreen   \n",
              "216664   178523e8-df7c-4495-95a6-1e820c8a2dd5  android  OpenOfferScreen   \n",
              "1605664                              73224555  android  OpenOfferScreen   \n",
              "483921                                6932077  android  OpenOfferScreen   \n",
              "825391                               76863963      ios  OpenOfferScreen   \n",
              "\n",
              "                        screen   offer_id    ptn_dadd         id  geo  action  \\\n",
              "834748               MapScreen  272813805  2022-06-28  272813805    2       1   \n",
              "360760      PersonalFeedScreen  275048289  2022-06-28  275048289    2       1   \n",
              "1313747              MapScreen  273499093  2022-06-28  273499093    2       1   \n",
              "1271705                    NaN  274694106  2022-06-28  274694106    2       1   \n",
              "1591987  RecommendationsScreen  274830501  2022-06-28  274830501    2       1   \n",
              "461664               MapScreen  274238981  2022-06-28  274238981    2       1   \n",
              "216664                     NaN  267118079  2022-06-28  267118079    2       1   \n",
              "1605664              MapScreen  275099925  2022-06-28  275099925    2       1   \n",
              "483921               Undefined  275183897  2022-06-28  275183897    2       1   \n",
              "825391               MapScreen  189350588  2022-06-28  189350588    2       1   \n",
              "\n",
              "         offer_id_enc  uid_enc  \n",
              "834748           6864     3995  \n",
              "360760           2597     4688  \n",
              "1313747         12336      664  \n",
              "1271705         11818     4938  \n",
              "1591987         15943     7435  \n",
              "461664           3434     6465  \n",
              "216664           1475    14645  \n",
              "1605664         16107    17218  \n",
              "483921           3601     8626  \n",
              "825391           6774     6518  "
            ],
            "text/html": [
              "\n",
              "  <div id=\"df-a7fc0d2e-ce64-4078-996d-d6766a9c0f5d\">\n",
              "    <div class=\"colab-df-container\">\n",
              "      <div>\n",
              "<style scoped>\n",
              "    .dataframe tbody tr th:only-of-type {\n",
              "        vertical-align: middle;\n",
              "    }\n",
              "\n",
              "    .dataframe tbody tr th {\n",
              "        vertical-align: top;\n",
              "    }\n",
              "\n",
              "    .dataframe thead th {\n",
              "        text-align: right;\n",
              "    }\n",
              "</style>\n",
              "<table border=\"1\" class=\"dataframe\">\n",
              "  <thead>\n",
              "    <tr style=\"text-align: right;\">\n",
              "      <th></th>\n",
              "      <th>Unnamed: 0</th>\n",
              "      <th>timestamp</th>\n",
              "      <th>hit_id</th>\n",
              "      <th>uid</th>\n",
              "      <th>platform</th>\n",
              "      <th>event_name</th>\n",
              "      <th>screen</th>\n",
              "      <th>offer_id</th>\n",
              "      <th>ptn_dadd</th>\n",
              "      <th>id</th>\n",
              "      <th>geo</th>\n",
              "      <th>action</th>\n",
              "      <th>offer_id_enc</th>\n",
              "      <th>uid_enc</th>\n",
              "    </tr>\n",
              "  </thead>\n",
              "  <tbody>\n",
              "    <tr>\n",
              "      <th>834748</th>\n",
              "      <td>834748</td>\n",
              "      <td>2022-06-27 21:00:00</td>\n",
              "      <td>2241fefec0494315</td>\n",
              "      <td>398271fb-efcf-4875-bce8-69e550e89b36</td>\n",
              "      <td>android</td>\n",
              "      <td>OpenOfferScreen</td>\n",
              "      <td>MapScreen</td>\n",
              "      <td>272813805</td>\n",
              "      <td>2022-06-28</td>\n",
              "      <td>272813805</td>\n",
              "      <td>2</td>\n",
              "      <td>1</td>\n",
              "      <td>6864</td>\n",
              "      <td>3995</td>\n",
              "    </tr>\n",
              "    <tr>\n",
              "      <th>360760</th>\n",
              "      <td>360760</td>\n",
              "      <td>2022-06-27 21:00:00</td>\n",
              "      <td>f522e557db8b4679</td>\n",
              "      <td>75545312</td>\n",
              "      <td>ios</td>\n",
              "      <td>OpenOfferScreen</td>\n",
              "      <td>PersonalFeedScreen</td>\n",
              "      <td>275048289</td>\n",
              "      <td>2022-06-28</td>\n",
              "      <td>275048289</td>\n",
              "      <td>2</td>\n",
              "      <td>1</td>\n",
              "      <td>2597</td>\n",
              "      <td>4688</td>\n",
              "    </tr>\n",
              "    <tr>\n",
              "      <th>1313747</th>\n",
              "      <td>1313747</td>\n",
              "      <td>2022-06-27 21:00:01</td>\n",
              "      <td>8eb54de70ee64369</td>\n",
              "      <td>92650098</td>\n",
              "      <td>android</td>\n",
              "      <td>OpenOfferScreen</td>\n",
              "      <td>MapScreen</td>\n",
              "      <td>273499093</td>\n",
              "      <td>2022-06-28</td>\n",
              "      <td>273499093</td>\n",
              "      <td>2</td>\n",
              "      <td>1</td>\n",
              "      <td>12336</td>\n",
              "      <td>664</td>\n",
              "    </tr>\n",
              "    <tr>\n",
              "      <th>1271705</th>\n",
              "      <td>1271705</td>\n",
              "      <td>2022-06-27 21:00:03</td>\n",
              "      <td>b745ae3ebd004c1f</td>\n",
              "      <td>f9dbc181-9be0-4df8-a1ab-6c8877a8fde7</td>\n",
              "      <td>android</td>\n",
              "      <td>OpenOfferScreen</td>\n",
              "      <td>NaN</td>\n",
              "      <td>274694106</td>\n",
              "      <td>2022-06-28</td>\n",
              "      <td>274694106</td>\n",
              "      <td>2</td>\n",
              "      <td>1</td>\n",
              "      <td>11818</td>\n",
              "      <td>4938</td>\n",
              "    </tr>\n",
              "    <tr>\n",
              "      <th>1591987</th>\n",
              "      <td>1591987</td>\n",
              "      <td>2022-06-27 21:00:04</td>\n",
              "      <td>cd7cbcace3e24f47</td>\n",
              "      <td>48505768</td>\n",
              "      <td>ios</td>\n",
              "      <td>OpenOfferScreen</td>\n",
              "      <td>RecommendationsScreen</td>\n",
              "      <td>274830501</td>\n",
              "      <td>2022-06-28</td>\n",
              "      <td>274830501</td>\n",
              "      <td>2</td>\n",
              "      <td>1</td>\n",
              "      <td>15943</td>\n",
              "      <td>7435</td>\n",
              "    </tr>\n",
              "    <tr>\n",
              "      <th>461664</th>\n",
              "      <td>461664</td>\n",
              "      <td>2022-06-27 21:00:04</td>\n",
              "      <td>de0f716f51764173</td>\n",
              "      <td>92657713</td>\n",
              "      <td>android</td>\n",
              "      <td>OpenOfferScreen</td>\n",
              "      <td>MapScreen</td>\n",
              "      <td>274238981</td>\n",
              "      <td>2022-06-28</td>\n",
              "      <td>274238981</td>\n",
              "      <td>2</td>\n",
              "      <td>1</td>\n",
              "      <td>3434</td>\n",
              "      <td>6465</td>\n",
              "    </tr>\n",
              "    <tr>\n",
              "      <th>216664</th>\n",
              "      <td>216664</td>\n",
              "      <td>2022-06-27 21:00:05</td>\n",
              "      <td>f7707fa30b5d46af</td>\n",
              "      <td>178523e8-df7c-4495-95a6-1e820c8a2dd5</td>\n",
              "      <td>android</td>\n",
              "      <td>OpenOfferScreen</td>\n",
              "      <td>NaN</td>\n",
              "      <td>267118079</td>\n",
              "      <td>2022-06-28</td>\n",
              "      <td>267118079</td>\n",
              "      <td>2</td>\n",
              "      <td>1</td>\n",
              "      <td>1475</td>\n",
              "      <td>14645</td>\n",
              "    </tr>\n",
              "    <tr>\n",
              "      <th>1605664</th>\n",
              "      <td>1605664</td>\n",
              "      <td>2022-06-27 21:00:06</td>\n",
              "      <td>8eea69af192a429d</td>\n",
              "      <td>73224555</td>\n",
              "      <td>android</td>\n",
              "      <td>OpenOfferScreen</td>\n",
              "      <td>MapScreen</td>\n",
              "      <td>275099925</td>\n",
              "      <td>2022-06-28</td>\n",
              "      <td>275099925</td>\n",
              "      <td>2</td>\n",
              "      <td>1</td>\n",
              "      <td>16107</td>\n",
              "      <td>17218</td>\n",
              "    </tr>\n",
              "    <tr>\n",
              "      <th>483921</th>\n",
              "      <td>483921</td>\n",
              "      <td>2022-06-27 21:00:06</td>\n",
              "      <td>a19b623fb55a4cfa</td>\n",
              "      <td>6932077</td>\n",
              "      <td>android</td>\n",
              "      <td>OpenOfferScreen</td>\n",
              "      <td>Undefined</td>\n",
              "      <td>275183897</td>\n",
              "      <td>2022-06-28</td>\n",
              "      <td>275183897</td>\n",
              "      <td>2</td>\n",
              "      <td>1</td>\n",
              "      <td>3601</td>\n",
              "      <td>8626</td>\n",
              "    </tr>\n",
              "    <tr>\n",
              "      <th>825391</th>\n",
              "      <td>825391</td>\n",
              "      <td>2022-06-27 21:00:08</td>\n",
              "      <td>b604f45546494ff9</td>\n",
              "      <td>76863963</td>\n",
              "      <td>ios</td>\n",
              "      <td>OpenOfferScreen</td>\n",
              "      <td>MapScreen</td>\n",
              "      <td>189350588</td>\n",
              "      <td>2022-06-28</td>\n",
              "      <td>189350588</td>\n",
              "      <td>2</td>\n",
              "      <td>1</td>\n",
              "      <td>6774</td>\n",
              "      <td>6518</td>\n",
              "    </tr>\n",
              "  </tbody>\n",
              "</table>\n",
              "</div>\n",
              "      <button class=\"colab-df-convert\" onclick=\"convertToInteractive('df-a7fc0d2e-ce64-4078-996d-d6766a9c0f5d')\"\n",
              "              title=\"Convert this dataframe to an interactive table.\"\n",
              "              style=\"display:none;\">\n",
              "        \n",
              "  <svg xmlns=\"http://www.w3.org/2000/svg\" height=\"24px\"viewBox=\"0 0 24 24\"\n",
              "       width=\"24px\">\n",
              "    <path d=\"M0 0h24v24H0V0z\" fill=\"none\"/>\n",
              "    <path d=\"M18.56 5.44l.94 2.06.94-2.06 2.06-.94-2.06-.94-.94-2.06-.94 2.06-2.06.94zm-11 1L8.5 8.5l.94-2.06 2.06-.94-2.06-.94L8.5 2.5l-.94 2.06-2.06.94zm10 10l.94 2.06.94-2.06 2.06-.94-2.06-.94-.94-2.06-.94 2.06-2.06.94z\"/><path d=\"M17.41 7.96l-1.37-1.37c-.4-.4-.92-.59-1.43-.59-.52 0-1.04.2-1.43.59L10.3 9.45l-7.72 7.72c-.78.78-.78 2.05 0 2.83L4 21.41c.39.39.9.59 1.41.59.51 0 1.02-.2 1.41-.59l7.78-7.78 2.81-2.81c.8-.78.8-2.07 0-2.86zM5.41 20L4 18.59l7.72-7.72 1.47 1.35L5.41 20z\"/>\n",
              "  </svg>\n",
              "      </button>\n",
              "      \n",
              "  <style>\n",
              "    .colab-df-container {\n",
              "      display:flex;\n",
              "      flex-wrap:wrap;\n",
              "      gap: 12px;\n",
              "    }\n",
              "\n",
              "    .colab-df-convert {\n",
              "      background-color: #E8F0FE;\n",
              "      border: none;\n",
              "      border-radius: 50%;\n",
              "      cursor: pointer;\n",
              "      display: none;\n",
              "      fill: #1967D2;\n",
              "      height: 32px;\n",
              "      padding: 0 0 0 0;\n",
              "      width: 32px;\n",
              "    }\n",
              "\n",
              "    .colab-df-convert:hover {\n",
              "      background-color: #E2EBFA;\n",
              "      box-shadow: 0px 1px 2px rgba(60, 64, 67, 0.3), 0px 1px 3px 1px rgba(60, 64, 67, 0.15);\n",
              "      fill: #174EA6;\n",
              "    }\n",
              "\n",
              "    [theme=dark] .colab-df-convert {\n",
              "      background-color: #3B4455;\n",
              "      fill: #D2E3FC;\n",
              "    }\n",
              "\n",
              "    [theme=dark] .colab-df-convert:hover {\n",
              "      background-color: #434B5C;\n",
              "      box-shadow: 0px 1px 3px 1px rgba(0, 0, 0, 0.15);\n",
              "      filter: drop-shadow(0px 1px 2px rgba(0, 0, 0, 0.3));\n",
              "      fill: #FFFFFF;\n",
              "    }\n",
              "  </style>\n",
              "\n",
              "      <script>\n",
              "        const buttonEl =\n",
              "          document.querySelector('#df-a7fc0d2e-ce64-4078-996d-d6766a9c0f5d button.colab-df-convert');\n",
              "        buttonEl.style.display =\n",
              "          google.colab.kernel.accessAllowed ? 'block' : 'none';\n",
              "\n",
              "        async function convertToInteractive(key) {\n",
              "          const element = document.querySelector('#df-a7fc0d2e-ce64-4078-996d-d6766a9c0f5d');\n",
              "          const dataTable =\n",
              "            await google.colab.kernel.invokeFunction('convertToInteractive',\n",
              "                                                     [key], {});\n",
              "          if (!dataTable) return;\n",
              "\n",
              "          const docLinkHtml = 'Like what you see? Visit the ' +\n",
              "            '<a target=\"_blank\" href=https://colab.research.google.com/notebooks/data_table.ipynb>data table notebook</a>'\n",
              "            + ' to learn more about interactive tables.';\n",
              "          element.innerHTML = '';\n",
              "          dataTable['output_type'] = 'display_data';\n",
              "          await google.colab.output.renderOutput(dataTable, element);\n",
              "          const docLink = document.createElement('div');\n",
              "          docLink.innerHTML = docLinkHtml;\n",
              "          element.appendChild(docLink);\n",
              "        }\n",
              "      </script>\n",
              "    </div>\n",
              "  </div>\n",
              "  "
            ]
          },
          "metadata": {},
          "execution_count": 10
        }
      ],
      "source": [
        "# sort by time\n",
        "data['timestamp'] = pd.to_datetime(data['timestamp'])\n",
        "data.sort_values(by='timestamp', inplace=True)\n",
        "print(data.shape)\n",
        "data.head(10)"
      ]
    },
    {
      "cell_type": "markdown",
      "metadata": {
        "id": "U5sZw4mGUPhU"
      },
      "source": [
        "# LightFM"
      ]
    },
    {
      "cell_type": "code",
      "execution_count": 11,
      "metadata": {
        "id": "3-qu3iur0ln8"
      },
      "outputs": [],
      "source": [
        "# create train and test sets\n",
        "#users = set(data['uid_enc'].values)\n",
        "data_train = pd.DataFrame({})\n",
        "data_test = pd.DataFrame({})\n",
        "\n",
        "users = list(data['uid_enc'].value_counts().index)\n",
        "counter = 0\n",
        "for user in users:\n",
        "    counter +=1\n",
        "    if len(data[data['uid_enc'] == user]) < 3:\n",
        "        data_train = data_train.append(data[data['uid_enc'] == user][['uid_enc', 'offer_id_enc', 'timestamp']], ignore_index = True)\n",
        "        #data_test[user] = []\n",
        "        print(counter)\n",
        "    else:\n",
        "        data_train = data_train.append(data[data['uid_enc'] == user].iloc[:-2][['uid_enc', 'offer_id_enc', 'timestamp']], ignore_index = True)\n",
        "        data_test = data_test.append(data[data['uid_enc'] == user].iloc[-2][['uid_enc', 'offer_id_enc', 'timestamp']], ignore_index = True)"
      ]
    },
    {
      "cell_type": "code",
      "execution_count": 12,
      "metadata": {
        "colab": {
          "base_uri": "https://localhost:8080/",
          "height": 430
        },
        "id": "JmdczyuHRJG0",
        "outputId": "4562ae67-2882-4048-fbbb-487070700945"
      },
      "outputs": [
        {
          "output_type": "stream",
          "name": "stdout",
          "text": [
            "(288603, 3) (20434, 3)\n",
            "(288603, 3) (20434, 3)\n"
          ]
        },
        {
          "output_type": "display_data",
          "data": {
            "text/plain": [
              "   uid_enc  offer_id_enc           timestamp\n",
              "0      166          1075 2022-06-29 08:12:26\n",
              "1      166          4008 2022-06-29 08:19:08\n",
              "2      166          4965 2022-06-29 08:19:41\n",
              "3      166          2111 2022-06-29 10:58:19\n",
              "4      166          2695 2022-06-29 11:00:47"
            ],
            "text/html": [
              "\n",
              "  <div id=\"df-a6a49321-022e-4963-b1a3-d0613c5ad70c\">\n",
              "    <div class=\"colab-df-container\">\n",
              "      <div>\n",
              "<style scoped>\n",
              "    .dataframe tbody tr th:only-of-type {\n",
              "        vertical-align: middle;\n",
              "    }\n",
              "\n",
              "    .dataframe tbody tr th {\n",
              "        vertical-align: top;\n",
              "    }\n",
              "\n",
              "    .dataframe thead th {\n",
              "        text-align: right;\n",
              "    }\n",
              "</style>\n",
              "<table border=\"1\" class=\"dataframe\">\n",
              "  <thead>\n",
              "    <tr style=\"text-align: right;\">\n",
              "      <th></th>\n",
              "      <th>uid_enc</th>\n",
              "      <th>offer_id_enc</th>\n",
              "      <th>timestamp</th>\n",
              "    </tr>\n",
              "  </thead>\n",
              "  <tbody>\n",
              "    <tr>\n",
              "      <th>0</th>\n",
              "      <td>166</td>\n",
              "      <td>1075</td>\n",
              "      <td>2022-06-29 08:12:26</td>\n",
              "    </tr>\n",
              "    <tr>\n",
              "      <th>1</th>\n",
              "      <td>166</td>\n",
              "      <td>4008</td>\n",
              "      <td>2022-06-29 08:19:08</td>\n",
              "    </tr>\n",
              "    <tr>\n",
              "      <th>2</th>\n",
              "      <td>166</td>\n",
              "      <td>4965</td>\n",
              "      <td>2022-06-29 08:19:41</td>\n",
              "    </tr>\n",
              "    <tr>\n",
              "      <th>3</th>\n",
              "      <td>166</td>\n",
              "      <td>2111</td>\n",
              "      <td>2022-06-29 10:58:19</td>\n",
              "    </tr>\n",
              "    <tr>\n",
              "      <th>4</th>\n",
              "      <td>166</td>\n",
              "      <td>2695</td>\n",
              "      <td>2022-06-29 11:00:47</td>\n",
              "    </tr>\n",
              "  </tbody>\n",
              "</table>\n",
              "</div>\n",
              "      <button class=\"colab-df-convert\" onclick=\"convertToInteractive('df-a6a49321-022e-4963-b1a3-d0613c5ad70c')\"\n",
              "              title=\"Convert this dataframe to an interactive table.\"\n",
              "              style=\"display:none;\">\n",
              "        \n",
              "  <svg xmlns=\"http://www.w3.org/2000/svg\" height=\"24px\"viewBox=\"0 0 24 24\"\n",
              "       width=\"24px\">\n",
              "    <path d=\"M0 0h24v24H0V0z\" fill=\"none\"/>\n",
              "    <path d=\"M18.56 5.44l.94 2.06.94-2.06 2.06-.94-2.06-.94-.94-2.06-.94 2.06-2.06.94zm-11 1L8.5 8.5l.94-2.06 2.06-.94-2.06-.94L8.5 2.5l-.94 2.06-2.06.94zm10 10l.94 2.06.94-2.06 2.06-.94-2.06-.94-.94-2.06-.94 2.06-2.06.94z\"/><path d=\"M17.41 7.96l-1.37-1.37c-.4-.4-.92-.59-1.43-.59-.52 0-1.04.2-1.43.59L10.3 9.45l-7.72 7.72c-.78.78-.78 2.05 0 2.83L4 21.41c.39.39.9.59 1.41.59.51 0 1.02-.2 1.41-.59l7.78-7.78 2.81-2.81c.8-.78.8-2.07 0-2.86zM5.41 20L4 18.59l7.72-7.72 1.47 1.35L5.41 20z\"/>\n",
              "  </svg>\n",
              "      </button>\n",
              "      \n",
              "  <style>\n",
              "    .colab-df-container {\n",
              "      display:flex;\n",
              "      flex-wrap:wrap;\n",
              "      gap: 12px;\n",
              "    }\n",
              "\n",
              "    .colab-df-convert {\n",
              "      background-color: #E8F0FE;\n",
              "      border: none;\n",
              "      border-radius: 50%;\n",
              "      cursor: pointer;\n",
              "      display: none;\n",
              "      fill: #1967D2;\n",
              "      height: 32px;\n",
              "      padding: 0 0 0 0;\n",
              "      width: 32px;\n",
              "    }\n",
              "\n",
              "    .colab-df-convert:hover {\n",
              "      background-color: #E2EBFA;\n",
              "      box-shadow: 0px 1px 2px rgba(60, 64, 67, 0.3), 0px 1px 3px 1px rgba(60, 64, 67, 0.15);\n",
              "      fill: #174EA6;\n",
              "    }\n",
              "\n",
              "    [theme=dark] .colab-df-convert {\n",
              "      background-color: #3B4455;\n",
              "      fill: #D2E3FC;\n",
              "    }\n",
              "\n",
              "    [theme=dark] .colab-df-convert:hover {\n",
              "      background-color: #434B5C;\n",
              "      box-shadow: 0px 1px 3px 1px rgba(0, 0, 0, 0.15);\n",
              "      filter: drop-shadow(0px 1px 2px rgba(0, 0, 0, 0.3));\n",
              "      fill: #FFFFFF;\n",
              "    }\n",
              "  </style>\n",
              "\n",
              "      <script>\n",
              "        const buttonEl =\n",
              "          document.querySelector('#df-a6a49321-022e-4963-b1a3-d0613c5ad70c button.colab-df-convert');\n",
              "        buttonEl.style.display =\n",
              "          google.colab.kernel.accessAllowed ? 'block' : 'none';\n",
              "\n",
              "        async function convertToInteractive(key) {\n",
              "          const element = document.querySelector('#df-a6a49321-022e-4963-b1a3-d0613c5ad70c');\n",
              "          const dataTable =\n",
              "            await google.colab.kernel.invokeFunction('convertToInteractive',\n",
              "                                                     [key], {});\n",
              "          if (!dataTable) return;\n",
              "\n",
              "          const docLinkHtml = 'Like what you see? Visit the ' +\n",
              "            '<a target=\"_blank\" href=https://colab.research.google.com/notebooks/data_table.ipynb>data table notebook</a>'\n",
              "            + ' to learn more about interactive tables.';\n",
              "          element.innerHTML = '';\n",
              "          dataTable['output_type'] = 'display_data';\n",
              "          await google.colab.output.renderOutput(dataTable, element);\n",
              "          const docLink = document.createElement('div');\n",
              "          docLink.innerHTML = docLinkHtml;\n",
              "          element.appendChild(docLink);\n",
              "        }\n",
              "      </script>\n",
              "    </div>\n",
              "  </div>\n",
              "  "
            ]
          },
          "metadata": {}
        },
        {
          "output_type": "display_data",
          "data": {
            "text/plain": [
              "   uid_enc  offer_id_enc           timestamp\n",
              "0      166          1474 2022-06-30 11:51:37\n",
              "1     3398          9218 2022-06-30 13:59:48\n",
              "2     1706          1246 2022-06-30 17:00:19\n",
              "3      353          7026 2022-06-30 14:01:30\n",
              "4       69         12859 2022-06-30 14:52:43"
            ],
            "text/html": [
              "\n",
              "  <div id=\"df-d775c3ef-5ed1-421f-8891-5431b985d56b\">\n",
              "    <div class=\"colab-df-container\">\n",
              "      <div>\n",
              "<style scoped>\n",
              "    .dataframe tbody tr th:only-of-type {\n",
              "        vertical-align: middle;\n",
              "    }\n",
              "\n",
              "    .dataframe tbody tr th {\n",
              "        vertical-align: top;\n",
              "    }\n",
              "\n",
              "    .dataframe thead th {\n",
              "        text-align: right;\n",
              "    }\n",
              "</style>\n",
              "<table border=\"1\" class=\"dataframe\">\n",
              "  <thead>\n",
              "    <tr style=\"text-align: right;\">\n",
              "      <th></th>\n",
              "      <th>uid_enc</th>\n",
              "      <th>offer_id_enc</th>\n",
              "      <th>timestamp</th>\n",
              "    </tr>\n",
              "  </thead>\n",
              "  <tbody>\n",
              "    <tr>\n",
              "      <th>0</th>\n",
              "      <td>166</td>\n",
              "      <td>1474</td>\n",
              "      <td>2022-06-30 11:51:37</td>\n",
              "    </tr>\n",
              "    <tr>\n",
              "      <th>1</th>\n",
              "      <td>3398</td>\n",
              "      <td>9218</td>\n",
              "      <td>2022-06-30 13:59:48</td>\n",
              "    </tr>\n",
              "    <tr>\n",
              "      <th>2</th>\n",
              "      <td>1706</td>\n",
              "      <td>1246</td>\n",
              "      <td>2022-06-30 17:00:19</td>\n",
              "    </tr>\n",
              "    <tr>\n",
              "      <th>3</th>\n",
              "      <td>353</td>\n",
              "      <td>7026</td>\n",
              "      <td>2022-06-30 14:01:30</td>\n",
              "    </tr>\n",
              "    <tr>\n",
              "      <th>4</th>\n",
              "      <td>69</td>\n",
              "      <td>12859</td>\n",
              "      <td>2022-06-30 14:52:43</td>\n",
              "    </tr>\n",
              "  </tbody>\n",
              "</table>\n",
              "</div>\n",
              "      <button class=\"colab-df-convert\" onclick=\"convertToInteractive('df-d775c3ef-5ed1-421f-8891-5431b985d56b')\"\n",
              "              title=\"Convert this dataframe to an interactive table.\"\n",
              "              style=\"display:none;\">\n",
              "        \n",
              "  <svg xmlns=\"http://www.w3.org/2000/svg\" height=\"24px\"viewBox=\"0 0 24 24\"\n",
              "       width=\"24px\">\n",
              "    <path d=\"M0 0h24v24H0V0z\" fill=\"none\"/>\n",
              "    <path d=\"M18.56 5.44l.94 2.06.94-2.06 2.06-.94-2.06-.94-.94-2.06-.94 2.06-2.06.94zm-11 1L8.5 8.5l.94-2.06 2.06-.94-2.06-.94L8.5 2.5l-.94 2.06-2.06.94zm10 10l.94 2.06.94-2.06 2.06-.94-2.06-.94-.94-2.06-.94 2.06-2.06.94z\"/><path d=\"M17.41 7.96l-1.37-1.37c-.4-.4-.92-.59-1.43-.59-.52 0-1.04.2-1.43.59L10.3 9.45l-7.72 7.72c-.78.78-.78 2.05 0 2.83L4 21.41c.39.39.9.59 1.41.59.51 0 1.02-.2 1.41-.59l7.78-7.78 2.81-2.81c.8-.78.8-2.07 0-2.86zM5.41 20L4 18.59l7.72-7.72 1.47 1.35L5.41 20z\"/>\n",
              "  </svg>\n",
              "      </button>\n",
              "      \n",
              "  <style>\n",
              "    .colab-df-container {\n",
              "      display:flex;\n",
              "      flex-wrap:wrap;\n",
              "      gap: 12px;\n",
              "    }\n",
              "\n",
              "    .colab-df-convert {\n",
              "      background-color: #E8F0FE;\n",
              "      border: none;\n",
              "      border-radius: 50%;\n",
              "      cursor: pointer;\n",
              "      display: none;\n",
              "      fill: #1967D2;\n",
              "      height: 32px;\n",
              "      padding: 0 0 0 0;\n",
              "      width: 32px;\n",
              "    }\n",
              "\n",
              "    .colab-df-convert:hover {\n",
              "      background-color: #E2EBFA;\n",
              "      box-shadow: 0px 1px 2px rgba(60, 64, 67, 0.3), 0px 1px 3px 1px rgba(60, 64, 67, 0.15);\n",
              "      fill: #174EA6;\n",
              "    }\n",
              "\n",
              "    [theme=dark] .colab-df-convert {\n",
              "      background-color: #3B4455;\n",
              "      fill: #D2E3FC;\n",
              "    }\n",
              "\n",
              "    [theme=dark] .colab-df-convert:hover {\n",
              "      background-color: #434B5C;\n",
              "      box-shadow: 0px 1px 3px 1px rgba(0, 0, 0, 0.15);\n",
              "      filter: drop-shadow(0px 1px 2px rgba(0, 0, 0, 0.3));\n",
              "      fill: #FFFFFF;\n",
              "    }\n",
              "  </style>\n",
              "\n",
              "      <script>\n",
              "        const buttonEl =\n",
              "          document.querySelector('#df-d775c3ef-5ed1-421f-8891-5431b985d56b button.colab-df-convert');\n",
              "        buttonEl.style.display =\n",
              "          google.colab.kernel.accessAllowed ? 'block' : 'none';\n",
              "\n",
              "        async function convertToInteractive(key) {\n",
              "          const element = document.querySelector('#df-d775c3ef-5ed1-421f-8891-5431b985d56b');\n",
              "          const dataTable =\n",
              "            await google.colab.kernel.invokeFunction('convertToInteractive',\n",
              "                                                     [key], {});\n",
              "          if (!dataTable) return;\n",
              "\n",
              "          const docLinkHtml = 'Like what you see? Visit the ' +\n",
              "            '<a target=\"_blank\" href=https://colab.research.google.com/notebooks/data_table.ipynb>data table notebook</a>'\n",
              "            + ' to learn more about interactive tables.';\n",
              "          element.innerHTML = '';\n",
              "          dataTable['output_type'] = 'display_data';\n",
              "          await google.colab.output.renderOutput(dataTable, element);\n",
              "          const docLink = document.createElement('div');\n",
              "          docLink.innerHTML = docLinkHtml;\n",
              "          element.appendChild(docLink);\n",
              "        }\n",
              "      </script>\n",
              "    </div>\n",
              "  </div>\n",
              "  "
            ]
          },
          "metadata": {}
        }
      ],
      "source": [
        "data_train['uid_enc'] = data_train['uid_enc'].astype(int)\n",
        "data_train['offer_id_enc'] = data_train['offer_id_enc'].astype(int)\n",
        "\n",
        "data_test['uid_enc'] = data_test['uid_enc'].astype(int)\n",
        "data_test['offer_id_enc'] = data_test['offer_id_enc'].astype(int)\n",
        "\n",
        "print(data_train.shape, data_test.shape)\n",
        "data_train.dropna(inplace=True)\n",
        "data_test.dropna(inplace=True)\n",
        "print(data_train.shape, data_test.shape)\n",
        "\n",
        "display(data_train.head())\n",
        "display(data_test.head())"
      ]
    },
    {
      "cell_type": "code",
      "source": [
        "# create action columns for making csr matrix\n",
        "data_train['action'] = 1\n",
        "data_test['action'] = 1"
      ],
      "metadata": {
        "id": "NcoV9xU7sk8e"
      },
      "execution_count": 13,
      "outputs": []
    },
    {
      "cell_type": "code",
      "execution_count": 14,
      "metadata": {
        "id": "ywvZXaNP0lqX",
        "colab": {
          "base_uri": "https://localhost:8080/"
        },
        "outputId": "8c55b36f-da4d-49ed-eb00-53d57742d712"
      },
      "outputs": [
        {
          "output_type": "execute_result",
          "data": {
            "text/plain": [
              "array([[1, 0, 0, 0, 0, 0, 0, 0, 0, 0],\n",
              "       [1, 0, 0, 0, 0, 0, 0, 0, 0, 0],\n",
              "       [0, 0, 0, 0, 0, 0, 0, 0, 0, 0],\n",
              "       [0, 0, 0, 0, 0, 0, 0, 0, 0, 0],\n",
              "       [1, 0, 0, 0, 0, 0, 0, 0, 0, 0],\n",
              "       [1, 0, 0, 0, 0, 0, 0, 0, 0, 0],\n",
              "       [1, 0, 0, 0, 0, 0, 0, 0, 0, 0],\n",
              "       [1, 0, 0, 0, 0, 0, 0, 0, 0, 0],\n",
              "       [1, 0, 0, 0, 0, 0, 0, 0, 0, 0],\n",
              "       [1, 0, 0, 0, 0, 0, 0, 0, 0, 0]])"
            ]
          },
          "metadata": {},
          "execution_count": 14
        }
      ],
      "source": [
        "# create sparse matrices\n",
        "csr_user_item_train = csr_matrix((data_train['action'], (data_train['uid_enc'], data_train['offer_id_enc'])))\n",
        "csr_user_item_train[:10, :10].toarray()"
      ]
    },
    {
      "cell_type": "code",
      "source": [
        "csr_user_item_train.shape"
      ],
      "metadata": {
        "colab": {
          "base_uri": "https://localhost:8080/"
        },
        "id": "fLkMZrODbsCe",
        "outputId": "bb23e2c8-552c-4697-854a-a101b80f8fd3"
      },
      "execution_count": 15,
      "outputs": [
        {
          "output_type": "execute_result",
          "data": {
            "text/plain": [
              "(20434, 20577)"
            ]
          },
          "metadata": {},
          "execution_count": 15
        }
      ]
    },
    {
      "cell_type": "code",
      "execution_count": 16,
      "metadata": {
        "colab": {
          "base_uri": "https://localhost:8080/"
        },
        "id": "rGZci4R80lsm",
        "outputId": "06e818c1-90f1-421d-dcd5-61d7ecd0df4f"
      },
      "outputs": [
        {
          "output_type": "stream",
          "name": "stdout",
          "text": [
            "20434\n",
            "20577\n"
          ]
        }
      ],
      "source": [
        "# make test and train datasets\n",
        "train_users = set(data_train['uid_enc'].values)\n",
        "train_items = set(data_train['offer_id_enc'].values)\n",
        "#print(train_users)\n",
        "print(len(train_users))\n",
        "print(len(train_items))\n",
        "\n",
        "data_test = data_test[(data_test['uid_enc'].isin(train_users)) & \n",
        "                      (data_test['offer_id_enc'].isin(train_items))]\n",
        "\n",
        "# make test dict\n",
        "test_dict = {}\n",
        "for user_id in data_test['uid_enc'].drop_duplicates().values:\n",
        "    test_dict[user_id] = list(data_test[data_test['uid_enc'] == user_id]['offer_id_enc'])"
      ]
    },
    {
      "cell_type": "code",
      "execution_count": 17,
      "metadata": {
        "colab": {
          "base_uri": "https://localhost:8080/"
        },
        "id": "sHNUy_eN0lu7",
        "outputId": "19b2e3d2-97c3-4ed8-acad-0e888d0b9ad0"
      },
      "outputs": [
        {
          "output_type": "stream",
          "name": "stderr",
          "text": [
            "Epoch: 100%|██████████| 195/195 [09:49<00:00,  3.02s/it]\n"
          ]
        },
        {
          "output_type": "execute_result",
          "data": {
            "text/plain": [
              "<lightfm.lightfm.LightFM at 0x7fe324349790>"
            ]
          },
          "metadata": {},
          "execution_count": 17
        }
      ],
      "source": [
        "# instantiate and train the model\n",
        "model = LightFM(loss='warp', \n",
        "                max_sampled=19, \n",
        "                no_components=150, \n",
        "                user_alpha=0.000012403932688782397,\n",
        "                item_alpha=0.00007600815597574313, \n",
        "                learning_rate=0.03702643399600358)\n",
        "model.fit(csr_user_item_train, \n",
        "          epochs=195, \n",
        "          num_threads=31, \n",
        "          verbose=True) # параметр, показывающий прогресс обучения"
      ]
    },
    {
      "cell_type": "code",
      "execution_count": 18,
      "metadata": {
        "id": "6pQl0j4y37eP"
      },
      "outputs": [],
      "source": [
        "train_items = set(data_train['offer_id_enc'].values)\n",
        "all_items = list(train_items)\n",
        "\n",
        "def get_predictions(user_id, topk=100):\n",
        "    preds = model.predict(user_id, all_items)\n",
        "    inds = np.argsort(preds)[::-1]\n",
        "    return inds[:topk]\n",
        "\n",
        "preds = {}\n",
        "\n",
        "for user_id in data_test['uid_enc'].drop_duplicates().values:\n",
        "    pred_user = get_predictions(int(user_id), topk=10)\n",
        "    preds[user_id] = pred_user.tolist()"
      ]
    },
    {
      "cell_type": "markdown",
      "metadata": {
        "id": "-Qlx7Wr23_Kc"
      },
      "source": [
        "### Evaluate LightFM"
      ]
    },
    {
      "cell_type": "code",
      "execution_count": 19,
      "metadata": {
        "id": "p4ePwgJGp-p6"
      },
      "outputs": [],
      "source": [
        "def calculate_hit(y_true, y_score):\n",
        "    \"\"\"\n",
        "        INPUT:\n",
        "        y_true - list of true test values for one user\n",
        "        y_score - list of predictions values foro one user\n",
        "        OUTPUT:\n",
        "        ans - hit :)\n",
        "    \"\"\"\n",
        "    #print(int(y_true[0]), y_score)\n",
        "    if int(y_true[0]) in y_score:\n",
        "        return 1\n",
        "    else:\n",
        "        return 0"
      ]
    },
    {
      "cell_type": "code",
      "execution_count": 20,
      "metadata": {
        "id": "erCPHWOKp-sP"
      },
      "outputs": [],
      "source": [
        "hit_fin = 0\n",
        "for ind, val in test_dict.items():\n",
        "    #print(val, preds[ind])\n",
        "    hit_fin += calculate_hit(val, preds[ind])\n",
        "    \n",
        "hit_fin /= len(test_dict)"
      ]
    },
    {
      "cell_type": "code",
      "source": [
        "print(\"ОТВЕТ LightFM:\", hit_fin)"
      ],
      "metadata": {
        "colab": {
          "base_uri": "https://localhost:8080/"
        },
        "id": "yC-orebP4g-8",
        "outputId": "8667d3e8-b92f-4e9b-cb59-c22a5d1632aa"
      },
      "execution_count": 21,
      "outputs": [
        {
          "output_type": "stream",
          "name": "stdout",
          "text": [
            "ОТВЕТ LightFM: 0.04698052265831457\n"
          ]
        }
      ]
    },
    {
      "cell_type": "code",
      "execution_count": null,
      "metadata": {
        "id": "8tpMo-Na37gT"
      },
      "outputs": [],
      "source": [
        "\"\"\"from sklearn.utils import column_or_1d\n",
        "from sklearn.utils.multiclass import type_of_target\n",
        "\n",
        "def precision_at_k(y_true, y_score, k):\n",
        "    \"\"\"\n",
        "        #INPUT:\n",
        "        #y_true - list of true test values for one user\n",
        "        #y_score - list of predictions values foro one user\n",
        "        #k - level of precision\n",
        "        #OUTPUT:\n",
        "        #ans - precision at k :)\n",
        "    \"\"\"\n",
        "    ans = 0\n",
        "    counter = 0\n",
        "    for row in y_true:\n",
        "        counter += 1\n",
        "        if counter > k:\n",
        "            return ans\n",
        "        if row in y_score:\n",
        "            ans += 1 / k\n",
        "    return ans\n",
        "\n",
        "prec_fin = 0\n",
        "for ind, val in test_dict.items():\n",
        "    #print(val,  preds[ind])\n",
        "    prec_fin += precision_at_k(val, preds[ind], 5)\n",
        "    \n",
        "prec_fin /= len(test_dict)\"\"\""
      ]
    },
    {
      "cell_type": "code",
      "execution_count": null,
      "metadata": {
        "id": "w-69fu3E37jA"
      },
      "outputs": [],
      "source": [
        "###prec_fin"
      ]
    },
    {
      "cell_type": "markdown",
      "metadata": {
        "id": "-7R0ekHY4Lrh"
      },
      "source": [
        "# SASRec"
      ]
    },
    {
      "cell_type": "code",
      "source": [
        "# с этого момента можно запускать заново, здесь вся необходимая прелобработка\n",
        "\n",
        "# read file and drop duplictates\n",
        "data = pd.read_csv('./drive/MyDrive/ML/clicks_cleared.csv')\n",
        "data.drop_duplicates(subset=['uid', 'offer_id'], inplace=True)\n",
        "\n",
        "# take users that have >5 clicks\n",
        "while not (data['offer_id'].value_counts()[data['offer_id'].value_counts() <= 5].empty) or \\\n",
        "      not (data['uid'].value_counts()[data['uid'].value_counts() <= 5].empty):\n",
        "    offer_ids = data['offer_id'].value_counts()[data['offer_id'].value_counts() > 5].index\n",
        "    data = data[data['offer_id'].isin(offer_ids)]\n",
        "    uids = data['uid'].value_counts()[data['uid'].value_counts() > 5].index\n",
        "    data = data[data['uid'].isin(uids)]\n",
        "\n",
        "# encode, start with 1 - условие SASRec\n",
        "offer_encoder = {off: ind for ind, off in enumerate(data['offer_id'].unique())}\n",
        "data['offer_id_enc'] = data['offer_id'].map(offer_encoder) + 1\n",
        "uid_encoder = {uid: ind for ind, uid in enumerate(data['uid'].unique())}\n",
        "data['uid_enc'] = data['uid'].map(uid_encoder) + 1\n",
        "\n",
        "# sort by time and user id\n",
        "data['timestamp'] = pd.to_datetime(data['timestamp'])\n",
        "data.sort_values(by=['uid_enc', 'timestamp'], inplace=True)\n",
        "print(data.shape)\n",
        "data.head(5)"
      ],
      "metadata": {
        "id": "yEcxl2STCsTz",
        "colab": {
          "base_uri": "https://localhost:8080/",
          "height": 224
        },
        "outputId": "955dd004-3bce-4277-8227-aa2b964666c6"
      },
      "execution_count": 5,
      "outputs": [
        {
          "output_type": "stream",
          "name": "stdout",
          "text": [
            "(309037, 13)\n"
          ]
        },
        {
          "output_type": "execute_result",
          "data": {
            "text/plain": [
              "         Unnamed: 0           timestamp            hit_id       uid platform  \\\n",
              "338037       338037 2022-06-28 01:27:16  5185a915b14e4289  87603527  android   \n",
              "732232       732232 2022-06-28 01:28:20  d2f3b48c57f64bd8  87603527  android   \n",
              "732255       732255 2022-06-28 01:29:39  7d7703e8be18432b  87603527  android   \n",
              "1431702     1431702 2022-06-28 01:30:35  fcfe4f790c43403a  87603527  android   \n",
              "1491726     1491726 2022-06-28 06:57:47  b65c2f26c086419d  87603527  android   \n",
              "\n",
              "              event_name     screen   offer_id    ptn_dadd         id  geo  \\\n",
              "338037   OpenOfferScreen  MapScreen  275141155  2022-06-28  275141155    2   \n",
              "732232   OpenOfferScreen  MapScreen  271507998  2022-06-28  271507998    2   \n",
              "732255   OpenOfferScreen  MapScreen  274244215  2022-06-28  274244215    2   \n",
              "1431702  OpenOfferScreen  MapScreen  275218539  2022-06-28  275218539    2   \n",
              "1491726  OpenOfferScreen  Undefined  274236033  2022-06-28  274236033    2   \n",
              "\n",
              "         offer_id_enc  uid_enc  \n",
              "338037           2415        1  \n",
              "732232           5843        1  \n",
              "732255           5844        1  \n",
              "1431702         13801        1  \n",
              "1491726         14576        1  "
            ],
            "text/html": [
              "\n",
              "  <div id=\"df-aa262577-4ea6-4943-8edc-7755dd5b9114\">\n",
              "    <div class=\"colab-df-container\">\n",
              "      <div>\n",
              "<style scoped>\n",
              "    .dataframe tbody tr th:only-of-type {\n",
              "        vertical-align: middle;\n",
              "    }\n",
              "\n",
              "    .dataframe tbody tr th {\n",
              "        vertical-align: top;\n",
              "    }\n",
              "\n",
              "    .dataframe thead th {\n",
              "        text-align: right;\n",
              "    }\n",
              "</style>\n",
              "<table border=\"1\" class=\"dataframe\">\n",
              "  <thead>\n",
              "    <tr style=\"text-align: right;\">\n",
              "      <th></th>\n",
              "      <th>Unnamed: 0</th>\n",
              "      <th>timestamp</th>\n",
              "      <th>hit_id</th>\n",
              "      <th>uid</th>\n",
              "      <th>platform</th>\n",
              "      <th>event_name</th>\n",
              "      <th>screen</th>\n",
              "      <th>offer_id</th>\n",
              "      <th>ptn_dadd</th>\n",
              "      <th>id</th>\n",
              "      <th>geo</th>\n",
              "      <th>offer_id_enc</th>\n",
              "      <th>uid_enc</th>\n",
              "    </tr>\n",
              "  </thead>\n",
              "  <tbody>\n",
              "    <tr>\n",
              "      <th>338037</th>\n",
              "      <td>338037</td>\n",
              "      <td>2022-06-28 01:27:16</td>\n",
              "      <td>5185a915b14e4289</td>\n",
              "      <td>87603527</td>\n",
              "      <td>android</td>\n",
              "      <td>OpenOfferScreen</td>\n",
              "      <td>MapScreen</td>\n",
              "      <td>275141155</td>\n",
              "      <td>2022-06-28</td>\n",
              "      <td>275141155</td>\n",
              "      <td>2</td>\n",
              "      <td>2415</td>\n",
              "      <td>1</td>\n",
              "    </tr>\n",
              "    <tr>\n",
              "      <th>732232</th>\n",
              "      <td>732232</td>\n",
              "      <td>2022-06-28 01:28:20</td>\n",
              "      <td>d2f3b48c57f64bd8</td>\n",
              "      <td>87603527</td>\n",
              "      <td>android</td>\n",
              "      <td>OpenOfferScreen</td>\n",
              "      <td>MapScreen</td>\n",
              "      <td>271507998</td>\n",
              "      <td>2022-06-28</td>\n",
              "      <td>271507998</td>\n",
              "      <td>2</td>\n",
              "      <td>5843</td>\n",
              "      <td>1</td>\n",
              "    </tr>\n",
              "    <tr>\n",
              "      <th>732255</th>\n",
              "      <td>732255</td>\n",
              "      <td>2022-06-28 01:29:39</td>\n",
              "      <td>7d7703e8be18432b</td>\n",
              "      <td>87603527</td>\n",
              "      <td>android</td>\n",
              "      <td>OpenOfferScreen</td>\n",
              "      <td>MapScreen</td>\n",
              "      <td>274244215</td>\n",
              "      <td>2022-06-28</td>\n",
              "      <td>274244215</td>\n",
              "      <td>2</td>\n",
              "      <td>5844</td>\n",
              "      <td>1</td>\n",
              "    </tr>\n",
              "    <tr>\n",
              "      <th>1431702</th>\n",
              "      <td>1431702</td>\n",
              "      <td>2022-06-28 01:30:35</td>\n",
              "      <td>fcfe4f790c43403a</td>\n",
              "      <td>87603527</td>\n",
              "      <td>android</td>\n",
              "      <td>OpenOfferScreen</td>\n",
              "      <td>MapScreen</td>\n",
              "      <td>275218539</td>\n",
              "      <td>2022-06-28</td>\n",
              "      <td>275218539</td>\n",
              "      <td>2</td>\n",
              "      <td>13801</td>\n",
              "      <td>1</td>\n",
              "    </tr>\n",
              "    <tr>\n",
              "      <th>1491726</th>\n",
              "      <td>1491726</td>\n",
              "      <td>2022-06-28 06:57:47</td>\n",
              "      <td>b65c2f26c086419d</td>\n",
              "      <td>87603527</td>\n",
              "      <td>android</td>\n",
              "      <td>OpenOfferScreen</td>\n",
              "      <td>Undefined</td>\n",
              "      <td>274236033</td>\n",
              "      <td>2022-06-28</td>\n",
              "      <td>274236033</td>\n",
              "      <td>2</td>\n",
              "      <td>14576</td>\n",
              "      <td>1</td>\n",
              "    </tr>\n",
              "  </tbody>\n",
              "</table>\n",
              "</div>\n",
              "      <button class=\"colab-df-convert\" onclick=\"convertToInteractive('df-aa262577-4ea6-4943-8edc-7755dd5b9114')\"\n",
              "              title=\"Convert this dataframe to an interactive table.\"\n",
              "              style=\"display:none;\">\n",
              "        \n",
              "  <svg xmlns=\"http://www.w3.org/2000/svg\" height=\"24px\"viewBox=\"0 0 24 24\"\n",
              "       width=\"24px\">\n",
              "    <path d=\"M0 0h24v24H0V0z\" fill=\"none\"/>\n",
              "    <path d=\"M18.56 5.44l.94 2.06.94-2.06 2.06-.94-2.06-.94-.94-2.06-.94 2.06-2.06.94zm-11 1L8.5 8.5l.94-2.06 2.06-.94-2.06-.94L8.5 2.5l-.94 2.06-2.06.94zm10 10l.94 2.06.94-2.06 2.06-.94-2.06-.94-.94-2.06-.94 2.06-2.06.94z\"/><path d=\"M17.41 7.96l-1.37-1.37c-.4-.4-.92-.59-1.43-.59-.52 0-1.04.2-1.43.59L10.3 9.45l-7.72 7.72c-.78.78-.78 2.05 0 2.83L4 21.41c.39.39.9.59 1.41.59.51 0 1.02-.2 1.41-.59l7.78-7.78 2.81-2.81c.8-.78.8-2.07 0-2.86zM5.41 20L4 18.59l7.72-7.72 1.47 1.35L5.41 20z\"/>\n",
              "  </svg>\n",
              "      </button>\n",
              "      \n",
              "  <style>\n",
              "    .colab-df-container {\n",
              "      display:flex;\n",
              "      flex-wrap:wrap;\n",
              "      gap: 12px;\n",
              "    }\n",
              "\n",
              "    .colab-df-convert {\n",
              "      background-color: #E8F0FE;\n",
              "      border: none;\n",
              "      border-radius: 50%;\n",
              "      cursor: pointer;\n",
              "      display: none;\n",
              "      fill: #1967D2;\n",
              "      height: 32px;\n",
              "      padding: 0 0 0 0;\n",
              "      width: 32px;\n",
              "    }\n",
              "\n",
              "    .colab-df-convert:hover {\n",
              "      background-color: #E2EBFA;\n",
              "      box-shadow: 0px 1px 2px rgba(60, 64, 67, 0.3), 0px 1px 3px 1px rgba(60, 64, 67, 0.15);\n",
              "      fill: #174EA6;\n",
              "    }\n",
              "\n",
              "    [theme=dark] .colab-df-convert {\n",
              "      background-color: #3B4455;\n",
              "      fill: #D2E3FC;\n",
              "    }\n",
              "\n",
              "    [theme=dark] .colab-df-convert:hover {\n",
              "      background-color: #434B5C;\n",
              "      box-shadow: 0px 1px 3px 1px rgba(0, 0, 0, 0.15);\n",
              "      filter: drop-shadow(0px 1px 2px rgba(0, 0, 0, 0.3));\n",
              "      fill: #FFFFFF;\n",
              "    }\n",
              "  </style>\n",
              "\n",
              "      <script>\n",
              "        const buttonEl =\n",
              "          document.querySelector('#df-aa262577-4ea6-4943-8edc-7755dd5b9114 button.colab-df-convert');\n",
              "        buttonEl.style.display =\n",
              "          google.colab.kernel.accessAllowed ? 'block' : 'none';\n",
              "\n",
              "        async function convertToInteractive(key) {\n",
              "          const element = document.querySelector('#df-aa262577-4ea6-4943-8edc-7755dd5b9114');\n",
              "          const dataTable =\n",
              "            await google.colab.kernel.invokeFunction('convertToInteractive',\n",
              "                                                     [key], {});\n",
              "          if (!dataTable) return;\n",
              "\n",
              "          const docLinkHtml = 'Like what you see? Visit the ' +\n",
              "            '<a target=\"_blank\" href=https://colab.research.google.com/notebooks/data_table.ipynb>data table notebook</a>'\n",
              "            + ' to learn more about interactive tables.';\n",
              "          element.innerHTML = '';\n",
              "          dataTable['output_type'] = 'display_data';\n",
              "          await google.colab.output.renderOutput(dataTable, element);\n",
              "          const docLink = document.createElement('div');\n",
              "          docLink.innerHTML = docLinkHtml;\n",
              "          element.appendChild(docLink);\n",
              "        }\n",
              "      </script>\n",
              "    </div>\n",
              "  </div>\n",
              "  "
            ]
          },
          "metadata": {},
          "execution_count": 5
        }
      ]
    },
    {
      "cell_type": "code",
      "execution_count": 6,
      "metadata": {
        "id": "gkEtJ_SE37mF"
      },
      "outputs": [],
      "source": [
        "# create .txt file for input to model\n",
        "data[['offer_id_enc',\t'uid_enc']].to_csv('out.txt', sep=\"\\t\", header=False, index=False)"
      ]
    },
    {
      "cell_type": "code",
      "execution_count": 7,
      "metadata": {
        "id": "x2rsJy_F8CAO"
      },
      "outputs": [],
      "source": [
        "# create special data format for SAS\n",
        "dataS = SASRecDataSet(filename='out.txt', col_sep='\\t')\n",
        "# split into train, test and validation\n",
        "dataS.split()"
      ]
    },
    {
      "cell_type": "code",
      "execution_count": 10,
      "metadata": {
        "id": "nX3Rq4Qs8CEa"
      },
      "outputs": [],
      "source": [
        "# model variables\n",
        "num_epochs = 50\n",
        "batch_size = 200\n",
        "RANDOM_SEED = 100  # Set None for non-deterministic result\n",
        "\n",
        "lr = 0.001             # learning rate\n",
        "maxlen = 50            # maximum sequence length for each user\n",
        "num_blocks = 2         # number of transformer blocks\n",
        "hidden_units = 100     # number of units in the attention calculation\n",
        "num_heads = 1          # number of attention heads\n",
        "dropout_rate = 0.1     # dropout rate\n",
        "l2_emb = 0.0           # L2 regularization coefficient\n",
        "num_neg_test = 20577     # number of negative examples per positive example\n"
      ]
    },
    {
      "cell_type": "code",
      "execution_count": 11,
      "metadata": {
        "id": "SGtPqTRP8CG_"
      },
      "outputs": [],
      "source": [
        "# sample negative examples\n",
        "sampler = WarpSampler(dataS.user_train, dataS.usernum, dataS.itemnum, batch_size=batch_size, maxlen=maxlen, n_workers=3)"
      ]
    },
    {
      "cell_type": "code",
      "execution_count": 12,
      "metadata": {
        "id": "qvJUdPEaNyMX"
      },
      "outputs": [],
      "source": [
        "model = SASREC(item_num=dataS.itemnum,\n",
        "               seq_max_len=maxlen,\n",
        "               num_blocks=num_blocks,\n",
        "               embedding_dim=hidden_units,\n",
        "               attention_dim=hidden_units,\n",
        "               attention_num_heads=num_heads,\n",
        "               dropout_rate=dropout_rate,\n",
        "               conv_dims = [100, 100],\n",
        "               l2_reg=l2_emb,\n",
        "               num_neg_test=num_neg_test)"
      ]
    },
    {
      "cell_type": "code",
      "execution_count": 13,
      "metadata": {
        "colab": {
          "base_uri": "https://localhost:8080/"
        },
        "id": "rYaJYll1N0Lv",
        "outputId": "13007e1c-d371-4b3c-d4a3-35ec43c73cc7"
      },
      "outputs": [
        {
          "output_type": "stream",
          "name": "stderr",
          "text": [
            ""
          ]
        },
        {
          "output_type": "stream",
          "name": "stdout",
          "text": [
            "Evaluating...\n"
          ]
        },
        {
          "output_type": "stream",
          "name": "stderr",
          "text": [
            ""
          ]
        },
        {
          "output_type": "stream",
          "name": "stdout",
          "text": [
            "\n",
            "epoch: 5, time: 19.303152780000346, valid (NDCG@10: 0.01803966949073337, HR@10: 0.0318)\n",
            "epoch: 5, time: 19.303152780000346,  test (NDCG@10: 0.006983828596699759, HR@10: 0.0138)\n"
          ]
        },
        {
          "output_type": "stream",
          "name": "stderr",
          "text": [
            ""
          ]
        },
        {
          "output_type": "stream",
          "name": "stdout",
          "text": [
            "Evaluating...\n"
          ]
        },
        {
          "output_type": "stream",
          "name": "stderr",
          "text": [
            ""
          ]
        },
        {
          "output_type": "stream",
          "name": "stdout",
          "text": [
            "\n",
            "epoch: 10, time: 31.77181639599985, valid (NDCG@10: 0.04915277145044888, HR@10: 0.0844)\n",
            "epoch: 10, time: 31.77181639599985,  test (NDCG@10: 0.01879868347887841, HR@10: 0.0376)\n"
          ]
        },
        {
          "output_type": "stream",
          "name": "stderr",
          "text": [
            ""
          ]
        },
        {
          "output_type": "stream",
          "name": "stdout",
          "text": [
            "Evaluating...\n"
          ]
        },
        {
          "output_type": "stream",
          "name": "stderr",
          "text": [
            ""
          ]
        },
        {
          "output_type": "stream",
          "name": "stdout",
          "text": [
            "\n",
            "epoch: 15, time: 43.828136606000044, valid (NDCG@10: 0.06356083017001501, HR@10: 0.11)\n",
            "epoch: 15, time: 43.828136606000044,  test (NDCG@10: 0.02523866770634126, HR@10: 0.0522)\n"
          ]
        },
        {
          "output_type": "stream",
          "name": "stderr",
          "text": [
            ""
          ]
        },
        {
          "output_type": "stream",
          "name": "stdout",
          "text": [
            "Evaluating...\n"
          ]
        },
        {
          "output_type": "stream",
          "name": "stderr",
          "text": [
            ""
          ]
        },
        {
          "output_type": "stream",
          "name": "stdout",
          "text": [
            "\n",
            "epoch: 20, time: 55.794421209000575, valid (NDCG@10: 0.07296057752645428, HR@10: 0.127)\n",
            "epoch: 20, time: 55.794421209000575,  test (NDCG@10: 0.03273195786233386, HR@10: 0.0662)\n"
          ]
        },
        {
          "output_type": "stream",
          "name": "stderr",
          "text": [
            ""
          ]
        },
        {
          "output_type": "stream",
          "name": "stdout",
          "text": [
            "Evaluating...\n"
          ]
        },
        {
          "output_type": "stream",
          "name": "stderr",
          "text": [
            ""
          ]
        },
        {
          "output_type": "stream",
          "name": "stdout",
          "text": [
            "\n",
            "epoch: 25, time: 67.81704508599978, valid (NDCG@10: 0.08238309520649356, HR@10: 0.1426)\n",
            "epoch: 25, time: 67.81704508599978,  test (NDCG@10: 0.03578610090466861, HR@10: 0.0738)\n"
          ]
        },
        {
          "output_type": "stream",
          "name": "stderr",
          "text": [
            ""
          ]
        },
        {
          "output_type": "stream",
          "name": "stdout",
          "text": [
            "Evaluating...\n"
          ]
        },
        {
          "output_type": "stream",
          "name": "stderr",
          "text": [
            ""
          ]
        },
        {
          "output_type": "stream",
          "name": "stdout",
          "text": [
            "\n",
            "epoch: 30, time: 79.85476840000047, valid (NDCG@10: 0.08730645118453566, HR@10: 0.1492)\n",
            "epoch: 30, time: 79.85476840000047,  test (NDCG@10: 0.035880535160624144, HR@10: 0.0746)\n"
          ]
        },
        {
          "output_type": "stream",
          "name": "stderr",
          "text": [
            ""
          ]
        },
        {
          "output_type": "stream",
          "name": "stdout",
          "text": [
            "Evaluating...\n"
          ]
        },
        {
          "output_type": "stream",
          "name": "stderr",
          "text": [
            ""
          ]
        },
        {
          "output_type": "stream",
          "name": "stdout",
          "text": [
            "\n",
            "epoch: 35, time: 91.62670150000122, valid (NDCG@10: 0.09384607587245561, HR@10: 0.1642)\n",
            "epoch: 35, time: 91.62670150000122,  test (NDCG@10: 0.041478864093442265, HR@10: 0.0854)\n"
          ]
        },
        {
          "output_type": "stream",
          "name": "stderr",
          "text": [
            ""
          ]
        },
        {
          "output_type": "stream",
          "name": "stdout",
          "text": [
            "Evaluating...\n"
          ]
        },
        {
          "output_type": "stream",
          "name": "stderr",
          "text": [
            ""
          ]
        },
        {
          "output_type": "stream",
          "name": "stdout",
          "text": [
            "\n",
            "epoch: 40, time: 103.63966930500101, valid (NDCG@10: 0.09290833724419234, HR@10: 0.1582)\n",
            "epoch: 40, time: 103.63966930500101,  test (NDCG@10: 0.04299455066067434, HR@10: 0.0872)\n"
          ]
        },
        {
          "output_type": "stream",
          "name": "stderr",
          "text": [
            ""
          ]
        },
        {
          "output_type": "stream",
          "name": "stdout",
          "text": [
            "Evaluating...\n"
          ]
        },
        {
          "output_type": "stream",
          "name": "stderr",
          "text": [
            ""
          ]
        },
        {
          "output_type": "stream",
          "name": "stdout",
          "text": [
            "\n",
            "epoch: 45, time: 115.39536363200205, valid (NDCG@10: 0.09782726465707198, HR@10: 0.1688)\n",
            "epoch: 45, time: 115.39536363200205,  test (NDCG@10: 0.043744744276329926, HR@10: 0.0874)\n"
          ]
        },
        {
          "output_type": "stream",
          "name": "stderr",
          "text": [
            ""
          ]
        },
        {
          "output_type": "stream",
          "name": "stdout",
          "text": [
            "Evaluating...\n"
          ]
        },
        {
          "output_type": "stream",
          "name": "stderr",
          "text": [
            ""
          ]
        },
        {
          "output_type": "stream",
          "name": "stdout",
          "text": [
            "\n",
            "epoch: 50, time: 129.21047015500153, valid (NDCG@10: 0.09804967201692032, HR@10: 0.1698)\n",
            "epoch: 50, time: 129.21047015500153,  test (NDCG@10: 0.04651057611648179, HR@10: 0.0948)\n"
          ]
        },
        {
          "output_type": "stream",
          "name": "stderr",
          "text": [
            ""
          ]
        },
        {
          "output_type": "stream",
          "name": "stdout",
          "text": [
            "\n",
            "epoch: 50, test (NDCG@10: 0.04548322452488012, HR@10: 0.0924)\n"
          ]
        }
      ],
      "source": [
        "# ЗДЕСЬ ОТВЕТ ДЛЯ num_neg_test=20577\n",
        "with Timer() as train_time:\n",
        "    t_test = model.train(dataS, sampler, num_epochs=num_epochs, batch_size=batch_size, lr=lr, val_epoch=5) #4"
      ]
    },
    {
      "cell_type": "code",
      "execution_count": null,
      "metadata": {
        "id": "XpurZw-bN3eX"
      },
      "outputs": [],
      "source": [
        "import random\n",
        "from tqdm import tqdm\n",
        "\n",
        "def get_predictions(data):\n",
        "    \"\"\"\n",
        "        Модифицированный метод evaluation класса SASREC,\n",
        "        главный результат - получаем предсказания для всех пользователей из датасета\n",
        "    \"\"\"\n",
        "    usernum = data.usernum # max № of user\n",
        "    itemnum = data.itemnum # max № of item\n",
        "    train = data.user_train\n",
        "    valid = data.user_valid\n",
        "    test = data.user_test\n",
        "\n",
        "    pred_dict = {}\n",
        "    all_inputs = {}\n",
        "    \n",
        "    # насэмплим рандомных 10000 пользователей (или меньше, если их разнообразие небольшое:))\n",
        "    if usernum > 10000:\n",
        "        users = random.sample(range(1, usernum + 1), 10000)\n",
        "    else:\n",
        "        users = range(1, usernum + 1)\n",
        "    \n",
        "    # для каждого пользователя делаем оценку\n",
        "    for u in tqdm(users, ncols=70, leave=False, unit=\"b\"):\n",
        "\n",
        "        if len(train[u]) < 1 or len(test[u]) < 1: # если для текущего пользователя нет ничего в train или test => continue\n",
        "            continue\n",
        "        # для input_seq\n",
        "        seq = np.zeros([model.seq_max_len], dtype=np.int32)\n",
        "        idx = model.seq_max_len - 1\n",
        "        seq[idx] = valid[u][0]\n",
        "        idx -= 1\n",
        "        for i in reversed(train[u]): \n",
        "            seq[idx] = i\n",
        "            idx -= 1\n",
        "            if idx == -1: # если нет в train и valid => break\n",
        "                break\n",
        "        # для candidate\n",
        "        rated = set(train[u]) # то, что оценил пользователь, из train'a\n",
        "        rated.add(0)\n",
        "        item_idx = [test[u][0]] # первым в последовательность помещаем тык из теста\n",
        "        for _ in range(model.num_neg_test): # размер последовательностей получается фиксированный, задаётся в параметрах модели при инициализации\n",
        "                                            # https://github.com/microsoft/recommenders/blob/main/examples/00_quick_start/sasrec_amazon.ipynb\n",
        "            t = np.random.randint(1, itemnum + 1)\n",
        "            while t in rated:\n",
        "                t = np.random.randint(1, itemnum + 1) # генерим рандомно (?)\n",
        "            item_idx.append(t)\n",
        "\n",
        "        inputs = {}\n",
        "        inputs[\"user\"] = np.expand_dims(np.array([u]), axis=-1) # просто номер пользователя\n",
        "        inputs[\"input_seq\"] = np.array([seq]) # входная последовательность что тыкнул пользователь - ИЗ TRAIN И VALID!\n",
        "        inputs[\"candidate\"] = np.array([item_idx]) # объявки, для которых будем вычислять логиты\n",
        "        all_inputs[inputs[\"user\"][0][0]] = inputs # словарик для всех inputs\n",
        "\n",
        "        # добавляем каждого пользователя в словарик предиктов\n",
        "        pred_dict[inputs[\"user\"][0][0]] = model.predict(inputs)\n",
        "\n",
        "    return pred_dict, all_inputs"
      ]
    },
    {
      "cell_type": "code",
      "execution_count": null,
      "metadata": {
        "colab": {
          "base_uri": "https://localhost:8080/"
        },
        "id": "uWLUkaPFN-ht",
        "outputId": "8edb89ba-f99e-437b-9d91-52be09a21e36"
      },
      "outputs": [
        {
          "name": "stderr",
          "output_type": "stream",
          "text": [
            ""
          ]
        }
      ],
      "source": [
        "#pred_dict, inputs = get_predictions(dataS)"
      ]
    },
    {
      "cell_type": "code",
      "execution_count": null,
      "metadata": {
        "colab": {
          "base_uri": "https://localhost:8080/"
        },
        "id": "mFeBZaNlOAhw",
        "outputId": "d032e50c-39f2-4348-9fad-0787f936f616"
      },
      "outputs": [
        {
          "name": "stdout",
          "output_type": "stream",
          "text": [
            "ОТВЕТ 0.19084692267230316\n"
          ]
        }
      ],
      "source": [
        "\"\"\"# нужно связать значения логитов и кандидатов, выбрать самые вероятные значения и проверить, были ли они в тесте\n",
        "# сразу расчёт precision@k\n",
        "k = 5\n",
        "fin_prec = 0\n",
        "for key in pred_dict.keys():\n",
        "  tmp = np.stack((pred_dict[key][0], inputs[key]['candidate'][0]), axis=-1)\n",
        "  tmp = tmp[tmp[:, 0].argsort()] # сортировка по вероятностям (логитам)\n",
        "  topk = tmp[-k:, 1].astype(int)\n",
        "  # проверим, есть ли этот топk в тесте\n",
        "  tmp_prec = 0\n",
        "  for val in topk:\n",
        "    if val in dataS.user_test[key]:\n",
        "      tmp_prec += 1/k\n",
        "  fin_prec += tmp_prec\n",
        "\n",
        "fin_prec /= len(pred_dict.keys())\n",
        "print(\"ОТВЕТ\", fin_prec)\"\"\""
      ]
    }
  ],
  "metadata": {
    "accelerator": "GPU",
    "colab": {
      "collapsed_sections": [],
      "name": "Compare LightFM and Microsoft.ipynb",
      "provenance": [],
      "include_colab_link": true
    },
    "gpuClass": "standard",
    "kernelspec": {
      "display_name": "Python 3",
      "name": "python3"
    },
    "language_info": {
      "name": "python"
    }
  },
  "nbformat": 4,
  "nbformat_minor": 0
}