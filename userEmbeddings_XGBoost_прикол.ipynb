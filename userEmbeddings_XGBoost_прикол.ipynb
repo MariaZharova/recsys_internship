{
 "cells": [
  {
   "cell_type": "code",
   "execution_count": 1,
   "id": "31bb41fc",
   "metadata": {},
   "outputs": [],
   "source": [
    "import pandas as pd\n",
    "import numpy as np\n",
    "import json\n",
    "from tqdm import tqdm\n",
    "tqdm.pandas()"
   ]
  },
  {
   "cell_type": "markdown",
   "id": "4efc574d",
   "metadata": {},
   "source": [
    "## Общая предобработка"
   ]
  },
  {
   "cell_type": "code",
   "execution_count": 2,
   "id": "bd785920",
   "metadata": {},
   "outputs": [
    {
     "name": "stdout",
     "output_type": "stream",
     "text": [
      "(30000000, 8) (30000000, 8) (22463346, 8)\n"
     ]
    }
   ],
   "source": [
    "data1 = pd.read_csv('internship_clickstream_data_1.gzip', compression='gzip')\n",
    "data2 = pd.read_csv('internship_clickstream_data_2.gzip', compression='gzip')\n",
    "data3 = pd.read_csv('internship_clickstream_data_3.gzip', compression='gzip')\n",
    "print(data1.shape, data2.shape, data3.shape)"
   ]
  },
  {
   "cell_type": "markdown",
   "id": "82443c89",
   "metadata": {},
   "source": [
    "Необходимо составить датасет, в котором фичи будут - эмбеддинги юзеров с первой недели, а таргеты - инфа об их склонностях к аренде/продаже со второй недели (исключаем data leak). Соответственно, с первой и второй недель нужно взять пересечение юзеров + важно, чтобы объявки с первой недели были также все те же, что и со второй."
   ]
  },
  {
   "cell_type": "code",
   "execution_count": 3,
   "id": "b41444bb",
   "metadata": {},
   "outputs": [
    {
     "name": "stdout",
     "output_type": "stream",
     "text": [
      "(22585345, 8) (22559623, 8) (17427910, 8)\n",
      "(4999240, 8) (5104941, 8) (4111483, 8)\n",
      "after concating: (7842763, 8)\n",
      "after drop duplicates: (6897045, 8)\n"
     ]
    }
   ],
   "source": [
    "# drop duplicates\n",
    "data1.drop_duplicates(subset=['uid', 'offer_id'], inplace=True)\n",
    "data2.drop_duplicates(subset=['uid', 'offer_id'], inplace=True)\n",
    "data3.drop_duplicates(subset=['uid', 'offer_id'], inplace=True)\n",
    "print(data1.shape, data2.shape, data3.shape)\n",
    "\n",
    "# work with date\n",
    "data1['timestamp'] = pd.to_datetime(data1['timestamp'])\n",
    "data2['timestamp'] = pd.to_datetime(data2['timestamp'])\n",
    "data3['timestamp'] = pd.to_datetime(data3['timestamp'])\n",
    "\n",
    "# save users from 1 week\n",
    "data1_s = data1[data1['timestamp'] < pd.to_datetime('2022-07-10 00:00:00.020000')]\n",
    "data2_s = data2[data2['timestamp'] < pd.to_datetime('2022-07-10 00:00:00.020000')]\n",
    "data3_s = data3[data3['timestamp'] < pd.to_datetime('2022-07-10 00:00:00.020000')]\n",
    "users_1_week = pd.concat([data1_s, data2_s, data3_s])['uid'].unique()\n",
    "offers_1_week = pd.concat([data1_s, data2_s, data3_s])['offer_id'].unique()\n",
    "\n",
    "# filter by date, second week\n",
    "data1 = data1[(data1['timestamp'] >= pd.to_datetime('2022-07-10 00:00:00.020000')) & \\\n",
    "              (data1['timestamp'] < pd.to_datetime('2022-07-17 00:00:00.020000'))]\n",
    "data2 = data2[(data2['timestamp'] >= pd.to_datetime('2022-07-10 00:00:00.020000')) & \\\n",
    "              (data2['timestamp'] < pd.to_datetime('2022-07-17 00:00:00.020000'))]\n",
    "data3 = data3[(data3['timestamp'] >= pd.to_datetime('2022-07-10 00:00:00.020000')) & \\\n",
    "              (data3['timestamp'] < pd.to_datetime('2022-07-17 00:00:00.020000'))]\n",
    "print(data1.shape, data2.shape, data3.shape)\n",
    "\n",
    "# take users and offers from 2 week who is in 1 week\n",
    "data1 = data1[(data1['uid'].isin(users_1_week)) & (data1['offer_id'].isin(offers_1_week))]\n",
    "data2 = data2[(data2['uid'].isin(users_1_week)) & (data2['offer_id'].isin(offers_1_week))]\n",
    "data3 = data3[(data3['uid'].isin(users_1_week)) & (data3['offer_id'].isin(offers_1_week))]\n",
    "\n",
    "data = pd.concat([data1, data2, data3])\n",
    "print('after concating:', data.shape)\n",
    "data.drop_duplicates(subset=['uid', 'offer_id'], inplace=True)\n",
    "print('after drop duplicates:', data.shape)"
   ]
  },
  {
   "cell_type": "code",
   "execution_count": 4,
   "id": "70e67f27",
   "metadata": {},
   "outputs": [
    {
     "name": "stdout",
     "output_type": "stream",
     "text": [
      "(4366021, 8)\n"
     ]
    }
   ],
   "source": [
    "# take users that have > 5 clicks\n",
    "while not (data['offer_id'].value_counts()[data['offer_id'].value_counts() <= 5].empty) or \\\n",
    "      not (data['uid'].value_counts()[data['uid'].value_counts() <= 5].empty):\n",
    "    offer_ids = data['offer_id'].value_counts()[data['offer_id'].value_counts() > 5].index\n",
    "    data = data[data['offer_id'].isin(offer_ids)]\n",
    "    uids = data['uid'].value_counts()[data['uid'].value_counts() > 5].index\n",
    "    data = data[data['uid'].isin(uids)]\n",
    "print(data.shape)"
   ]
  },
  {
   "cell_type": "markdown",
   "id": "513d243b",
   "metadata": {},
   "source": [
    "## Добавляем lst-features\n",
    "Чтобы выделить объявления для аренды и продажи"
   ]
  },
  {
   "cell_type": "code",
   "execution_count": 5,
   "id": "4a9c55b7",
   "metadata": {},
   "outputs": [],
   "source": [
    "data11 = pd.read_csv('lst_announcement_data_1.gzip', compression='gzip', usecols=['id', 'category'])\n",
    "data22 = pd.read_csv('lst_announcement_data_2.gzip', compression='gzip', usecols=['id', 'category'])\n",
    "data33 = pd.read_csv('lst_announcement_data_3.gzip', compression='gzip', usecols=['id', 'category'])"
   ]
  },
  {
   "cell_type": "code",
   "execution_count": 6,
   "id": "f3a0b036",
   "metadata": {},
   "outputs": [
    {
     "name": "stdout",
     "output_type": "stream",
     "text": [
      "(1000000, 2) (1000000, 2) (778005, 2)\n",
      "(1000000, 2) (1000000, 2) (778005, 2)\n",
      "after concating: (2778005, 2)\n",
      "after drop duplicates: (2778005, 2)\n"
     ]
    }
   ],
   "source": [
    "print(data11.shape, data22.shape, data33.shape)\n",
    "data11.drop_duplicates(subset=['id'], inplace=True)\n",
    "data22.drop_duplicates(subset=['id'], inplace=True)\n",
    "data33.drop_duplicates(subset=['id'], inplace=True)\n",
    "print(data11.shape, data22.shape, data33.shape)\n",
    "\n",
    "lst_features = pd.concat([data11, data22, data33])\n",
    "print('after concating:', lst_features.shape)\n",
    "lst_features.drop_duplicates(subset=['id'], inplace=True)\n",
    "print('after drop duplicates:', lst_features.shape)"
   ]
  },
  {
   "cell_type": "code",
   "execution_count": 7,
   "id": "da8e1318",
   "metadata": {},
   "outputs": [
    {
     "name": "stdout",
     "output_type": "stream",
     "text": [
      "['townhouseSale' 'commercialLandRent' 'landSale' 'flatRent' 'flatSale'\n",
      " 'houseSale' 'dailyHouseRent' 'newBuildingFlatSale' 'dailyFlatRent'\n",
      " 'shoppingAreaSale' 'cottageRent' 'roomRent' 'freeAppointmentObjectRent'\n",
      " 'businessSale' 'cottageSale' 'officeRent' 'freeAppointmentObjectSale'\n",
      " 'townhouseRent' 'garageSale' 'houseShareSale' 'industryRent' 'officeSale'\n",
      " 'roomSale' 'industrySale' 'warehouseRent' 'commercialLandSale'\n",
      " 'houseRent' 'houseShareRent' 'garageRent' 'shoppingAreaRent'\n",
      " 'buildingSale' 'dailyRoomRent' 'buildingRent' 'warehouseSale' 'bedRent'\n",
      " 'flatShareSale' 'dailyBedRent' 'businessRent']\n"
     ]
    }
   ],
   "source": [
    "print(lst_features['category'].unique())"
   ]
  },
  {
   "cell_type": "code",
   "execution_count": 8,
   "id": "e7ccecd5",
   "metadata": {},
   "outputs": [
    {
     "name": "stderr",
     "output_type": "stream",
     "text": [
      "100%|█████████████████████████████| 2778005/2778005 [00:03<00:00, 833290.06it/s]\n"
     ]
    },
    {
     "data": {
      "text/plain": [
       "array([nan,  0.,  1.])"
      ]
     },
     "execution_count": 8,
     "metadata": {},
     "output_type": "execute_result"
    }
   ],
   "source": [
    "def sale_rent(arg):\n",
    "    \"\"\"\n",
    "        кодируем объявления продажи 1\n",
    "        аренды - 0\n",
    "    \"\"\"\n",
    "    if 'flatSale' in arg or 'newBuildingFlatSale' in arg:\n",
    "        return 1\n",
    "    if 'flatRent' in arg:\n",
    "        return 0\n",
    "    else:\n",
    "        return np.nan\n",
    "lst_features['category'] = lst_features['category'].progress_apply(sale_rent)\n",
    "lst_features['category'].unique()"
   ]
  },
  {
   "cell_type": "code",
   "execution_count": 9,
   "id": "5a458642",
   "metadata": {},
   "outputs": [
    {
     "name": "stdout",
     "output_type": "stream",
     "text": [
      "(4366021, 10)\n"
     ]
    },
    {
     "data": {
      "text/html": [
       "<div>\n",
       "<style scoped>\n",
       "    .dataframe tbody tr th:only-of-type {\n",
       "        vertical-align: middle;\n",
       "    }\n",
       "\n",
       "    .dataframe tbody tr th {\n",
       "        vertical-align: top;\n",
       "    }\n",
       "\n",
       "    .dataframe thead th {\n",
       "        text-align: right;\n",
       "    }\n",
       "</style>\n",
       "<table border=\"1\" class=\"dataframe\">\n",
       "  <thead>\n",
       "    <tr style=\"text-align: right;\">\n",
       "      <th></th>\n",
       "      <th>timestamp</th>\n",
       "      <th>hit_id</th>\n",
       "      <th>uid</th>\n",
       "      <th>platform</th>\n",
       "      <th>event_name</th>\n",
       "      <th>screen</th>\n",
       "      <th>offer_id</th>\n",
       "      <th>ptn_dadd</th>\n",
       "      <th>id</th>\n",
       "      <th>category</th>\n",
       "    </tr>\n",
       "  </thead>\n",
       "  <tbody>\n",
       "    <tr>\n",
       "      <th>0</th>\n",
       "      <td>2022-07-16 00:00:12.928</td>\n",
       "      <td>cd1a21ecfd2f47f7</td>\n",
       "      <td>21404791</td>\n",
       "      <td>android</td>\n",
       "      <td>OpenOfferScreen</td>\n",
       "      <td>SearchResultsList</td>\n",
       "      <td>271617821</td>\n",
       "      <td>2022-07-16</td>\n",
       "      <td>271617821.0</td>\n",
       "      <td>1.0</td>\n",
       "    </tr>\n",
       "    <tr>\n",
       "      <th>1</th>\n",
       "      <td>2022-07-13 22:38:12.355</td>\n",
       "      <td>c326f40e13654821</td>\n",
       "      <td>92254503</td>\n",
       "      <td>ios</td>\n",
       "      <td>OpenOfferScreen</td>\n",
       "      <td>MapScreen</td>\n",
       "      <td>275559266</td>\n",
       "      <td>2022-07-13</td>\n",
       "      <td>275559266.0</td>\n",
       "      <td>0.0</td>\n",
       "    </tr>\n",
       "    <tr>\n",
       "      <th>2</th>\n",
       "      <td>2022-07-13 22:38:32.488</td>\n",
       "      <td>b75ee3fac5964206</td>\n",
       "      <td>33791824</td>\n",
       "      <td>ios</td>\n",
       "      <td>OpenOfferScreen</td>\n",
       "      <td>MapScreen</td>\n",
       "      <td>274687903</td>\n",
       "      <td>2022-07-13</td>\n",
       "      <td>274687903.0</td>\n",
       "      <td>1.0</td>\n",
       "    </tr>\n",
       "    <tr>\n",
       "      <th>3</th>\n",
       "      <td>2022-07-13 22:38:52.902</td>\n",
       "      <td>6ba2fd0f39b844af</td>\n",
       "      <td>12536475</td>\n",
       "      <td>android</td>\n",
       "      <td>OpenOfferScreen</td>\n",
       "      <td>BookmarksScreen</td>\n",
       "      <td>275136292</td>\n",
       "      <td>2022-07-13</td>\n",
       "      <td>275136292.0</td>\n",
       "      <td>1.0</td>\n",
       "    </tr>\n",
       "    <tr>\n",
       "      <th>4</th>\n",
       "      <td>2022-07-13 22:39:38.156</td>\n",
       "      <td>29ee5e2791af466a</td>\n",
       "      <td>15764141</td>\n",
       "      <td>ios</td>\n",
       "      <td>OpenOfferScreen</td>\n",
       "      <td>MapScreen</td>\n",
       "      <td>271908694</td>\n",
       "      <td>2022-07-13</td>\n",
       "      <td>271908694.0</td>\n",
       "      <td>NaN</td>\n",
       "    </tr>\n",
       "  </tbody>\n",
       "</table>\n",
       "</div>"
      ],
      "text/plain": [
       "                timestamp            hit_id       uid platform  \\\n",
       "0 2022-07-16 00:00:12.928  cd1a21ecfd2f47f7  21404791  android   \n",
       "1 2022-07-13 22:38:12.355  c326f40e13654821  92254503      ios   \n",
       "2 2022-07-13 22:38:32.488  b75ee3fac5964206  33791824      ios   \n",
       "3 2022-07-13 22:38:52.902  6ba2fd0f39b844af  12536475  android   \n",
       "4 2022-07-13 22:39:38.156  29ee5e2791af466a  15764141      ios   \n",
       "\n",
       "        event_name             screen   offer_id    ptn_dadd           id  \\\n",
       "0  OpenOfferScreen  SearchResultsList  271617821  2022-07-16  271617821.0   \n",
       "1  OpenOfferScreen          MapScreen  275559266  2022-07-13  275559266.0   \n",
       "2  OpenOfferScreen          MapScreen  274687903  2022-07-13  274687903.0   \n",
       "3  OpenOfferScreen    BookmarksScreen  275136292  2022-07-13  275136292.0   \n",
       "4  OpenOfferScreen          MapScreen  271908694  2022-07-13  271908694.0   \n",
       "\n",
       "   category  \n",
       "0       1.0  \n",
       "1       0.0  \n",
       "2       1.0  \n",
       "3       1.0  \n",
       "4       NaN  "
      ]
     },
     "execution_count": 9,
     "metadata": {},
     "output_type": "execute_result"
    }
   ],
   "source": [
    "merged = data.merge(lst_features, left_on='offer_id', right_on='id', how='left')\n",
    "print(merged.shape)\n",
    "merged.head()"
   ]
  },
  {
   "cell_type": "code",
   "execution_count": 10,
   "id": "c1725bc8",
   "metadata": {},
   "outputs": [
    {
     "data": {
      "text/html": [
       "<div>\n",
       "<style scoped>\n",
       "    .dataframe tbody tr th:only-of-type {\n",
       "        vertical-align: middle;\n",
       "    }\n",
       "\n",
       "    .dataframe tbody tr th {\n",
       "        vertical-align: top;\n",
       "    }\n",
       "\n",
       "    .dataframe thead th {\n",
       "        text-align: right;\n",
       "    }\n",
       "</style>\n",
       "<table border=\"1\" class=\"dataframe\">\n",
       "  <thead>\n",
       "    <tr style=\"text-align: right;\">\n",
       "      <th></th>\n",
       "      <th>uid</th>\n",
       "      <th>count</th>\n",
       "      <th>sum</th>\n",
       "    </tr>\n",
       "  </thead>\n",
       "  <tbody>\n",
       "    <tr>\n",
       "      <th>0</th>\n",
       "      <td>0001d81a-d960-4556-ac84-bdcfa1bb5bcd</td>\n",
       "      <td>17</td>\n",
       "      <td>17.0</td>\n",
       "    </tr>\n",
       "    <tr>\n",
       "      <th>1</th>\n",
       "      <td>000490b4-9978-408d-b133-85a58146af23</td>\n",
       "      <td>9</td>\n",
       "      <td>8.0</td>\n",
       "    </tr>\n",
       "    <tr>\n",
       "      <th>2</th>\n",
       "      <td>000695d8-e5c2-4d64-a570-2d5432575dc7</td>\n",
       "      <td>1</td>\n",
       "      <td>1.0</td>\n",
       "    </tr>\n",
       "    <tr>\n",
       "      <th>3</th>\n",
       "      <td>00083E71-627E-4922-9714-CFB9CB05016F</td>\n",
       "      <td>1</td>\n",
       "      <td>1.0</td>\n",
       "    </tr>\n",
       "    <tr>\n",
       "      <th>4</th>\n",
       "      <td>00098EAF-21C2-41E6-AE6C-9F96DD5408CC</td>\n",
       "      <td>13</td>\n",
       "      <td>0.0</td>\n",
       "    </tr>\n",
       "    <tr>\n",
       "      <th>...</th>\n",
       "      <td>...</td>\n",
       "      <td>...</td>\n",
       "      <td>...</td>\n",
       "    </tr>\n",
       "    <tr>\n",
       "      <th>217708</th>\n",
       "      <td>ffe558c1-8cf0-4373-984c-6757c9aeedc3</td>\n",
       "      <td>5</td>\n",
       "      <td>0.0</td>\n",
       "    </tr>\n",
       "    <tr>\n",
       "      <th>217709</th>\n",
       "      <td>fff12f36-aafc-4563-af81-e8a5155a7b60</td>\n",
       "      <td>6</td>\n",
       "      <td>6.0</td>\n",
       "    </tr>\n",
       "    <tr>\n",
       "      <th>217710</th>\n",
       "      <td>fff3cbe3-da73-438c-a16c-020b5219d4e1</td>\n",
       "      <td>16</td>\n",
       "      <td>0.0</td>\n",
       "    </tr>\n",
       "    <tr>\n",
       "      <th>217711</th>\n",
       "      <td>fffb9859-ba42-4920-ab3c-80779491c582</td>\n",
       "      <td>7</td>\n",
       "      <td>7.0</td>\n",
       "    </tr>\n",
       "    <tr>\n",
       "      <th>217712</th>\n",
       "      <td>fffcc353-1425-4887-aea6-0c242ab7d50b</td>\n",
       "      <td>7</td>\n",
       "      <td>0.0</td>\n",
       "    </tr>\n",
       "  </tbody>\n",
       "</table>\n",
       "<p>217713 rows × 3 columns</p>\n",
       "</div>"
      ],
      "text/plain": [
       "                                         uid  count   sum\n",
       "0       0001d81a-d960-4556-ac84-bdcfa1bb5bcd     17  17.0\n",
       "1       000490b4-9978-408d-b133-85a58146af23      9   8.0\n",
       "2       000695d8-e5c2-4d64-a570-2d5432575dc7      1   1.0\n",
       "3       00083E71-627E-4922-9714-CFB9CB05016F      1   1.0\n",
       "4       00098EAF-21C2-41E6-AE6C-9F96DD5408CC     13   0.0\n",
       "...                                      ...    ...   ...\n",
       "217708  ffe558c1-8cf0-4373-984c-6757c9aeedc3      5   0.0\n",
       "217709  fff12f36-aafc-4563-af81-e8a5155a7b60      6   6.0\n",
       "217710  fff3cbe3-da73-438c-a16c-020b5219d4e1     16   0.0\n",
       "217711  fffb9859-ba42-4920-ab3c-80779491c582      7   7.0\n",
       "217712  fffcc353-1425-4887-aea6-0c242ab7d50b      7   0.0\n",
       "\n",
       "[217713 rows x 3 columns]"
      ]
     },
     "execution_count": 10,
     "metadata": {},
     "output_type": "execute_result"
    }
   ],
   "source": [
    "grouped = merged.groupby(['uid'])['category'].agg(['count', 'sum']).reset_index()\n",
    "grouped"
   ]
  },
  {
   "cell_type": "code",
   "execution_count": 11,
   "id": "8a374c05",
   "metadata": {},
   "outputs": [
    {
     "name": "stderr",
     "output_type": "stream",
     "text": [
      "100%|███████████████████████████████| 217713/217713 [00:00<00:00, 729042.19it/s]\n"
     ]
    },
    {
     "name": "stdout",
     "output_type": "stream",
     "text": [
      "(217713, 5)\n",
      "(170419, 5)\n"
     ]
    }
   ],
   "source": [
    "users = data['uid'].unique()\n",
    "grouped['per'] = grouped['sum'] / grouped['count']\n",
    "\n",
    "def enc_pref(arg):\n",
    "    \"\"\"\n",
    "        кто больше интересуется продажей - 1\n",
    "        кто больше интересуется арендой - 0\n",
    "    \"\"\"\n",
    "    if arg > 0.8:\n",
    "        return 1\n",
    "    elif arg < 0.2:\n",
    "        return 0\n",
    "    else:\n",
    "        return -1\n",
    "grouped['pref'] = grouped['per'].progress_apply(enc_pref)\n",
    "print(grouped.shape)\n",
    "grouped = grouped[grouped['pref'] >= 0]\n",
    "print(grouped.shape)"
   ]
  },
  {
   "cell_type": "code",
   "execution_count": 12,
   "id": "b3d7e3af",
   "metadata": {},
   "outputs": [
    {
     "name": "stderr",
     "output_type": "stream",
     "text": [
      "/var/folders/8w/sx6j7f5d7td7tzr3k347hzkc0000gn/T/ipykernel_23195/1082563966.py:3: SettingWithCopyWarning: \n",
      "A value is trying to be set on a copy of a slice from a DataFrame.\n",
      "Try using .loc[row_indexer,col_indexer] = value instead\n",
      "\n",
      "See the caveats in the documentation: https://pandas.pydata.org/pandas-docs/stable/user_guide/indexing.html#returning-a-view-versus-a-copy\n",
      "  grouped['uid_enc'] = grouped['uid'].map(uid_encoder) + 1\n"
     ]
    }
   ],
   "source": [
    "with open('mapping_out_seq.json') as f:\n",
    "    uid_encoder = json.load(f)\n",
    "grouped['uid_enc'] = grouped['uid'].map(uid_encoder) + 1"
   ]
  },
  {
   "cell_type": "code",
   "execution_count": 13,
   "id": "80de4500",
   "metadata": {},
   "outputs": [
    {
     "name": "stderr",
     "output_type": "stream",
     "text": [
      "/Users/maria/opt/anaconda3/lib/python3.9/site-packages/pandas/util/_decorators.py:311: SettingWithCopyWarning: \n",
      "A value is trying to be set on a copy of a slice from a DataFrame\n",
      "\n",
      "See the caveats in the documentation: https://pandas.pydata.org/pandas-docs/stable/user_guide/indexing.html#returning-a-view-versus-a-copy\n",
      "  return func(*args, **kwargs)\n"
     ]
    }
   ],
   "source": [
    "grouped.dropna(inplace=True)"
   ]
  },
  {
   "cell_type": "code",
   "execution_count": 14,
   "id": "8ab65254",
   "metadata": {},
   "outputs": [
    {
     "name": "stderr",
     "output_type": "stream",
     "text": [
      "/var/folders/8w/sx6j7f5d7td7tzr3k347hzkc0000gn/T/ipykernel_23195/2213641113.py:1: SettingWithCopyWarning: \n",
      "A value is trying to be set on a copy of a slice from a DataFrame.\n",
      "Try using .loc[row_indexer,col_indexer] = value instead\n",
      "\n",
      "See the caveats in the documentation: https://pandas.pydata.org/pandas-docs/stable/user_guide/indexing.html#returning-a-view-versus-a-copy\n",
      "  grouped['uid_enc'] = grouped['uid_enc'].astype(int)\n"
     ]
    },
    {
     "data": {
      "text/html": [
       "<div>\n",
       "<style scoped>\n",
       "    .dataframe tbody tr th:only-of-type {\n",
       "        vertical-align: middle;\n",
       "    }\n",
       "\n",
       "    .dataframe tbody tr th {\n",
       "        vertical-align: top;\n",
       "    }\n",
       "\n",
       "    .dataframe thead th {\n",
       "        text-align: right;\n",
       "    }\n",
       "</style>\n",
       "<table border=\"1\" class=\"dataframe\">\n",
       "  <thead>\n",
       "    <tr style=\"text-align: right;\">\n",
       "      <th></th>\n",
       "      <th>uid</th>\n",
       "      <th>count</th>\n",
       "      <th>sum</th>\n",
       "      <th>per</th>\n",
       "      <th>pref</th>\n",
       "      <th>uid_enc</th>\n",
       "    </tr>\n",
       "  </thead>\n",
       "  <tbody>\n",
       "    <tr>\n",
       "      <th>2</th>\n",
       "      <td>000695d8-e5c2-4d64-a570-2d5432575dc7</td>\n",
       "      <td>1</td>\n",
       "      <td>1.0</td>\n",
       "      <td>1.0</td>\n",
       "      <td>1</td>\n",
       "      <td>14908</td>\n",
       "    </tr>\n",
       "    <tr>\n",
       "      <th>3</th>\n",
       "      <td>00083E71-627E-4922-9714-CFB9CB05016F</td>\n",
       "      <td>1</td>\n",
       "      <td>1.0</td>\n",
       "      <td>1.0</td>\n",
       "      <td>1</td>\n",
       "      <td>77272</td>\n",
       "    </tr>\n",
       "    <tr>\n",
       "      <th>4</th>\n",
       "      <td>00098EAF-21C2-41E6-AE6C-9F96DD5408CC</td>\n",
       "      <td>13</td>\n",
       "      <td>0.0</td>\n",
       "      <td>0.0</td>\n",
       "      <td>0</td>\n",
       "      <td>153632</td>\n",
       "    </tr>\n",
       "    <tr>\n",
       "      <th>6</th>\n",
       "      <td>000AB396-667C-45B3-A4B5-9FC6CCDAF604</td>\n",
       "      <td>14</td>\n",
       "      <td>14.0</td>\n",
       "      <td>1.0</td>\n",
       "      <td>1</td>\n",
       "      <td>172584</td>\n",
       "    </tr>\n",
       "    <tr>\n",
       "      <th>10</th>\n",
       "      <td>000ce71d-e87f-4e76-901f-decef1606cea</td>\n",
       "      <td>17</td>\n",
       "      <td>17.0</td>\n",
       "      <td>1.0</td>\n",
       "      <td>1</td>\n",
       "      <td>114597</td>\n",
       "    </tr>\n",
       "    <tr>\n",
       "      <th>...</th>\n",
       "      <td>...</td>\n",
       "      <td>...</td>\n",
       "      <td>...</td>\n",
       "      <td>...</td>\n",
       "      <td>...</td>\n",
       "      <td>...</td>\n",
       "    </tr>\n",
       "    <tr>\n",
       "      <th>217702</th>\n",
       "      <td>ffddc5bf-6ee4-4c87-84b7-17d558349072</td>\n",
       "      <td>18</td>\n",
       "      <td>18.0</td>\n",
       "      <td>1.0</td>\n",
       "      <td>1</td>\n",
       "      <td>234623</td>\n",
       "    </tr>\n",
       "    <tr>\n",
       "      <th>217703</th>\n",
       "      <td>ffe09535-50e0-4d85-ac59-f35d27012fd6</td>\n",
       "      <td>7</td>\n",
       "      <td>7.0</td>\n",
       "      <td>1.0</td>\n",
       "      <td>1</td>\n",
       "      <td>115362</td>\n",
       "    </tr>\n",
       "    <tr>\n",
       "      <th>217704</th>\n",
       "      <td>ffe2cecd-a242-4cbf-909c-7a5cb6a8aea1</td>\n",
       "      <td>9</td>\n",
       "      <td>0.0</td>\n",
       "      <td>0.0</td>\n",
       "      <td>0</td>\n",
       "      <td>352851</td>\n",
       "    </tr>\n",
       "    <tr>\n",
       "      <th>217705</th>\n",
       "      <td>ffe31461-e6d7-479b-adfb-d5003a79c968</td>\n",
       "      <td>21</td>\n",
       "      <td>21.0</td>\n",
       "      <td>1.0</td>\n",
       "      <td>1</td>\n",
       "      <td>120610</td>\n",
       "    </tr>\n",
       "    <tr>\n",
       "      <th>217712</th>\n",
       "      <td>fffcc353-1425-4887-aea6-0c242ab7d50b</td>\n",
       "      <td>7</td>\n",
       "      <td>0.0</td>\n",
       "      <td>0.0</td>\n",
       "      <td>0</td>\n",
       "      <td>73341</td>\n",
       "    </tr>\n",
       "  </tbody>\n",
       "</table>\n",
       "<p>120208 rows × 6 columns</p>\n",
       "</div>"
      ],
      "text/plain": [
       "                                         uid  count   sum  per  pref  uid_enc\n",
       "2       000695d8-e5c2-4d64-a570-2d5432575dc7      1   1.0  1.0     1    14908\n",
       "3       00083E71-627E-4922-9714-CFB9CB05016F      1   1.0  1.0     1    77272\n",
       "4       00098EAF-21C2-41E6-AE6C-9F96DD5408CC     13   0.0  0.0     0   153632\n",
       "6       000AB396-667C-45B3-A4B5-9FC6CCDAF604     14  14.0  1.0     1   172584\n",
       "10      000ce71d-e87f-4e76-901f-decef1606cea     17  17.0  1.0     1   114597\n",
       "...                                      ...    ...   ...  ...   ...      ...\n",
       "217702  ffddc5bf-6ee4-4c87-84b7-17d558349072     18  18.0  1.0     1   234623\n",
       "217703  ffe09535-50e0-4d85-ac59-f35d27012fd6      7   7.0  1.0     1   115362\n",
       "217704  ffe2cecd-a242-4cbf-909c-7a5cb6a8aea1      9   0.0  0.0     0   352851\n",
       "217705  ffe31461-e6d7-479b-adfb-d5003a79c968     21  21.0  1.0     1   120610\n",
       "217712  fffcc353-1425-4887-aea6-0c242ab7d50b      7   0.0  0.0     0    73341\n",
       "\n",
       "[120208 rows x 6 columns]"
      ]
     },
     "execution_count": 14,
     "metadata": {},
     "output_type": "execute_result"
    }
   ],
   "source": [
    "grouped['uid_enc'] = grouped['uid_enc'].astype(int)\n",
    "grouped[['uid_enc', 'pref']].to_csv('uid_12_week_preferences.csv')\n",
    "grouped"
   ]
  },
  {
   "cell_type": "markdown",
   "id": "03f9501a",
   "metadata": {},
   "source": [
    "======================================================================="
   ]
  },
  {
   "cell_type": "markdown",
   "id": "7d01daa6",
   "metadata": {},
   "source": [
    "## Составляем итоговый датасет\n",
    "Эмбеды пользователей из модели - признаки (с первой недели)\n",
    "\n",
    "Предпочтения пользователя, которые только что получили - таргет (со второй недели)"
   ]
  },
  {
   "cell_type": "code",
   "execution_count": 15,
   "id": "faad9da4",
   "metadata": {},
   "outputs": [
    {
     "data": {
      "text/html": [
       "<div>\n",
       "<style scoped>\n",
       "    .dataframe tbody tr th:only-of-type {\n",
       "        vertical-align: middle;\n",
       "    }\n",
       "\n",
       "    .dataframe tbody tr th {\n",
       "        vertical-align: top;\n",
       "    }\n",
       "\n",
       "    .dataframe thead th {\n",
       "        text-align: right;\n",
       "    }\n",
       "</style>\n",
       "<table border=\"1\" class=\"dataframe\">\n",
       "  <thead>\n",
       "    <tr style=\"text-align: right;\">\n",
       "      <th></th>\n",
       "      <th>0</th>\n",
       "      <th>1</th>\n",
       "      <th>2</th>\n",
       "      <th>3</th>\n",
       "      <th>4</th>\n",
       "      <th>5</th>\n",
       "      <th>6</th>\n",
       "      <th>7</th>\n",
       "      <th>8</th>\n",
       "      <th>9</th>\n",
       "      <th>...</th>\n",
       "      <th>91</th>\n",
       "      <th>92</th>\n",
       "      <th>93</th>\n",
       "      <th>94</th>\n",
       "      <th>95</th>\n",
       "      <th>96</th>\n",
       "      <th>97</th>\n",
       "      <th>98</th>\n",
       "      <th>99</th>\n",
       "      <th>num</th>\n",
       "    </tr>\n",
       "  </thead>\n",
       "  <tbody>\n",
       "    <tr>\n",
       "      <th>0</th>\n",
       "      <td>0.876574</td>\n",
       "      <td>0.080785</td>\n",
       "      <td>8.623681</td>\n",
       "      <td>3.210420</td>\n",
       "      <td>2.515167</td>\n",
       "      <td>-1.659250</td>\n",
       "      <td>3.187721</td>\n",
       "      <td>4.355467</td>\n",
       "      <td>0.035435</td>\n",
       "      <td>-4.659596</td>\n",
       "      <td>...</td>\n",
       "      <td>-1.258561</td>\n",
       "      <td>1.693343</td>\n",
       "      <td>-1.452698</td>\n",
       "      <td>-2.223263</td>\n",
       "      <td>-0.626605</td>\n",
       "      <td>2.716868</td>\n",
       "      <td>3.236983</td>\n",
       "      <td>-0.680937</td>\n",
       "      <td>-1.195604</td>\n",
       "      <td>0</td>\n",
       "    </tr>\n",
       "    <tr>\n",
       "      <th>1</th>\n",
       "      <td>4.796618</td>\n",
       "      <td>1.073819</td>\n",
       "      <td>2.882599</td>\n",
       "      <td>-0.895706</td>\n",
       "      <td>3.312656</td>\n",
       "      <td>-3.419885</td>\n",
       "      <td>2.493178</td>\n",
       "      <td>5.870429</td>\n",
       "      <td>3.396194</td>\n",
       "      <td>-5.100319</td>\n",
       "      <td>...</td>\n",
       "      <td>-3.245037</td>\n",
       "      <td>1.357750</td>\n",
       "      <td>-2.459414</td>\n",
       "      <td>-2.612297</td>\n",
       "      <td>0.266907</td>\n",
       "      <td>2.706663</td>\n",
       "      <td>6.533426</td>\n",
       "      <td>3.658595</td>\n",
       "      <td>-1.058491</td>\n",
       "      <td>1</td>\n",
       "    </tr>\n",
       "    <tr>\n",
       "      <th>2</th>\n",
       "      <td>1.678901</td>\n",
       "      <td>-0.870985</td>\n",
       "      <td>8.215559</td>\n",
       "      <td>-1.460267</td>\n",
       "      <td>6.422165</td>\n",
       "      <td>-2.986025</td>\n",
       "      <td>0.550298</td>\n",
       "      <td>6.478464</td>\n",
       "      <td>2.385857</td>\n",
       "      <td>-4.605580</td>\n",
       "      <td>...</td>\n",
       "      <td>-3.400242</td>\n",
       "      <td>-2.355995</td>\n",
       "      <td>-0.090732</td>\n",
       "      <td>-0.994794</td>\n",
       "      <td>0.028755</td>\n",
       "      <td>5.719481</td>\n",
       "      <td>4.812598</td>\n",
       "      <td>1.217735</td>\n",
       "      <td>-4.290208</td>\n",
       "      <td>2</td>\n",
       "    </tr>\n",
       "    <tr>\n",
       "      <th>3</th>\n",
       "      <td>-3.687217</td>\n",
       "      <td>2.894960</td>\n",
       "      <td>10.010080</td>\n",
       "      <td>-1.331110</td>\n",
       "      <td>6.923524</td>\n",
       "      <td>-1.010847</td>\n",
       "      <td>5.124724</td>\n",
       "      <td>4.497645</td>\n",
       "      <td>1.368332</td>\n",
       "      <td>-1.995275</td>\n",
       "      <td>...</td>\n",
       "      <td>-1.811968</td>\n",
       "      <td>-1.017258</td>\n",
       "      <td>-2.530054</td>\n",
       "      <td>-2.727057</td>\n",
       "      <td>-0.828689</td>\n",
       "      <td>4.212907</td>\n",
       "      <td>3.111273</td>\n",
       "      <td>2.260993</td>\n",
       "      <td>-0.037053</td>\n",
       "      <td>3</td>\n",
       "    </tr>\n",
       "    <tr>\n",
       "      <th>4</th>\n",
       "      <td>0.335711</td>\n",
       "      <td>-2.066123</td>\n",
       "      <td>9.004489</td>\n",
       "      <td>-0.921573</td>\n",
       "      <td>4.573396</td>\n",
       "      <td>-4.751493</td>\n",
       "      <td>2.778687</td>\n",
       "      <td>4.257411</td>\n",
       "      <td>3.657955</td>\n",
       "      <td>-5.171963</td>\n",
       "      <td>...</td>\n",
       "      <td>-3.287347</td>\n",
       "      <td>1.613672</td>\n",
       "      <td>0.527825</td>\n",
       "      <td>-0.785314</td>\n",
       "      <td>-0.859856</td>\n",
       "      <td>2.080764</td>\n",
       "      <td>2.854068</td>\n",
       "      <td>-0.190898</td>\n",
       "      <td>-0.833137</td>\n",
       "      <td>4</td>\n",
       "    </tr>\n",
       "  </tbody>\n",
       "</table>\n",
       "<p>5 rows × 101 columns</p>\n",
       "</div>"
      ],
      "text/plain": [
       "          0         1          2         3         4         5         6  \\\n",
       "0  0.876574  0.080785   8.623681  3.210420  2.515167 -1.659250  3.187721   \n",
       "1  4.796618  1.073819   2.882599 -0.895706  3.312656 -3.419885  2.493178   \n",
       "2  1.678901 -0.870985   8.215559 -1.460267  6.422165 -2.986025  0.550298   \n",
       "3 -3.687217  2.894960  10.010080 -1.331110  6.923524 -1.010847  5.124724   \n",
       "4  0.335711 -2.066123   9.004489 -0.921573  4.573396 -4.751493  2.778687   \n",
       "\n",
       "          7         8         9  ...        91        92        93        94  \\\n",
       "0  4.355467  0.035435 -4.659596  ... -1.258561  1.693343 -1.452698 -2.223263   \n",
       "1  5.870429  3.396194 -5.100319  ... -3.245037  1.357750 -2.459414 -2.612297   \n",
       "2  6.478464  2.385857 -4.605580  ... -3.400242 -2.355995 -0.090732 -0.994794   \n",
       "3  4.497645  1.368332 -1.995275  ... -1.811968 -1.017258 -2.530054 -2.727057   \n",
       "4  4.257411  3.657955 -5.171963  ... -3.287347  1.613672  0.527825 -0.785314   \n",
       "\n",
       "         95        96        97        98        99  num  \n",
       "0 -0.626605  2.716868  3.236983 -0.680937 -1.195604    0  \n",
       "1  0.266907  2.706663  6.533426  3.658595 -1.058491    1  \n",
       "2  0.028755  5.719481  4.812598  1.217735 -4.290208    2  \n",
       "3 -0.828689  4.212907  3.111273  2.260993 -0.037053    3  \n",
       "4 -0.859856  2.080764  2.854068 -0.190898 -0.833137    4  \n",
       "\n",
       "[5 rows x 101 columns]"
      ]
     },
     "execution_count": 15,
     "metadata": {},
     "output_type": "execute_result"
    }
   ],
   "source": [
    "user_embeds = np.load('user_embeddings_final.npy')\n",
    "user_embeds = pd.DataFrame(user_embeds, columns = range(user_embeds.shape[1]))\n",
    "user_embeds['num'] = range(user_embeds.shape[0])\n",
    "user_embeds.head()"
   ]
  },
  {
   "cell_type": "code",
   "execution_count": 17,
   "id": "d32b4d2a",
   "metadata": {},
   "outputs": [
    {
     "data": {
      "text/html": [
       "<div>\n",
       "<style scoped>\n",
       "    .dataframe tbody tr th:only-of-type {\n",
       "        vertical-align: middle;\n",
       "    }\n",
       "\n",
       "    .dataframe tbody tr th {\n",
       "        vertical-align: top;\n",
       "    }\n",
       "\n",
       "    .dataframe thead th {\n",
       "        text-align: right;\n",
       "    }\n",
       "</style>\n",
       "<table border=\"1\" class=\"dataframe\">\n",
       "  <thead>\n",
       "    <tr style=\"text-align: right;\">\n",
       "      <th></th>\n",
       "      <th>0</th>\n",
       "      <th>1</th>\n",
       "      <th>2</th>\n",
       "      <th>3</th>\n",
       "      <th>4</th>\n",
       "      <th>5</th>\n",
       "      <th>6</th>\n",
       "      <th>7</th>\n",
       "      <th>8</th>\n",
       "      <th>9</th>\n",
       "      <th>...</th>\n",
       "      <th>93</th>\n",
       "      <th>94</th>\n",
       "      <th>95</th>\n",
       "      <th>96</th>\n",
       "      <th>97</th>\n",
       "      <th>98</th>\n",
       "      <th>99</th>\n",
       "      <th>num</th>\n",
       "      <th>uid_enc</th>\n",
       "      <th>pref</th>\n",
       "    </tr>\n",
       "  </thead>\n",
       "  <tbody>\n",
       "    <tr>\n",
       "      <th>0</th>\n",
       "      <td>2.922725</td>\n",
       "      <td>0.830718</td>\n",
       "      <td>9.080918</td>\n",
       "      <td>-5.074210</td>\n",
       "      <td>7.456001</td>\n",
       "      <td>-0.255483</td>\n",
       "      <td>4.678610</td>\n",
       "      <td>7.503748</td>\n",
       "      <td>1.478974</td>\n",
       "      <td>-4.936927</td>\n",
       "      <td>...</td>\n",
       "      <td>0.887057</td>\n",
       "      <td>-2.739411</td>\n",
       "      <td>-4.122108</td>\n",
       "      <td>4.036154</td>\n",
       "      <td>1.399453</td>\n",
       "      <td>-3.438827</td>\n",
       "      <td>-1.153100</td>\n",
       "      <td>5</td>\n",
       "      <td>5</td>\n",
       "      <td>0</td>\n",
       "    </tr>\n",
       "    <tr>\n",
       "      <th>1</th>\n",
       "      <td>4.080510</td>\n",
       "      <td>0.593170</td>\n",
       "      <td>8.199186</td>\n",
       "      <td>-0.681509</td>\n",
       "      <td>2.790491</td>\n",
       "      <td>-3.139963</td>\n",
       "      <td>4.288406</td>\n",
       "      <td>2.628913</td>\n",
       "      <td>2.409329</td>\n",
       "      <td>-5.595078</td>\n",
       "      <td>...</td>\n",
       "      <td>-1.061931</td>\n",
       "      <td>-3.821832</td>\n",
       "      <td>-4.377748</td>\n",
       "      <td>0.712455</td>\n",
       "      <td>3.847312</td>\n",
       "      <td>0.833625</td>\n",
       "      <td>1.383679</td>\n",
       "      <td>7</td>\n",
       "      <td>7</td>\n",
       "      <td>1</td>\n",
       "    </tr>\n",
       "    <tr>\n",
       "      <th>2</th>\n",
       "      <td>6.448274</td>\n",
       "      <td>-0.432458</td>\n",
       "      <td>2.441519</td>\n",
       "      <td>-0.210807</td>\n",
       "      <td>3.417932</td>\n",
       "      <td>-1.393718</td>\n",
       "      <td>5.005304</td>\n",
       "      <td>-0.657679</td>\n",
       "      <td>4.510461</td>\n",
       "      <td>-2.432598</td>\n",
       "      <td>...</td>\n",
       "      <td>-0.518479</td>\n",
       "      <td>-3.621300</td>\n",
       "      <td>-5.126737</td>\n",
       "      <td>6.550021</td>\n",
       "      <td>3.019962</td>\n",
       "      <td>-0.780975</td>\n",
       "      <td>-1.335271</td>\n",
       "      <td>9</td>\n",
       "      <td>9</td>\n",
       "      <td>0</td>\n",
       "    </tr>\n",
       "    <tr>\n",
       "      <th>3</th>\n",
       "      <td>0.916382</td>\n",
       "      <td>-5.241655</td>\n",
       "      <td>8.070838</td>\n",
       "      <td>1.787305</td>\n",
       "      <td>5.989114</td>\n",
       "      <td>-5.491125</td>\n",
       "      <td>0.908961</td>\n",
       "      <td>3.160624</td>\n",
       "      <td>4.824673</td>\n",
       "      <td>-4.569901</td>\n",
       "      <td>...</td>\n",
       "      <td>-2.129529</td>\n",
       "      <td>-1.504479</td>\n",
       "      <td>0.143295</td>\n",
       "      <td>-0.473785</td>\n",
       "      <td>4.955160</td>\n",
       "      <td>1.703063</td>\n",
       "      <td>-3.454467</td>\n",
       "      <td>10</td>\n",
       "      <td>10</td>\n",
       "      <td>1</td>\n",
       "    </tr>\n",
       "    <tr>\n",
       "      <th>4</th>\n",
       "      <td>5.000651</td>\n",
       "      <td>0.733252</td>\n",
       "      <td>9.829646</td>\n",
       "      <td>0.338261</td>\n",
       "      <td>3.341683</td>\n",
       "      <td>-4.020606</td>\n",
       "      <td>1.996263</td>\n",
       "      <td>5.889336</td>\n",
       "      <td>1.988187</td>\n",
       "      <td>-5.366116</td>\n",
       "      <td>...</td>\n",
       "      <td>-2.910060</td>\n",
       "      <td>-3.205703</td>\n",
       "      <td>-4.104513</td>\n",
       "      <td>8.268032</td>\n",
       "      <td>7.330620</td>\n",
       "      <td>3.302877</td>\n",
       "      <td>-0.838978</td>\n",
       "      <td>11</td>\n",
       "      <td>11</td>\n",
       "      <td>1</td>\n",
       "    </tr>\n",
       "  </tbody>\n",
       "</table>\n",
       "<p>5 rows × 103 columns</p>\n",
       "</div>"
      ],
      "text/plain": [
       "          0         1         2         3         4         5         6  \\\n",
       "0  2.922725  0.830718  9.080918 -5.074210  7.456001 -0.255483  4.678610   \n",
       "1  4.080510  0.593170  8.199186 -0.681509  2.790491 -3.139963  4.288406   \n",
       "2  6.448274 -0.432458  2.441519 -0.210807  3.417932 -1.393718  5.005304   \n",
       "3  0.916382 -5.241655  8.070838  1.787305  5.989114 -5.491125  0.908961   \n",
       "4  5.000651  0.733252  9.829646  0.338261  3.341683 -4.020606  1.996263   \n",
       "\n",
       "          7         8         9  ...        93        94        95        96  \\\n",
       "0  7.503748  1.478974 -4.936927  ...  0.887057 -2.739411 -4.122108  4.036154   \n",
       "1  2.628913  2.409329 -5.595078  ... -1.061931 -3.821832 -4.377748  0.712455   \n",
       "2 -0.657679  4.510461 -2.432598  ... -0.518479 -3.621300 -5.126737  6.550021   \n",
       "3  3.160624  4.824673 -4.569901  ... -2.129529 -1.504479  0.143295 -0.473785   \n",
       "4  5.889336  1.988187 -5.366116  ... -2.910060 -3.205703 -4.104513  8.268032   \n",
       "\n",
       "         97        98        99  num  uid_enc  pref  \n",
       "0  1.399453 -3.438827 -1.153100    5        5     0  \n",
       "1  3.847312  0.833625  1.383679    7        7     1  \n",
       "2  3.019962 -0.780975 -1.335271    9        9     0  \n",
       "3  4.955160  1.703063 -3.454467   10       10     1  \n",
       "4  7.330620  3.302877 -0.838978   11       11     1  \n",
       "\n",
       "[5 rows x 103 columns]"
      ]
     },
     "execution_count": 17,
     "metadata": {},
     "output_type": "execute_result"
    }
   ],
   "source": [
    "final_data = user_embeds.merge(grouped[['uid_enc', 'pref']], left_on='num', right_on='uid_enc', how='inner')\n",
    "final_data.head()"
   ]
  },
  {
   "cell_type": "code",
   "execution_count": 18,
   "id": "597fff86",
   "metadata": {},
   "outputs": [],
   "source": [
    "final_data.drop(['uid_enc', 'num'], axis=1, inplace=True)"
   ]
  },
  {
   "cell_type": "markdown",
   "id": "fc2d4769",
   "metadata": {},
   "source": [
    "## Подстановка в модель"
   ]
  },
  {
   "cell_type": "code",
   "execution_count": 19,
   "id": "09953ac5",
   "metadata": {},
   "outputs": [
    {
     "name": "stdout",
     "output_type": "stream",
     "text": [
      "Collecting xgboost\n",
      "  Downloading xgboost-1.6.2-py3-none-macosx_10_15_x86_64.macosx_11_0_x86_64.macosx_12_0_x86_64.whl (1.7 MB)\n",
      "\u001b[2K     \u001b[90m━━━━━━━━━━━━━━━━━━━━━━━━━━━━━━━━━━━━━━━━\u001b[0m \u001b[32m1.7/1.7 MB\u001b[0m \u001b[31m3.3 MB/s\u001b[0m eta \u001b[36m0:00:00\u001b[0m00:01\u001b[0m00:01\u001b[0m\n",
      "\u001b[?25hRequirement already satisfied: scipy in /Users/maria/opt/anaconda3/lib/python3.9/site-packages (from xgboost) (1.7.1)\n",
      "Requirement already satisfied: numpy in /Users/maria/opt/anaconda3/lib/python3.9/site-packages (from xgboost) (1.20.3)\n",
      "Installing collected packages: xgboost\n",
      "Successfully installed xgboost-1.6.2\n",
      "\n",
      "\u001b[1m[\u001b[0m\u001b[34;49mnotice\u001b[0m\u001b[1;39;49m]\u001b[0m\u001b[39;49m A new release of pip available: \u001b[0m\u001b[31;49m22.1.2\u001b[0m\u001b[39;49m -> \u001b[0m\u001b[32;49m22.2.2\u001b[0m\n",
      "\u001b[1m[\u001b[0m\u001b[34;49mnotice\u001b[0m\u001b[1;39;49m]\u001b[0m\u001b[39;49m To update, run: \u001b[0m\u001b[32;49mpip install --upgrade pip\u001b[0m\n"
     ]
    }
   ],
   "source": [
    "! pip install xgboost"
   ]
  },
  {
   "cell_type": "code",
   "execution_count": 20,
   "id": "bebc81c6",
   "metadata": {},
   "outputs": [
    {
     "name": "stdout",
     "output_type": "stream",
     "text": [
      "Requirement already satisfied: pip in /Users/maria/opt/anaconda3/lib/python3.9/site-packages (22.1.2)\n",
      "Collecting pip\n",
      "  Downloading pip-22.2.2-py3-none-any.whl (2.0 MB)\n",
      "\u001b[2K     \u001b[90m━━━━━━━━━━━━━━━━━━━━━━━━━━━━━━━━━━━━━━━━\u001b[0m \u001b[32m2.0/2.0 MB\u001b[0m \u001b[31m4.2 MB/s\u001b[0m eta \u001b[36m0:00:00\u001b[0m00:01\u001b[0m00:01\u001b[0m\n",
      "\u001b[?25hInstalling collected packages: pip\n",
      "  Attempting uninstall: pip\n",
      "    Found existing installation: pip 22.1.2\n",
      "    Uninstalling pip-22.1.2:\n",
      "      Successfully uninstalled pip-22.1.2\n",
      "Successfully installed pip-22.2.2\n"
     ]
    }
   ],
   "source": [
    "! pip install --upgrade pip"
   ]
  },
  {
   "cell_type": "code",
   "execution_count": 21,
   "id": "244416f0",
   "metadata": {},
   "outputs": [],
   "source": [
    "from sklearn import model_selection\n",
    "import xgboost as xgb\n",
    "from sklearn.metrics import accuracy_score\n",
    "from sklearn.metrics import precision_score\n",
    "from sklearn.metrics import recall_score"
   ]
  },
  {
   "cell_type": "code",
   "execution_count": 23,
   "id": "3c3f1273",
   "metadata": {},
   "outputs": [],
   "source": [
    "X = final_data.drop(['pref'], axis=1)\n",
    "y = final_data['pref']"
   ]
  },
  {
   "cell_type": "code",
   "execution_count": 25,
   "id": "49fdbbda",
   "metadata": {},
   "outputs": [],
   "source": [
    "X_train, X_test, y_train, y_test = model_selection.train_test_split(X, y, test_size=0.2, \\\n",
    "                                                                    random_state=42)"
   ]
  },
  {
   "cell_type": "code",
   "execution_count": 26,
   "id": "3e13305e",
   "metadata": {},
   "outputs": [
    {
     "data": {
      "text/plain": [
       "0.6308082698947544"
      ]
     },
     "execution_count": 26,
     "metadata": {},
     "output_type": "execute_result"
    }
   ],
   "source": [
    "# Init classifier\n",
    "xgb_cl = xgb.XGBClassifier()\n",
    "\n",
    "# Fit\n",
    "xgb_cl.fit(X_train, y_train)\n",
    "\n",
    "# Predict\n",
    "preds = xgb_cl.predict(X_test)\n",
    "\n",
    "# Score\n",
    "accuracy_score(y_test, preds)"
   ]
  },
  {
   "cell_type": "code",
   "execution_count": 27,
   "id": "2ad28621",
   "metadata": {},
   "outputs": [
    {
     "data": {
      "text/plain": [
       "0.6432904211215361"
      ]
     },
     "execution_count": 27,
     "metadata": {},
     "output_type": "execute_result"
    }
   ],
   "source": [
    "precision_score(y_test, preds)"
   ]
  },
  {
   "cell_type": "code",
   "execution_count": 28,
   "id": "635881db",
   "metadata": {},
   "outputs": [
    {
     "data": {
      "text/plain": [
       "0.9546043258645254"
      ]
     },
     "execution_count": 28,
     "metadata": {},
     "output_type": "execute_result"
    }
   ],
   "source": [
    "recall_score(y_test, preds)"
   ]
  },
  {
   "cell_type": "code",
   "execution_count": 31,
   "id": "d28c867c",
   "metadata": {},
   "outputs": [
    {
     "name": "stdout",
     "output_type": "stream",
     "text": [
      "1    0.6463\n",
      "0    0.3537\n",
      "Name: pref, dtype: float64\n"
     ]
    },
    {
     "data": {
      "text/plain": [
       "1    0.642373\n",
       "0    0.357627\n",
       "Name: pref, dtype: float64"
      ]
     },
     "execution_count": 31,
     "metadata": {},
     "output_type": "execute_result"
    }
   ],
   "source": [
    "print(y_train.value_counts(normalize=True))\n",
    "y_test.value_counts(normalize=True)"
   ]
  },
  {
   "cell_type": "code",
   "execution_count": 32,
   "id": "f306ed75",
   "metadata": {},
   "outputs": [
    {
     "data": {
      "text/plain": [
       "0.5019037681433828"
      ]
     },
     "execution_count": 32,
     "metadata": {},
     "output_type": "execute_result"
    }
   ],
   "source": [
    "from sklearn.metrics import roc_auc_score\n",
    "roc_auc_score(y_test, preds)"
   ]
  },
  {
   "cell_type": "code",
   "execution_count": null,
   "id": "a8564d76",
   "metadata": {},
   "outputs": [],
   "source": []
  },
  {
   "cell_type": "code",
   "execution_count": null,
   "id": "28d0bf86",
   "metadata": {},
   "outputs": [],
   "source": []
  },
  {
   "cell_type": "code",
   "execution_count": null,
   "id": "3cdca7b7",
   "metadata": {},
   "outputs": [],
   "source": [
    "# Создание матриц наблюдений в формате DMatrix\n",
    "dtrain = xgb.DMatrix(X_train, label=y_train)\n",
    "dtest = xgb.DMatrix(X_test)"
   ]
  },
  {
   "cell_type": "code",
   "execution_count": null,
   "id": "1fc6eada",
   "metadata": {},
   "outputs": [],
   "source": [
    "# Гиперпараметры модели\n",
    "xgb_pars = {'min_child_weight': 20, 'eta': 0.1, 'colsample_bytree': 0.9, \n",
    "            'max_depth': 6, 'subsample': 0.9, 'lambda': 1, 'nthread': -1, \n",
    "            'booster' : 'gbtree', 'eval_metric': ['precision', 'recall']#, 'objective': 'reg:squarederror'\n",
    "           }\n",
    "# Тренировочная и валидационная выборка\n",
    "watchlist = [(dtrain, 'train'), (dtest, 'test')]\n",
    "# Обучаем модель XGBoost\n",
    "model = xgb.train(\n",
    "    params=xgb_pars, #гиперпараметры модели\n",
    "    dtrain=dtrain, #обучающая выборка\n",
    "    num_boost_round=300, #количество моделей в ансамбле\n",
    "    evals=watchlist, #выборки, на которых считается матрица\n",
    "    early_stopping_rounds=20, #раняя остановка\n",
    "    maximize=False, #смена поиска максимума на минимум\n",
    "    verbose_eval=10 #шаг, через который происходит отображение метрик\n",
    ")"
   ]
  },
  {
   "cell_type": "code",
   "execution_count": null,
   "id": "0f47b231",
   "metadata": {},
   "outputs": [],
   "source": [
    "#Делаем предсказание на тестовом наборе данных\n",
    "y_test_predict = np.exp(model.predict(dtest)) - 1\n",
    "print('Modeling RMSLE %.5f' % model.best_score)"
   ]
  },
  {
   "cell_type": "code",
   "execution_count": null,
   "id": "b155f6cf",
   "metadata": {},
   "outputs": [],
   "source": []
  },
  {
   "cell_type": "code",
   "execution_count": null,
   "id": "da7077eb",
   "metadata": {},
   "outputs": [],
   "source": []
  }
 ],
 "metadata": {
  "kernelspec": {
   "display_name": "Python 3 (ipykernel)",
   "language": "python",
   "name": "python3"
  },
  "language_info": {
   "codemirror_mode": {
    "name": "ipython",
    "version": 3
   },
   "file_extension": ".py",
   "mimetype": "text/x-python",
   "name": "python",
   "nbconvert_exporter": "python",
   "pygments_lexer": "ipython3",
   "version": "3.9.7"
  }
 },
 "nbformat": 4,
 "nbformat_minor": 5
}
